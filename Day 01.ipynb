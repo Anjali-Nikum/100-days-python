{
 "cells": [
  {
   "cell_type": "code",
   "execution_count": null,
   "id": "dacc5788",
   "metadata": {},
   "outputs": [],
   "source": []
  },
  {
   "cell_type": "markdown",
   "id": "fcd1ee60",
   "metadata": {},
   "source": [
    "# Day 1"
   ]
  },
  {
   "cell_type": "markdown",
   "id": "e0695997",
   "metadata": {},
   "source": [
    "### Installation of Python and IDE (Replit,vscode, jupyter, spyder)\n"
   ]
  },
  {
   "cell_type": "markdown",
   "id": "63b4e551",
   "metadata": {},
   "source": [
    "## What is Programming?\n",
    "#### Programming is a way for us to tell computer what to do.\n",
    "#### Computer is a very dumb machine and only does what we tell it to do "
   ]
  },
  {
   "cell_type": "markdown",
   "id": "f25bcc13",
   "metadata": {},
   "source": [
    "## What is Python ?\n",
    "Python is dynamically typed, general purpose programming languages that supports an Object oriented programming approach as well as a functional approach.\n",
    "Python is an interpreted and high-level programming language.\n",
    "    It was created by Guido Van Rosssum in 1989."
   ]
  },
  {
   "cell_type": "markdown",
   "id": "4bc83ed6",
   "metadata": {},
   "source": [
    "## Features of Python\n",
    "Python is simple and easy to understand.\n",
    "It is interpreted and platform independent, which makes debugging very easy.\n",
    "Python is an open source programming language.\n",
    "Python provide very big libraries include Numpy, Tensorflow, Selenium, openCV etc.\n",
    "It is possible to integrate other programming language within python"
   ]
  },
  {
   "cell_type": "markdown",
   "id": "bd53606c",
   "metadata": {},
   "source": [
    "## What is Python used for\n",
    "Data visualization to create plots and graphical representation.\n",
    "Data analytics to analyze and understand raw data for insights and trends.\n",
    "AI and ML to simulate human behaviour and to learn from past data without hard coding.\n",
    "Python used for handle large database"
   ]
  },
  {
   "cell_type": "code",
   "execution_count": 1,
   "id": "b4f0ec6f",
   "metadata": {},
   "outputs": [
    {
     "name": "stdout",
     "output_type": "stream",
     "text": [
      "Hello World\n"
     ]
    }
   ],
   "source": [
    "print('Hello World')"
   ]
  },
  {
   "cell_type": "code",
   "execution_count": 2,
   "id": "2348fb51",
   "metadata": {},
   "outputs": [
    {
     "name": "stdout",
     "output_type": "stream",
     "text": [
      "12345\n"
     ]
    }
   ],
   "source": [
    "print(12345)"
   ]
  },
  {
   "cell_type": "code",
   "execution_count": 2,
   "id": "1029455c",
   "metadata": {},
   "outputs": [
    {
     "name": "stdout",
     "output_type": "stream",
     "text": [
      "Enter values : 1 2 3 4 5 6 7 8\n",
      "[1, 2, 3, 4, 5, 6, 7, 8]\n"
     ]
    }
   ],
   "source": [
    "l=[int(x) for x in input('Enter values : ').split()]\n",
    "print(l)"
   ]
  },
  {
   "cell_type": "code",
   "execution_count": null,
   "id": "0c6a222e",
   "metadata": {},
   "outputs": [],
   "source": []
  }
 ],
 "metadata": {
  "kernelspec": {
   "display_name": "Python 3 (ipykernel)",
   "language": "python",
   "name": "python3"
  },
  "language_info": {
   "codemirror_mode": {
    "name": "ipython",
    "version": 3
   },
   "file_extension": ".py",
   "mimetype": "text/x-python",
   "name": "python",
   "nbconvert_exporter": "python",
   "pygments_lexer": "ipython3",
   "version": "3.11.5"
  }
 },
 "nbformat": 4,
 "nbformat_minor": 5
}
