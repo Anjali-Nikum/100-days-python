{
 "cells": [
  {
   "cell_type": "markdown",
   "id": "008082ac",
   "metadata": {},
   "source": [
    "# Day 2"
   ]
  },
  {
   "cell_type": "markdown",
   "id": "792fd711",
   "metadata": {},
   "source": [
    " ### Programs of code with harry "
   ]
  },
  {
   "cell_type": "markdown",
   "id": "222d48ba",
   "metadata": {},
   "source": [
    "## 1. Jarvis Virtual Assistant\n",
    "## 2. Love Calculator\n",
    "## 3. Face Recognition\n",
    "## 4. Flappy Bird Game\n",
    "## 5. Snake Game"
   ]
  },
  {
   "cell_type": "markdown",
   "id": "765a2730",
   "metadata": {},
   "source": [
    "#### link \n",
    "https:/replit.com/@codewithharry/02-Day2-Application-of-python#main.py"
   ]
  }
 ],
 "metadata": {
  "kernelspec": {
   "display_name": "Python 3 (ipykernel)",
   "language": "python",
   "name": "python3"
  },
  "language_info": {
   "codemirror_mode": {
    "name": "ipython",
    "version": 3
   },
   "file_extension": ".py",
   "mimetype": "text/x-python",
   "name": "python",
   "nbconvert_exporter": "python",
   "pygments_lexer": "ipython3",
   "version": "3.9.12"
  }
 },
 "nbformat": 4,
 "nbformat_minor": 5
}
