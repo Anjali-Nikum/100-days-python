{
 "cells": [
  {
   "cell_type": "markdown",
   "id": "b35c9b91",
   "metadata": {},
   "source": [
    "# Day 3"
   ]
  },
  {
   "cell_type": "markdown",
   "id": "b2df14f3",
   "metadata": {},
   "source": [
    "### Modules and pip"
   ]
  },
  {
   "cell_type": "markdown",
   "id": "6203097e",
   "metadata": {},
   "source": [
    "### Module\n",
    "Module is a code library which can be used to borrow the code written by somebody else in our python program.\n",
    "#### Types\n",
    "#### Built in Modules \n",
    "These modules are ready to import and use and ships with the python interpreter, there is no need to install such modules explicitly\n",
    "\n",
    "#### External Modules\n",
    "These modules are imported from a thrid party file or can be installed using a package manager like pip or conda. Since this code is written by someone else, we can install different versions of a same modules with time."
   ]
  },
  {
   "cell_type": "markdown",
   "id": "da46aecf",
   "metadata": {},
   "source": [
    "### PiP Command\n",
    "It can be used as a package manager pip to isntall a python module. Lets install a module called pandas using the following command\n",
    "\n",
    "##### pip install pandas"
   ]
  },
  {
   "cell_type": "markdown",
   "id": "83b2f774",
   "metadata": {},
   "source": [
    "### Using a module\n",
    "###### import pandas"
   ]
  },
  {
   "cell_type": "code",
   "execution_count": 1,
   "id": "b39a2b5d",
   "metadata": {},
   "outputs": [],
   "source": [
    "import pandas"
   ]
  },
  {
   "cell_type": "markdown",
   "id": "6f65335f",
   "metadata": {},
   "source": [
    "Similarly we can install other modules"
   ]
  },
  {
   "cell_type": "markdown",
   "id": "b43066b2",
   "metadata": {},
   "source": [
    "## Built in modules\n",
    "##### math\n",
    "##### o/s\n",
    "##### csv"
   ]
  },
  {
   "cell_type": "markdown",
   "id": "f0aa37d2",
   "metadata": {},
   "source": [
    "## External Modules\n",
    "###### pandas \n",
    "###### requests\n",
    "##### tensorflow\n",
    "###### wxpython\n",
    "###### keras\n",
    "###### pytorch\n",
    "##### numpy\n",
    "###### beautifulsoup\n",
    "###### collections\n",
    "###### flask\n",
    "##### pyright"
   ]
  }
 ],
 "metadata": {
  "kernelspec": {
   "display_name": "Python 3 (ipykernel)",
   "language": "python",
   "name": "python3"
  },
  "language_info": {
   "codemirror_mode": {
    "name": "ipython",
    "version": 3
   },
   "file_extension": ".py",
   "mimetype": "text/x-python",
   "name": "python",
   "nbconvert_exporter": "python",
   "pygments_lexer": "ipython3",
   "version": "3.11.5"
  }
 },
 "nbformat": 4,
 "nbformat_minor": 5
}
