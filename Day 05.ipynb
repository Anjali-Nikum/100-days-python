{
 "cells": [
  {
   "cell_type": "markdown",
   "id": "3c0010e7",
   "metadata": {},
   "source": [
    "# Day 5"
   ]
  },
  {
   "cell_type": "markdown",
   "id": "7f668040",
   "metadata": {},
   "source": [
    "## Comments, Escape and Print"
   ]
  },
  {
   "cell_type": "markdown",
   "id": "85ac2cca",
   "metadata": {},
   "source": [
    "  ## Comments\n",
    "  A comment is a part od the coding file that the programmer does not want to execute rather the programmer uses it to either explain a block of code or to avoid the execution of a specific part of code while testing.\n",
    "  \n",
    "  #### Shortcut \n",
    "  ctrl + /"
   ]
  },
  {
   "cell_type": "markdown",
   "id": "8081e4c7",
   "metadata": {},
   "source": [
    "## Single line comment\n",
    "To write a comment first add a '#' at the starting of line"
   ]
  },
  {
   "cell_type": "code",
   "execution_count": 1,
   "id": "03cb35b9",
   "metadata": {},
   "outputs": [
    {
     "name": "stdout",
     "output_type": "stream",
     "text": [
      "This is a print statement\n"
     ]
    }
   ],
   "source": [
    "# This is a single line comment\n",
    "print('This is a print statement')"
   ]
  },
  {
   "cell_type": "code",
   "execution_count": 2,
   "id": "4844a41f",
   "metadata": {},
   "outputs": [
    {
     "name": "stdout",
     "output_type": "stream",
     "text": [
      "This is a function\n"
     ]
    }
   ],
   "source": [
    "print('This is a function') #print('This is a comment')"
   ]
  },
  {
   "cell_type": "code",
   "execution_count": 3,
   "id": "1b18161e",
   "metadata": {},
   "outputs": [
    {
     "name": "stdout",
     "output_type": "stream",
     "text": [
      "This is a print function\n"
     ]
    }
   ],
   "source": [
    "print('This is a print function')\n",
    "# print(This is a comment"
   ]
  },
  {
   "cell_type": "markdown",
   "id": "28f73d89",
   "metadata": {},
   "source": [
    "## Multi line comment\n",
    "To write multi line comment you can use '#' at each line or you can use the multiline string (''' ''')"
   ]
  },
  {
   "cell_type": "markdown",
   "id": "307d1af4",
   "metadata": {},
   "source": [
    "#### use of '#'"
   ]
  },
  {
   "cell_type": "code",
   "execution_count": 5,
   "id": "a35b663a",
   "metadata": {},
   "outputs": [
    {
     "name": "stdout",
     "output_type": "stream",
     "text": [
      "Example of multi line comment using #\n"
     ]
    }
   ],
   "source": [
    "# this \n",
    "# is\n",
    "# multi line\n",
    "# comment\n",
    "print('Example of multi line comment using #')"
   ]
  },
  {
   "cell_type": "markdown",
   "id": "7b43fe43",
   "metadata": {},
   "source": [
    "#### use of string"
   ]
  },
  {
   "cell_type": "code",
   "execution_count": 6,
   "id": "0ac2f3b9",
   "metadata": {},
   "outputs": [
    {
     "name": "stdout",
     "output_type": "stream",
     "text": [
      "Example of multi line comment using string\n"
     ]
    }
   ],
   "source": [
    "'''this\n",
    "is\n",
    "multi line\n",
    "comment'''\n",
    "print('Example of multi line comment using string')"
   ]
  },
  {
   "cell_type": "markdown",
   "id": "1f270487",
   "metadata": {},
   "source": [
    "## Escape Sequence character\n",
    "To insert characters that cannot be directly used in a string, we use an escape sequence character.\n",
    "An escape sequence character is a backslash \\ followed by the character you want to insert."
   ]
  },
  {
   "cell_type": "code",
   "execution_count": 10,
   "id": "8d79c8ee",
   "metadata": {},
   "outputs": [
    {
     "ename": "SyntaxError",
     "evalue": "EOL while scanning string literal (1116119541.py, line 2)",
     "output_type": "error",
     "traceback": [
      "\u001b[1;36m  Input \u001b[1;32mIn [10]\u001b[1;36m\u001b[0m\n\u001b[1;33m    print('hello\u001b[0m\n\u001b[1;37m                ^\u001b[0m\n\u001b[1;31mSyntaxError\u001b[0m\u001b[1;31m:\u001b[0m EOL while scanning string literal\n"
     ]
    }
   ],
   "source": [
    "# for new line\n",
    "print('hello\n",
    "      world')"
   ]
  },
  {
   "cell_type": "code",
   "execution_count": 11,
   "id": "7d545c01",
   "metadata": {},
   "outputs": [
    {
     "name": "stdout",
     "output_type": "stream",
     "text": [
      "hello \n",
      "world\n"
     ]
    }
   ],
   "source": [
    "# solution \\n\n",
    "print('hello \\nworld')"
   ]
  },
  {
   "cell_type": "code",
   "execution_count": 13,
   "id": "5c716c43",
   "metadata": {},
   "outputs": [
    {
     "ename": "SyntaxError",
     "evalue": "invalid syntax (565378179.py, line 2)",
     "output_type": "error",
     "traceback": [
      "\u001b[1;36m  Input \u001b[1;32mIn [13]\u001b[1;36m\u001b[0m\n\u001b[1;33m    print('this 'does not' execute')\u001b[0m\n\u001b[1;37m                 ^\u001b[0m\n\u001b[1;31mSyntaxError\u001b[0m\u001b[1;31m:\u001b[0m invalid syntax\n"
     ]
    }
   ],
   "source": [
    "#try to print quotes\n",
    "print('this 'does not' execute')"
   ]
  },
  {
   "cell_type": "code",
   "execution_count": 1,
   "id": "1f38c36a",
   "metadata": {},
   "outputs": [
    {
     "name": "stdout",
     "output_type": "stream",
     "text": [
      "this 'does not' execute\n"
     ]
    }
   ],
   "source": [
    "print(\"this 'does not' execute\")"
   ]
  },
  {
   "cell_type": "code",
   "execution_count": null,
   "id": "81e21c73",
   "metadata": {},
   "outputs": [],
   "source": []
  },
  {
   "cell_type": "code",
   "execution_count": 14,
   "id": "724dce7c",
   "metadata": {},
   "outputs": [
    {
     "name": "stdout",
     "output_type": "stream",
     "text": [
      "this 'will' execute\n"
     ]
    }
   ],
   "source": [
    "#solution\n",
    "print('this \\'will\\' execute')"
   ]
  },
  {
   "cell_type": "markdown",
   "id": "188f78fc",
   "metadata": {},
   "source": [
    "# More on Print statement\n"
   ]
  },
  {
   "cell_type": "markdown",
   "id": "d5f1160c",
   "metadata": {},
   "source": [
    "#### Print multiple values"
   ]
  },
  {
   "cell_type": "code",
   "execution_count": 15,
   "id": "2d8fe3a2",
   "metadata": {},
   "outputs": [
    {
     "name": "stdout",
     "output_type": "stream",
     "text": [
      "Hello 12 Rohan 2004\n"
     ]
    }
   ],
   "source": [
    "print('Hello',12,'Rohan',2004)"
   ]
  },
  {
   "cell_type": "markdown",
   "id": "365b204f",
   "metadata": {},
   "source": [
    "### syntax print(object(s), sep=separator, end=end, file=file, flush=flush)"
   ]
  },
  {
   "cell_type": "markdown",
   "id": "dc1e5aa5",
   "metadata": {},
   "source": [
    "## other parameters of print statement\n",
    "1. object(s): Any object, and as, many as you like. Will be converted to string before printed.\n",
    "2. sep='separator': Specify how to separate the objects, if there is more than one. Default is ' '.\n",
    "3. end=end: Specify what to print at the end. Default is '\\n' (line feed)\n",
    "4. flie: An object wth a write method. Default is sys.stdout.\n",
    "##### parameters 2 to 4 optional"
   ]
  },
  {
   "cell_type": "markdown",
   "id": "c80092b9",
   "metadata": {},
   "source": [
    "### separotor"
   ]
  },
  {
   "cell_type": "code",
   "execution_count": 17,
   "id": "6c8c45f7",
   "metadata": {},
   "outputs": [
    {
     "name": "stdout",
     "output_type": "stream",
     "text": [
      "Hello=12=Rohan=2004\n"
     ]
    }
   ],
   "source": [
    "print('Hello',12,'Rohan',2004,sep='=')"
   ]
  },
  {
   "cell_type": "markdown",
   "id": "2d1a9669",
   "metadata": {},
   "source": [
    "### End"
   ]
  },
  {
   "cell_type": "code",
   "execution_count": 18,
   "id": "2ec2ebce",
   "metadata": {},
   "outputs": [
    {
     "name": "stdout",
     "output_type": "stream",
     "text": [
      "hello00world\n"
     ]
    }
   ],
   "source": [
    "print('hello',end='00')\n",
    "print('world')"
   ]
  },
  {
   "cell_type": "code",
   "execution_count": 19,
   "id": "c2d71772",
   "metadata": {},
   "outputs": [
    {
     "name": "stdout",
     "output_type": "stream",
     "text": [
      "hello00\n",
      "world\n"
     ]
    }
   ],
   "source": [
    "print('hello',end='00\\n')\n",
    "print('world')"
   ]
  },
  {
   "cell_type": "code",
   "execution_count": 21,
   "id": "ab26ba7b",
   "metadata": {},
   "outputs": [
    {
     "name": "stdout",
     "output_type": "stream",
     "text": [
      "Rohan Bhati\n"
     ]
    }
   ],
   "source": [
    "print('Rohan',end=' ')\n",
    "print('Bhati')"
   ]
  },
  {
   "cell_type": "code",
   "execution_count": null,
   "id": "df531185",
   "metadata": {},
   "outputs": [],
   "source": []
  }
 ],
 "metadata": {
  "kernelspec": {
   "display_name": "Python 3 (ipykernel)",
   "language": "python",
   "name": "python3"
  },
  "language_info": {
   "codemirror_mode": {
    "name": "ipython",
    "version": 3
   },
   "file_extension": ".py",
   "mimetype": "text/x-python",
   "name": "python",
   "nbconvert_exporter": "python",
   "pygments_lexer": "ipython3",
   "version": "3.11.5"
  }
 },
 "nbformat": 4,
 "nbformat_minor": 5
}
