{
 "cells": [
  {
   "cell_type": "markdown",
   "id": "75bac37e",
   "metadata": {},
   "source": [
    "# Day 6"
   ]
  },
  {
   "cell_type": "markdown",
   "id": "bc427fe1",
   "metadata": {},
   "source": [
    "## Variables and Data Types"
   ]
  },
  {
   "cell_type": "markdown",
   "id": "879a25e4",
   "metadata": {},
   "source": [
    "## What is variables?\n",
    "Variable is like a container that holds data. Very similar to how our container holds sugar, salt, etc. Creating a variable\n",
    "just like creating a placeholder in memory and assigning it some values. In python it is easy as writing.\n",
    "\n",
    "a=1    b=True    c='Rohan'    d=None\n",
    "\n",
    "These are four variables of different data types"
   ]
  },
  {
   "cell_type": "code",
   "execution_count": 1,
   "id": "df1820de",
   "metadata": {},
   "outputs": [
    {
     "name": "stdout",
     "output_type": "stream",
     "text": [
      "1234\n"
     ]
    }
   ],
   "source": [
    "a=1234\n",
    "print(a)"
   ]
  },
  {
   "cell_type": "code",
   "execution_count": 2,
   "id": "592f59a2",
   "metadata": {},
   "outputs": [
    {
     "name": "stdout",
     "output_type": "stream",
     "text": [
      "None\n"
     ]
    }
   ],
   "source": [
    "b=None\n",
    "print(b)"
   ]
  },
  {
   "cell_type": "code",
   "execution_count": 4,
   "id": "92b261b1",
   "metadata": {},
   "outputs": [
    {
     "name": "stdout",
     "output_type": "stream",
     "text": [
      "Rohan\n"
     ]
    }
   ],
   "source": [
    "name='Rohan'\n",
    "print(name)"
   ]
  },
  {
   "cell_type": "code",
   "execution_count": 5,
   "id": "a9ff74f9",
   "metadata": {},
   "outputs": [
    {
     "name": "stdout",
     "output_type": "stream",
     "text": [
      "num1 : 32\n",
      "num2 : 65\n"
     ]
    }
   ],
   "source": [
    "num1,num2=32,65\n",
    "print('num1 :',num1)\n",
    "print('num2 :',num2)"
   ]
  },
  {
   "cell_type": "code",
   "execution_count": 6,
   "id": "1b3ada3a",
   "metadata": {},
   "outputs": [
    {
     "ename": "TypeError",
     "evalue": "unsupported operand type(s) for +: 'int' and 'str'",
     "output_type": "error",
     "traceback": [
      "\u001b[1;31m---------------------------------------------------------------------------\u001b[0m",
      "\u001b[1;31mTypeError\u001b[0m                                 Traceback (most recent call last)",
      "Input \u001b[1;32mIn [6]\u001b[0m, in \u001b[0;36m<cell line: 3>\u001b[1;34m()\u001b[0m\n\u001b[0;32m      1\u001b[0m a\u001b[38;5;241m=\u001b[39m\u001b[38;5;241m123\u001b[39m\n\u001b[0;32m      2\u001b[0m b\u001b[38;5;241m=\u001b[39m\u001b[38;5;124m'\u001b[39m\u001b[38;5;124mhello\u001b[39m\u001b[38;5;124m'\u001b[39m\n\u001b[1;32m----> 3\u001b[0m \u001b[38;5;28mprint\u001b[39m(\u001b[43ma\u001b[49m\u001b[38;5;241;43m+\u001b[39;49m\u001b[43mb\u001b[49m)\n",
      "\u001b[1;31mTypeError\u001b[0m: unsupported operand type(s) for +: 'int' and 'str'"
     ]
    }
   ],
   "source": [
    "a=123\n",
    "b='hello'\n",
    "print(a+b)"
   ]
  },
  {
   "cell_type": "markdown",
   "id": "346fa66e",
   "metadata": {},
   "source": [
    "## What is Data Types?\n",
    "Data type specifies the type of value a variable holds. This required in programming to do various operations without causing an eror. In python, we can print type of operator using type function"
   ]
  },
  {
   "cell_type": "markdown",
   "id": "435b0abe",
   "metadata": {},
   "source": [
    "### 1. Numerical data: int, float complex\n",
    "### 2. Text data: str\n",
    "### 3. Boolean data"
   ]
  },
  {
   "cell_type": "code",
   "execution_count": 7,
   "id": "d0b37ea4",
   "metadata": {},
   "outputs": [
    {
     "name": "stdout",
     "output_type": "stream",
     "text": [
      "<class 'int'>\n"
     ]
    }
   ],
   "source": [
    "a=2\n",
    "print(type(a))"
   ]
  },
  {
   "cell_type": "code",
   "execution_count": 8,
   "id": "25c6cec9",
   "metadata": {},
   "outputs": [
    {
     "name": "stdout",
     "output_type": "stream",
     "text": [
      "<class 'str'>\n"
     ]
    }
   ],
   "source": [
    "b='hello'\n",
    "print(type(b))"
   ]
  },
  {
   "cell_type": "code",
   "execution_count": 9,
   "id": "a8feb17a",
   "metadata": {},
   "outputs": [
    {
     "name": "stdout",
     "output_type": "stream",
     "text": [
      "<class 'bool'>\n"
     ]
    }
   ],
   "source": [
    "c=True\n",
    "print(type(c))"
   ]
  },
  {
   "cell_type": "code",
   "execution_count": 10,
   "id": "615d893a",
   "metadata": {},
   "outputs": [
    {
     "name": "stdout",
     "output_type": "stream",
     "text": [
      "<class 'NoneType'>\n"
     ]
    }
   ],
   "source": [
    "d=None\n",
    "print(type(d))"
   ]
  },
  {
   "cell_type": "code",
   "execution_count": 11,
   "id": "767dc47f",
   "metadata": {},
   "outputs": [
    {
     "name": "stdout",
     "output_type": "stream",
     "text": [
      "<class 'float'>\n"
     ]
    }
   ],
   "source": [
    "e=12.545\n",
    "print(type(e))"
   ]
  },
  {
   "cell_type": "code",
   "execution_count": 13,
   "id": "ce44fb17",
   "metadata": {},
   "outputs": [
    {
     "ename": "SyntaxError",
     "evalue": "invalid syntax (3278583565.py, line 1)",
     "output_type": "error",
     "traceback": [
      "\u001b[1;36m  Input \u001b[1;32mIn [13]\u001b[1;36m\u001b[0m\n\u001b[1;33m    f=12+3i\u001b[0m\n\u001b[1;37m          ^\u001b[0m\n\u001b[1;31mSyntaxError\u001b[0m\u001b[1;31m:\u001b[0m invalid syntax\n"
     ]
    }
   ],
   "source": [
    "f=12+3i\n",
    "print(f)"
   ]
  },
  {
   "cell_type": "code",
   "execution_count": 17,
   "id": "c56436cf",
   "metadata": {},
   "outputs": [
    {
     "name": "stdout",
     "output_type": "stream",
     "text": [
      "complex number : (12-3j)\n",
      "<class 'complex'>\n"
     ]
    }
   ],
   "source": [
    "f=complex(12,-3)\n",
    "print('complex number :',f)\n",
    "print(type(f))"
   ]
  },
  {
   "cell_type": "markdown",
   "id": "492831e8",
   "metadata": {},
   "source": [
    "### Sequenced data: list, tuple\n",
    "#### List\n",
    "A list is an ordered collection of data with elements separated by a comma and enclosed with square bracket. Lists are mutable and can be modified after creation."
   ]
  },
  {
   "cell_type": "code",
   "execution_count": 18,
   "id": "08787c46",
   "metadata": {},
   "outputs": [
    {
     "name": "stdout",
     "output_type": "stream",
     "text": [
      "[1, 2.3, [-4, 5], ['Rohan', 'Bhati']]\n"
     ]
    }
   ],
   "source": [
    "list1=[1,2.3,[-4,5],['Rohan','Bhati']]\n",
    "print(list1)"
   ]
  },
  {
   "cell_type": "code",
   "execution_count": 22,
   "id": "7ab5d045",
   "metadata": {},
   "outputs": [
    {
     "name": "stdout",
     "output_type": "stream",
     "text": [
      "<class 'list'>\n"
     ]
    }
   ],
   "source": [
    "print(type(list1))"
   ]
  },
  {
   "cell_type": "code",
   "execution_count": 28,
   "id": "acdd2b48",
   "metadata": {},
   "outputs": [
    {
     "name": "stdout",
     "output_type": "stream",
     "text": [
      "1\n",
      "2.3\n",
      "[-4, 5]\n",
      "['Rohan', 'Bhati']\n"
     ]
    }
   ],
   "source": [
    "for i in list1:\n",
    "    print(i)"
   ]
  },
  {
   "cell_type": "markdown",
   "id": "ff73b24b",
   "metadata": {},
   "source": [
    "Tuple\n",
    "A tuple is an ordered collection of data with elements separated by a comma and enclosed with parantheses. Tuples are immutable and cannot be modified after creation."
   ]
  },
  {
   "cell_type": "code",
   "execution_count": 20,
   "id": "ee0a538f",
   "metadata": {},
   "outputs": [
    {
     "name": "stdout",
     "output_type": "stream",
     "text": [
      "(('Rohan', 'Bhati'), ('Hello', 'World'))\n"
     ]
    }
   ],
   "source": [
    "Tuple=(('Rohan','Bhati'),('Hello','World'))\n",
    "print(Tuple)"
   ]
  },
  {
   "cell_type": "code",
   "execution_count": 23,
   "id": "82d642d3",
   "metadata": {},
   "outputs": [
    {
     "name": "stdout",
     "output_type": "stream",
     "text": [
      "<class 'tuple'>\n"
     ]
    }
   ],
   "source": [
    "print(type(Tuple))"
   ]
  },
  {
   "cell_type": "code",
   "execution_count": 29,
   "id": "2309ed5d",
   "metadata": {},
   "outputs": [
    {
     "name": "stdout",
     "output_type": "stream",
     "text": [
      "('Rohan', 'Bhati')\n",
      "('Hello', 'World')\n"
     ]
    }
   ],
   "source": [
    "for i in Tuple:\n",
    "    print(i)"
   ]
  },
  {
   "cell_type": "markdown",
   "id": "0dfca60c",
   "metadata": {},
   "source": [
    "### Mapped Data: Dictionary\n",
    "A dictionary is an unordered collection of data containing a key:value pairs are enclosed within curly {} brackets."
   ]
  },
  {
   "cell_type": "code",
   "execution_count": 26,
   "id": "cc5d9808",
   "metadata": {},
   "outputs": [
    {
     "name": "stdout",
     "output_type": "stream",
     "text": [
      "{'Name': 'Rohan', 'Age': 19, 'Can Vote': True}\n"
     ]
    }
   ],
   "source": [
    "student={'Name':'Rohan',\n",
    "     'Age':19,\n",
    "      'Can Vote':True\n",
    "     }\n",
    "print(student)"
   ]
  },
  {
   "cell_type": "code",
   "execution_count": 27,
   "id": "1941c5dc",
   "metadata": {},
   "outputs": [
    {
     "name": "stdout",
     "output_type": "stream",
     "text": [
      "<class 'dict'>\n"
     ]
    }
   ],
   "source": [
    "print(type(student))"
   ]
  },
  {
   "cell_type": "code",
   "execution_count": null,
   "id": "22997b08",
   "metadata": {},
   "outputs": [],
   "source": []
  }
 ],
 "metadata": {
  "kernelspec": {
   "display_name": "Python 3 (ipykernel)",
   "language": "python",
   "name": "python3"
  },
  "language_info": {
   "codemirror_mode": {
    "name": "ipython",
    "version": 3
   },
   "file_extension": ".py",
   "mimetype": "text/x-python",
   "name": "python",
   "nbconvert_exporter": "python",
   "pygments_lexer": "ipython3",
   "version": "3.11.5"
  }
 },
 "nbformat": 4,
 "nbformat_minor": 5
}
