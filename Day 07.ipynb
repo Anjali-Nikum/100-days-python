{
 "cells": [
  {
   "cell_type": "markdown",
   "id": "b41cdb8d",
   "metadata": {},
   "source": [
    "# Day 7"
   ]
  },
  {
   "cell_type": "markdown",
   "id": "aab9a95a",
   "metadata": {},
   "source": [
    "## Excercise 1: Calculator\n",
    "#### Solution in Day 8"
   ]
  },
  {
   "cell_type": "markdown",
   "id": "f2a46ee0",
   "metadata": {},
   "source": [
    "## Operators\n",
    "Python has different types of operators for different operations. To create a calculator we require arithmatic operators."
   ]
  },
  {
   "cell_type": "markdown",
   "id": "ca9faab4",
   "metadata": {},
   "source": [
    "### Arithmatic operators\n",
    "#### Addition     +     15+7=22\n",
    "#### Substraction     -     15-7=8\n",
    "#### Multiplication     *     4 X 3=12\n",
    "#### Division     /     25/4=6.25\n",
    "#### Floor Division     //     25/4=6\n",
    "#### Modulous     %     5%3=2\n",
    "#### Exponential     **     2**3=8"
   ]
  },
  {
   "cell_type": "code",
   "execution_count": 1,
   "id": "f5c6ff92",
   "metadata": {},
   "outputs": [
    {
     "name": "stdout",
     "output_type": "stream",
     "text": [
      "Addition of 15 and 7 is : 22\n",
      "Substraction of 15 and 7 is : 8\n"
     ]
    }
   ],
   "source": [
    "num1,num2=15,7\n",
    "print('Addition of',num1,'and',num2,'is :',num1+num2)\n",
    "print('Substraction of',num1,'and',num2,'is :',num1-num2)"
   ]
  },
  {
   "cell_type": "code",
   "execution_count": 2,
   "id": "5229754b",
   "metadata": {},
   "outputs": [
    {
     "name": "stdout",
     "output_type": "stream",
     "text": [
      "Multiplication of 4 and 3 is : 12\n"
     ]
    }
   ],
   "source": [
    "num1,num2=4,3\n",
    "print('Multiplication of',num1,'and',num2,'is :',num1*num2)"
   ]
  },
  {
   "cell_type": "code",
   "execution_count": 3,
   "id": "75b00106",
   "metadata": {},
   "outputs": [
    {
     "name": "stdout",
     "output_type": "stream",
     "text": [
      "Division of 25 and 4 is : 6.25\n",
      "Floor Division of 25 and 4 is : 6\n"
     ]
    }
   ],
   "source": [
    "num1,num2=25,4\n",
    "print('Division of',num1,'and',num2,'is :',num1/num2)\n",
    "print('Floor Division of',num1,'and',num2,'is :',num1//num2)"
   ]
  },
  {
   "cell_type": "code",
   "execution_count": 5,
   "id": "99494170",
   "metadata": {},
   "outputs": [
    {
     "name": "stdout",
     "output_type": "stream",
     "text": [
      "Modulous of 5 and 3 is : 2\n"
     ]
    }
   ],
   "source": [
    "num1,num2=5,3\n",
    "print('Modulous of',num1,'and',num2,'is :',num1%num2)"
   ]
  },
  {
   "cell_type": "code",
   "execution_count": 6,
   "id": "a4186981",
   "metadata": {},
   "outputs": [
    {
     "name": "stdout",
     "output_type": "stream",
     "text": [
      "Exponential of 2 and 3 is : 8\n"
     ]
    }
   ],
   "source": [
    "num1,num2=2,3\n",
    "print('Exponential of',num1,'and',num2,'is :',num1**num2)"
   ]
  },
  {
   "cell_type": "code",
   "execution_count": null,
   "id": "68a5a27d",
   "metadata": {},
   "outputs": [],
   "source": []
  }
 ],
 "metadata": {
  "kernelspec": {
   "display_name": "Python 3 (ipykernel)",
   "language": "python",
   "name": "python3"
  },
  "language_info": {
   "codemirror_mode": {
    "name": "ipython",
    "version": 3
   },
   "file_extension": ".py",
   "mimetype": "text/x-python",
   "name": "python",
   "nbconvert_exporter": "python",
   "pygments_lexer": "ipython3",
   "version": "3.9.12"
  }
 },
 "nbformat": 4,
 "nbformat_minor": 5
}
