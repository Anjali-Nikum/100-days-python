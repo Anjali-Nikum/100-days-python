{
 "cells": [
  {
   "cell_type": "markdown",
   "id": "cdb68c76",
   "metadata": {},
   "source": [
    "# Day 8"
   ]
  },
  {
   "cell_type": "markdown",
   "id": "a0a727bf",
   "metadata": {},
   "source": [
    "# Calculator Solution"
   ]
  },
  {
   "cell_type": "code",
   "execution_count": 3,
   "id": "6076b56c",
   "metadata": {},
   "outputs": [
    {
     "name": "stdout",
     "output_type": "stream",
     "text": [
      "Enter number 1 :45\n",
      "Enter number 2 :24\n",
      "_____________________\n",
      "1. Addition\n",
      "2. Substraction\n",
      "3. Multiplication\n",
      "4. Division\n",
      "5. Modulous\n",
      "6. Exponential\n",
      "_____________________\n",
      "Enter operation number :6\n",
      "\n",
      "Exponential of 45 and 24 is : 4754450504593402735195219516754150390625\n",
      "\n",
      "\n",
      "Want to continue\n",
      "_____________\n",
      "1. Yes\n",
      "2. No\n",
      "_____________\n",
      "Enter choice:2\n"
     ]
    }
   ],
   "source": [
    "n=1\n",
    "while n!=2:\n",
    "    num1=int(input('Enter number 1 :'))\n",
    "    num2=int(input('Enter number 2 :'))\n",
    "    print('_____________________')\n",
    "    print('1. Addition')\n",
    "    print('2. Substraction')\n",
    "    print('3. Multiplication')\n",
    "    print('4. Division')\n",
    "    print('5. Modulous')\n",
    "    print('6. Exponential')\n",
    "    print('_____________________')\n",
    "\n",
    "    choice=int(input('Enter operation number :'))\n",
    "    print()\n",
    "    if choice==1:\n",
    "        print(f'Addition of {num1} and {num2} is : {num1+num2}')\n",
    "    elif choice==2:\n",
    "        print('Substraction of',num1,'and',num2,'is :',num1-num2)\n",
    "    elif choice==3:\n",
    "        print('Multiplication of',num1,'and',num2,'is :',num1*num2)\n",
    "    elif choice==4:\n",
    "        print('Division of',num1,'and',num2,'is :',num1/num2)\n",
    "    elif choice==5:\n",
    "        print('Modulous of',num1,'and',num2,'is :',num1%num2)\n",
    "    elif choice==6:\n",
    "        print('Exponential of',num1,'and',num2,'is :',num1**num2)\n",
    "    else:\n",
    "        print('Wrong Choice')\n",
    "    \n",
    "    \n",
    "    print('\\n\\nWant to continue')\n",
    "    print('_____________')\n",
    "    print('1. Yes')\n",
    "    print('2. No')\n",
    "    print('_____________')\n",
    "    n=int(input('Enter choice:'))"
   ]
  },
  {
   "cell_type": "code",
   "execution_count": 2,
   "id": "3cb819ad",
   "metadata": {},
   "outputs": [
    {
     "name": "stdout",
     "output_type": "stream",
     "text": [
      "1\n",
      "2\n",
      "3\n",
      "4\n"
     ]
    }
   ],
   "source": [
    "l=[1,2,3,4]\n",
    "for l in l:\n",
    "print(l)"
   ]
  },
  {
   "cell_type": "code",
   "execution_count": 5,
   "id": "d45a6c87",
   "metadata": {},
   "outputs": [],
   "source": [
    "if 0:\n",
    "    print('True')"
   ]
  },
  {
   "cell_type": "code",
   "execution_count": null,
   "id": "ba40767e",
   "metadata": {},
   "outputs": [],
   "source": []
  }
 ],
 "metadata": {
  "kernelspec": {
   "display_name": "Python 3 (ipykernel)",
   "language": "python",
   "name": "python3"
  },
  "language_info": {
   "codemirror_mode": {
    "name": "ipython",
    "version": 3
   },
   "file_extension": ".py",
   "mimetype": "text/x-python",
   "name": "python",
   "nbconvert_exporter": "python",
   "pygments_lexer": "ipython3",
   "version": "3.11.5"
  }
 },
 "nbformat": 4,
 "nbformat_minor": 5
}
