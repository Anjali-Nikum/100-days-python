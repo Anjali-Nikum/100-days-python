{
 "cells": [
  {
   "cell_type": "markdown",
   "id": "54a38a41",
   "metadata": {},
   "source": [
    "# Day 9"
   ]
  },
  {
   "cell_type": "markdown",
   "id": "cd661149",
   "metadata": {},
   "source": [
    "## Typecasting\n",
    "The conversion of one data type into the other data type is known as type casting in python or type conversion in python.        Python supports a wide variety of functions or methods like:\n",
    "#### int(), str(), ord(), hex(), oct(), tuple(), set(), list(), dict(), etc.\n",
    "for the type casting in python."
   ]
  },
  {
   "cell_type": "markdown",
   "id": "c47f05e7",
   "metadata": {},
   "source": [
    "# Types if typecasting:\n",
    "## Explicit typecasting\n",
    "## Implicit typecasting"
   ]
  },
  {
   "cell_type": "markdown",
   "id": "00936667",
   "metadata": {},
   "source": [
    "## Explicit Typecasting:\n",
    "The conversion of one data type into another data type, done via developer or programmer's intervation or manually as per the requirement, is known as explicit type conversion.\n",
    "\n",
    "It can be achieved with the help of Python's built-in type conversion functions such as int(), float(), hex(), oct(), str(), etc."
   ]
  },
  {
   "cell_type": "code",
   "execution_count": 5,
   "id": "602d6608",
   "metadata": {},
   "outputs": [
    {
     "name": "stdout",
     "output_type": "stream",
     "text": [
      "4\n"
     ]
    }
   ],
   "source": [
    "# explicit\n",
    "a='1'\n",
    "b='3'\n",
    "print(int(a)+int(b))"
   ]
  },
  {
   "cell_type": "markdown",
   "id": "be3747e9",
   "metadata": {},
   "source": [
    "## Implcit Typecasting:\n",
    "Data types in python do not have the same level i.e. ordering of data types is not the same in Python. Some of the data types have higher_order, and some have lower-order. While performing any operations on variables with different data types in Python, one of the variable's data types will be changed to the higher data type. According to the level, one data type is converted into other by the Python interpreter itself (automatically). This is called, implict type casting in python.\n",
    "\n",
    "Python converts a smaller data type to a higher data type to prevent loss"
   ]
  },
  {
   "cell_type": "code",
   "execution_count": 7,
   "id": "1a57243f",
   "metadata": {},
   "outputs": [
    {
     "name": "stdout",
     "output_type": "stream",
     "text": [
      "7.5\n",
      "<class 'int'>\n",
      "<class 'float'>\n",
      "<class 'float'>\n"
     ]
    }
   ],
   "source": [
    "a=3\n",
    "b=4.5\n",
    "c=a+b\n",
    "print(c)\n",
    "print(type(a))\n",
    "print(type(b))\n",
    "print(type(c))"
   ]
  },
  {
   "cell_type": "code",
   "execution_count": 1,
   "id": "f65ae74f",
   "metadata": {},
   "outputs": [
    {
     "name": "stdout",
     "output_type": "stream",
     "text": [
      "12\n"
     ]
    }
   ],
   "source": [
    "a='1'\n",
    "b='2'\n",
    "print(a+b)"
   ]
  },
  {
   "cell_type": "code",
   "execution_count": 2,
   "id": "ec2ee0ca",
   "metadata": {},
   "outputs": [
    {
     "ename": "TypeError",
     "evalue": "can only concatenate str (not \"int\") to str",
     "output_type": "error",
     "traceback": [
      "\u001b[1;31m---------------------------------------------------------------------------\u001b[0m",
      "\u001b[1;31mTypeError\u001b[0m                                 Traceback (most recent call last)",
      "Input \u001b[1;32mIn [2]\u001b[0m, in \u001b[0;36m<cell line: 3>\u001b[1;34m()\u001b[0m\n\u001b[0;32m      1\u001b[0m a\u001b[38;5;241m=\u001b[39m\u001b[38;5;124m'\u001b[39m\u001b[38;5;124m1\u001b[39m\u001b[38;5;124m'\u001b[39m\n\u001b[0;32m      2\u001b[0m b\u001b[38;5;241m=\u001b[39m\u001b[38;5;241m2\u001b[39m\n\u001b[1;32m----> 3\u001b[0m \u001b[38;5;28mprint\u001b[39m(\u001b[43ma\u001b[49m\u001b[38;5;241;43m+\u001b[39;49m\u001b[43mb\u001b[49m)\n",
      "\u001b[1;31mTypeError\u001b[0m: can only concatenate str (not \"int\") to str"
     ]
    }
   ],
   "source": [
    "a='1'\n",
    "b=2\n",
    "print(a+b)"
   ]
  },
  {
   "cell_type": "code",
   "execution_count": 3,
   "id": "200ca06a",
   "metadata": {},
   "outputs": [
    {
     "name": "stdout",
     "output_type": "stream",
     "text": [
      "3\n"
     ]
    }
   ],
   "source": [
    "a='1'\n",
    "b='2'\n",
    "print(int(a)+int(b))"
   ]
  },
  {
   "cell_type": "code",
   "execution_count": 8,
   "id": "8375371e",
   "metadata": {},
   "outputs": [
    {
     "name": "stdout",
     "output_type": "stream",
     "text": [
      "12hello\n"
     ]
    }
   ],
   "source": [
    "a=12\n",
    "b='hello'\n",
    "print(str(a)+b)"
   ]
  },
  {
   "cell_type": "code",
   "execution_count": 10,
   "id": "5f302f7f",
   "metadata": {},
   "outputs": [
    {
     "name": "stdout",
     "output_type": "stream",
     "text": [
      "hellohellohello\n",
      "<class 'str'>\n"
     ]
    }
   ],
   "source": [
    "s1=3\n",
    "s2='hello'\n",
    "s3=s1*s2\n",
    "print(s3)\n",
    "print(type(s3))"
   ]
  },
  {
   "cell_type": "code",
   "execution_count": null,
   "id": "b3ec7885",
   "metadata": {},
   "outputs": [],
   "source": []
  }
 ],
 "metadata": {
  "kernelspec": {
   "display_name": "Python 3 (ipykernel)",
   "language": "python",
   "name": "python3"
  },
  "language_info": {
   "codemirror_mode": {
    "name": "ipython",
    "version": 3
   },
   "file_extension": ".py",
   "mimetype": "text/x-python",
   "name": "python",
   "nbconvert_exporter": "python",
   "pygments_lexer": "ipython3",
   "version": "3.11.5"
  }
 },
 "nbformat": 4,
 "nbformat_minor": 5
}
