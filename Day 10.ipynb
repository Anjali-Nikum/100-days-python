{
 "cells": [
  {
   "cell_type": "markdown",
   "id": "11a027c2",
   "metadata": {},
   "source": [
    "# Day 10"
   ]
  },
  {
   "cell_type": "markdown",
   "id": "643bd476",
   "metadata": {},
   "source": [
    "# Taking user input"
   ]
  },
  {
   "cell_type": "markdown",
   "id": "4923a21c",
   "metadata": {},
   "source": [
    "In python we can take input directly by using input() function. This input function gives a return value as a string/character hence we have to pass that into a variable"
   ]
  },
  {
   "cell_type": "code",
   "execution_count": null,
   "id": "d0fdecaf",
   "metadata": {},
   "outputs": [],
   "source": [
    "a=input()\n",
    "print('value of a is :',a)\n",
    "print(type(a))"
   ]
  },
  {
   "cell_type": "markdown",
   "id": "5d0c3f51",
   "metadata": {},
   "source": [
    "But it returns value as a string. We have to typecast it whenever required"
   ]
  },
  {
   "cell_type": "code",
   "execution_count": 2,
   "id": "512ba154",
   "metadata": {},
   "outputs": [
    {
     "name": "stdout",
     "output_type": "stream",
     "text": [
      "34\n",
      "6\n",
      "40\n"
     ]
    }
   ],
   "source": [
    "# method 1\n",
    "a=input()\n",
    "b=input()\n",
    "print(int(a)+int(b))"
   ]
  },
  {
   "cell_type": "code",
   "execution_count": 3,
   "id": "a6339254",
   "metadata": {},
   "outputs": [
    {
     "name": "stdout",
     "output_type": "stream",
     "text": [
      "3\n",
      "8\n",
      "sum is : 11\n"
     ]
    }
   ],
   "source": [
    "# method 24\n",
    "a=int(input())\n",
    "b=int(input())\n",
    "print('sum is :',a+b)"
   ]
  },
  {
   "cell_type": "markdown",
   "id": "7af489c9",
   "metadata": {},
   "source": [
    "We can also display a text using input() function"
   ]
  },
  {
   "cell_type": "code",
   "execution_count": 4,
   "id": "f7fd3c2d",
   "metadata": {},
   "outputs": [
    {
     "name": "stdout",
     "output_type": "stream",
     "text": [
      "Enter num1 :21\n",
      "Enter num2 :76\n",
      "Sum is : 11\n"
     ]
    }
   ],
   "source": [
    "num1=int(input('Enter num1 :'))\n",
    "num2=int(input('Enter num2 :'))\n",
    "print('Sum is :',a+b)"
   ]
  },
  {
   "cell_type": "code",
   "execution_count": 5,
   "id": "d22043b1",
   "metadata": {},
   "outputs": [
    {
     "name": "stdout",
     "output_type": "stream",
     "text": [
      "Enter first name :Rohan\n",
      "Enter last name :Bhati\n",
      "Name is : Rohan Bhati\n"
     ]
    }
   ],
   "source": [
    "str1=input('Enter first name :')\n",
    "str2=input('Enter last name :')\n",
    "print('Name is :',str1+' '+str2)"
   ]
  },
  {
   "cell_type": "code",
   "execution_count": null,
   "id": "cc2fca72",
   "metadata": {},
   "outputs": [],
   "source": []
  }
 ],
 "metadata": {
  "kernelspec": {
   "display_name": "Python 3 (ipykernel)",
   "language": "python",
   "name": "python3"
  },
  "language_info": {
   "codemirror_mode": {
    "name": "ipython",
    "version": 3
   },
   "file_extension": ".py",
   "mimetype": "text/x-python",
   "name": "python",
   "nbconvert_exporter": "python",
   "pygments_lexer": "ipython3",
   "version": "3.9.12"
  }
 },
 "nbformat": 4,
 "nbformat_minor": 5
}
