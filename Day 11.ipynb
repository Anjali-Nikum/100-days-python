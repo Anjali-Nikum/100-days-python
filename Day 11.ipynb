{
 "cells": [
  {
   "cell_type": "markdown",
   "id": "2fada48a",
   "metadata": {},
   "source": [
    "# Day 11"
   ]
  },
  {
   "cell_type": "markdown",
   "id": "28789b7c",
   "metadata": {},
   "source": [
    "# String"
   ]
  },
  {
   "cell_type": "markdown",
   "id": "60405243",
   "metadata": {},
   "source": [
    "Anything between single or double quotation is mark is considered a string."
   ]
  },
  {
   "cell_type": "code",
   "execution_count": 2,
   "id": "1dea3d4d",
   "metadata": {},
   "outputs": [
    {
     "name": "stdout",
     "output_type": "stream",
     "text": [
      "Rohan\n",
      "<class 'str'>\n"
     ]
    }
   ],
   "source": [
    "name='Rohan'\n",
    "print(name)\n",
    "print(type(name))"
   ]
  },
  {
   "cell_type": "code",
   "execution_count": 3,
   "id": "69f17b0f",
   "metadata": {},
   "outputs": [
    {
     "name": "stdout",
     "output_type": "stream",
     "text": [
      "Rohan Bhati\n"
     ]
    }
   ],
   "source": [
    "name=\"Rohan\"\n",
    "print(name+' Bhati')"
   ]
  },
  {
   "cell_type": "code",
   "execution_count": 4,
   "id": "9385a8b7",
   "metadata": {},
   "outputs": [
    {
     "ename": "SyntaxError",
     "evalue": "invalid syntax (660616399.py, line 1)",
     "output_type": "error",
     "traceback": [
      "\u001b[1;36m  Input \u001b[1;32mIn [4]\u001b[1;36m\u001b[0m\n\u001b[1;33m    str='hello everyone, my name is 'Rohan''\u001b[0m\n\u001b[1;37m                                     ^\u001b[0m\n\u001b[1;31mSyntaxError\u001b[0m\u001b[1;31m:\u001b[0m invalid syntax\n"
     ]
    }
   ],
   "source": [
    "str='hello everyone, my name is 'Rohan''\n",
    "print(str)"
   ]
  },
  {
   "cell_type": "markdown",
   "id": "f9499187",
   "metadata": {},
   "source": [
    "To print quotes we using escape sequence (\\)"
   ]
  },
  {
   "cell_type": "code",
   "execution_count": 5,
   "id": "faf4226d",
   "metadata": {},
   "outputs": [
    {
     "name": "stdout",
     "output_type": "stream",
     "text": [
      "hello everyone, my name is 'Rohan'\n"
     ]
    }
   ],
   "source": [
    "str='hello everyone, my name is \\'Rohan\\''\n",
    "print(str)"
   ]
  },
  {
   "cell_type": "code",
   "execution_count": 6,
   "id": "97036ed0",
   "metadata": {},
   "outputs": [
    {
     "ename": "SyntaxError",
     "evalue": "EOL while scanning string literal (1400150763.py, line 1)",
     "output_type": "error",
     "traceback": [
      "\u001b[1;36m  Input \u001b[1;32mIn [6]\u001b[1;36m\u001b[0m\n\u001b[1;33m    str1='my name is Rohan\u001b[0m\n\u001b[1;37m                          ^\u001b[0m\n\u001b[1;31mSyntaxError\u001b[0m\u001b[1;31m:\u001b[0m EOL while scanning string literal\n"
     ]
    }
   ],
   "source": [
    "str1='my name is Rohan\n",
    "I am from Indore\n",
    "'\n",
    "print(str1)"
   ]
  },
  {
   "cell_type": "markdown",
   "id": "7a0c3af2",
   "metadata": {},
   "source": [
    "To print multi line in a single string we use backslask at the end of every line or use triple quotes"
   ]
  },
  {
   "cell_type": "code",
   "execution_count": 16,
   "id": "5383f96c",
   "metadata": {},
   "outputs": [
    {
     "name": "stdout",
     "output_type": "stream",
     "text": [
      "my name is Rohan I am from Indore\n"
     ]
    }
   ],
   "source": [
    "# backslash method\n",
    "str1='my name is Rohan \\\n",
    "I am from Indore\\\n",
    "'\n",
    "print(str1)"
   ]
  },
  {
   "cell_type": "code",
   "execution_count": 12,
   "id": "cf3d1c31",
   "metadata": {},
   "outputs": [
    {
     "name": "stdout",
     "output_type": "stream",
     "text": [
      "my name is Rohan\n",
      "I am from Indore\n",
      "\n",
      "\n"
     ]
    }
   ],
   "source": [
    "# triple quote method\n",
    "str2='''my name is Rohan\n",
    "I am from Indore\n",
    "\n",
    "'''\n",
    "print(str2)"
   ]
  },
  {
   "cell_type": "markdown",
   "id": "9aa62523",
   "metadata": {},
   "source": [
    "In Python, string is like an array of characters. We can access parts of string by using its index which starts from 0."
   ]
  },
  {
   "cell_type": "code",
   "execution_count": 19,
   "id": "5021b793",
   "metadata": {},
   "outputs": [
    {
     "name": "stdout",
     "output_type": "stream",
     "text": [
      "R\n",
      "o\n",
      "h\n"
     ]
    },
    {
     "ename": "IndexError",
     "evalue": "string index out of range",
     "output_type": "error",
     "traceback": [
      "\u001b[1;31m---------------------------------------------------------------------------\u001b[0m",
      "\u001b[1;31mIndexError\u001b[0m                                Traceback (most recent call last)",
      "Input \u001b[1;32mIn [19]\u001b[0m, in \u001b[0;36m<cell line: 5>\u001b[1;34m()\u001b[0m\n\u001b[0;32m      3\u001b[0m \u001b[38;5;28mprint\u001b[39m(name[\u001b[38;5;241m1\u001b[39m])\n\u001b[0;32m      4\u001b[0m \u001b[38;5;28mprint\u001b[39m(name[\u001b[38;5;241m2\u001b[39m])\n\u001b[1;32m----> 5\u001b[0m \u001b[38;5;28mprint\u001b[39m(\u001b[43mname\u001b[49m\u001b[43m[\u001b[49m\u001b[38;5;241;43m5\u001b[39;49m\u001b[43m]\u001b[49m)\n",
      "\u001b[1;31mIndexError\u001b[0m: string index out of range"
     ]
    }
   ],
   "source": [
    "name='Rohan'\n",
    "print(name[0])\n",
    "print(name[1])\n",
    "print(name[2])\n",
    "print(name[5])"
   ]
  },
  {
   "cell_type": "markdown",
   "id": "ea7c7479",
   "metadata": {},
   "source": [
    "we can loop through strings using for loop like this"
   ]
  },
  {
   "cell_type": "code",
   "execution_count": 20,
   "id": "9d00953e",
   "metadata": {
    "scrolled": true
   },
   "outputs": [
    {
     "name": "stdout",
     "output_type": "stream",
     "text": [
      "a\n",
      "b\n",
      "c\n",
      "d\n",
      "e\n",
      "f\n",
      "g\n",
      "h\n",
      "i\n",
      "j\n",
      "k\n",
      "l\n",
      "m\n",
      "n\n",
      "o\n",
      "p\n",
      "q\n",
      "r\n",
      "s\n",
      "t\n",
      "u\n",
      "v\n",
      "w\n",
      "x\n",
      "y\n",
      "z\n"
     ]
    }
   ],
   "source": [
    "alphabet='abcdefghijklmnopqrstuvwxyz'\n",
    "for i in alphabet:\n",
    "    print(i)"
   ]
  },
  {
   "cell_type": "code",
   "execution_count": null,
   "id": "a1fa5d9f",
   "metadata": {},
   "outputs": [],
   "source": []
  }
 ],
 "metadata": {
  "kernelspec": {
   "display_name": "Python 3 (ipykernel)",
   "language": "python",
   "name": "python3"
  },
  "language_info": {
   "codemirror_mode": {
    "name": "ipython",
    "version": 3
   },
   "file_extension": ".py",
   "mimetype": "text/x-python",
   "name": "python",
   "nbconvert_exporter": "python",
   "pygments_lexer": "ipython3",
   "version": "3.11.5"
  }
 },
 "nbformat": 4,
 "nbformat_minor": 5
}
