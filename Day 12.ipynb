{
 "cells": [
  {
   "cell_type": "markdown",
   "id": "4775aba6",
   "metadata": {},
   "source": [
    "# Day 12"
   ]
  },
  {
   "cell_type": "markdown",
   "id": "814fa928",
   "metadata": {},
   "source": [
    "# String slicing and Operation"
   ]
  },
  {
   "cell_type": "code",
   "execution_count": 3,
   "id": "85d50db3",
   "metadata": {},
   "outputs": [
    {
     "name": "stdout",
     "output_type": "stream",
     "text": [
      "Rohan\n"
     ]
    }
   ],
   "source": [
    "# slicing\n",
    "name='RohanBhati'\n",
    "print(name[0:5])"
   ]
  },
  {
   "cell_type": "code",
   "execution_count": 4,
   "id": "c09df8ef",
   "metadata": {},
   "outputs": [
    {
     "name": "stdout",
     "output_type": "stream",
     "text": [
      "Rohan\n"
     ]
    }
   ],
   "source": [
    "print(name[:5])"
   ]
  },
  {
   "cell_type": "code",
   "execution_count": 5,
   "id": "2c629a21",
   "metadata": {},
   "outputs": [
    {
     "name": "stdout",
     "output_type": "stream",
     "text": [
      "hanB\n"
     ]
    }
   ],
   "source": [
    "print(name[2:6])"
   ]
  },
  {
   "cell_type": "code",
   "execution_count": 6,
   "id": "ea34f67c",
   "metadata": {},
   "outputs": [
    {
     "name": "stdout",
     "output_type": "stream",
     "text": [
      "RohanBhati\n"
     ]
    }
   ],
   "source": [
    "print(name[:])"
   ]
  },
  {
   "cell_type": "code",
   "execution_count": 13,
   "id": "55ecf5ff",
   "metadata": {},
   "outputs": [
    {
     "name": "stdout",
     "output_type": "stream",
     "text": [
      "RohanBhat\n"
     ]
    }
   ],
   "source": [
    "print(name[:-1])"
   ]
  },
  {
   "cell_type": "code",
   "execution_count": 7,
   "id": "6bf1736e",
   "metadata": {},
   "outputs": [
    {
     "name": "stdout",
     "output_type": "stream",
     "text": [
      "RohanBh\n"
     ]
    }
   ],
   "source": [
    "print(name[:-3])"
   ]
  },
  {
   "cell_type": "markdown",
   "id": "f403c93d",
   "metadata": {},
   "source": [
    "len(name)-9 : len(name)-1"
   ]
  },
  {
   "cell_type": "code",
   "execution_count": 15,
   "id": "6c09c8a3",
   "metadata": {},
   "outputs": [
    {
     "name": "stdout",
     "output_type": "stream",
     "text": [
      "ohanBhat\n"
     ]
    }
   ],
   "source": [
    "print(name[-9:-1])"
   ]
  },
  {
   "cell_type": "code",
   "execution_count": 17,
   "id": "937f6d37",
   "metadata": {},
   "outputs": [
    {
     "name": "stdout",
     "output_type": "stream",
     "text": [
      "nBh\n"
     ]
    }
   ],
   "source": [
    "print(name[4:-3])"
   ]
  },
  {
   "cell_type": "code",
   "execution_count": 16,
   "id": "e4903fdf",
   "metadata": {},
   "outputs": [
    {
     "name": "stdout",
     "output_type": "stream",
     "text": [
      "ar\n"
     ]
    }
   ],
   "source": [
    "nm='Harry'\n",
    "print(nm[-4:-2])"
   ]
  },
  {
   "cell_type": "code",
   "execution_count": null,
   "id": "352aefc9",
   "metadata": {},
   "outputs": [],
   "source": []
  }
 ],
 "metadata": {
  "kernelspec": {
   "display_name": "Python 3 (ipykernel)",
   "language": "python",
   "name": "python3"
  },
  "language_info": {
   "codemirror_mode": {
    "name": "ipython",
    "version": 3
   },
   "file_extension": ".py",
   "mimetype": "text/x-python",
   "name": "python",
   "nbconvert_exporter": "python",
   "pygments_lexer": "ipython3",
   "version": "3.11.5"
  }
 },
 "nbformat": 4,
 "nbformat_minor": 5
}
