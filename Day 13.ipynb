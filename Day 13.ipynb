{
 "cells": [
  {
   "cell_type": "markdown",
   "id": "898669c0",
   "metadata": {},
   "source": [
    "# Day 13"
   ]
  },
  {
   "cell_type": "markdown",
   "id": "5a08ea15",
   "metadata": {},
   "source": [
    "# String Methods\n",
    "They operates on your existing 'string' and return a new 'string' It doesn't change the original 'string'.\n",
    "### String is immutable"
   ]
  },
  {
   "cell_type": "code",
   "execution_count": 1,
   "id": "b2bfccde",
   "metadata": {},
   "outputs": [
    {
     "name": "stdout",
     "output_type": "stream",
     "text": [
      "ROHAN\n",
      "rohan\n",
      "Rohan\n"
     ]
    }
   ],
   "source": [
    "name='Rohan'\n",
    "print(name.upper())\n",
    "print(name.lower())\n",
    "print(name)"
   ]
  },
  {
   "cell_type": "code",
   "execution_count": 2,
   "id": "3ac70135",
   "metadata": {},
   "outputs": [],
   "source": [
    "name='My name is Rohan Bhati !!!!!'"
   ]
  },
  {
   "cell_type": "markdown",
   "id": "d0a52c50",
   "metadata": {},
   "source": [
    "#### Upper() method\n",
    "convert whole string in upper case"
   ]
  },
  {
   "cell_type": "code",
   "execution_count": 3,
   "id": "5f1739cd",
   "metadata": {},
   "outputs": [
    {
     "name": "stdout",
     "output_type": "stream",
     "text": [
      "MY NAME IS ROHAN BHATI !!!!!\n"
     ]
    }
   ],
   "source": [
    "print(name.upper())"
   ]
  },
  {
   "cell_type": "markdown",
   "id": "77216712",
   "metadata": {},
   "source": [
    "#### lower() method\n",
    "convert whole string in lower case"
   ]
  },
  {
   "cell_type": "code",
   "execution_count": 4,
   "id": "015dc9d3",
   "metadata": {},
   "outputs": [
    {
     "name": "stdout",
     "output_type": "stream",
     "text": [
      "my name is rohan bhati !!!!!\n"
     ]
    }
   ],
   "source": [
    "print(name.lower())"
   ]
  },
  {
   "cell_type": "markdown",
   "id": "37f43ba3",
   "metadata": {},
   "source": [
    "#### rstrip() method\n",
    "removing all charater from last not starters"
   ]
  },
  {
   "cell_type": "code",
   "execution_count": 5,
   "id": "95d7b62f",
   "metadata": {},
   "outputs": [
    {
     "name": "stdout",
     "output_type": "stream",
     "text": [
      "My name is Rohan Bhati \n"
     ]
    }
   ],
   "source": [
    "print(name.rstrip('!'))"
   ]
  },
  {
   "cell_type": "markdown",
   "id": "b222e991",
   "metadata": {},
   "source": [
    "#### replace() method\n",
    "replace all occurance of that"
   ]
  },
  {
   "cell_type": "code",
   "execution_count": 6,
   "id": "aac931e3",
   "metadata": {},
   "outputs": [
    {
     "name": "stdout",
     "output_type": "stream",
     "text": [
      "Your name is Rohan Bhati !!!!!\n"
     ]
    },
    {
     "data": {
      "text/plain": [
       "'My zame is Rohaz Bhati !!!!!'"
      ]
     },
     "execution_count": 6,
     "metadata": {},
     "output_type": "execute_result"
    }
   ],
   "source": [
    "print(name.replace('My','Your'))\n",
    "\n",
    "(name.replace('n','z'))"
   ]
  },
  {
   "cell_type": "markdown",
   "id": "6e01ee1f",
   "metadata": {},
   "source": [
    "#### split() method\n",
    "returns the separated strings as list items"
   ]
  },
  {
   "cell_type": "code",
   "execution_count": 7,
   "id": "2701ec66",
   "metadata": {},
   "outputs": [
    {
     "name": "stdout",
     "output_type": "stream",
     "text": [
      "['My', 'name', 'is', 'Rohan', 'Bhati', '!!!!!']\n",
      "['M', ' name is Rohan Bhati !!!!!']\n"
     ]
    }
   ],
   "source": [
    "print(name.split(' '))\n",
    "print(name.split('y'))"
   ]
  },
  {
   "cell_type": "markdown",
   "id": "369a9fc9",
   "metadata": {},
   "source": [
    "#### capitalize() method\n",
    "turns first character of string to uppercase"
   ]
  },
  {
   "cell_type": "code",
   "execution_count": 8,
   "id": "2555befb",
   "metadata": {},
   "outputs": [
    {
     "name": "stdout",
     "output_type": "stream",
     "text": [
      "My name is rohan bhati !!!!!\n"
     ]
    }
   ],
   "source": [
    "print(name.capitalize())"
   ]
  },
  {
   "cell_type": "markdown",
   "id": "69f6e658",
   "metadata": {},
   "source": [
    "#### center() method\n",
    "it aligns the string to the center as per parameters given by the user\n",
    "######  value - total length of string spaces are added at starting"
   ]
  },
  {
   "cell_type": "code",
   "execution_count": 9,
   "id": "8db9993b",
   "metadata": {},
   "outputs": [
    {
     "name": "stdout",
     "output_type": "stream",
     "text": [
      "      My name is Rohan Bhati !!!!!      \n"
     ]
    }
   ],
   "source": [
    "print(name.center(40))"
   ]
  },
  {
   "cell_type": "markdown",
   "id": "2d82b18b",
   "metadata": {},
   "source": [
    "#### count() method\n",
    "it return the number of times the given value has occured within the given string "
   ]
  },
  {
   "cell_type": "code",
   "execution_count": 10,
   "id": "7afca881",
   "metadata": {},
   "outputs": [
    {
     "name": "stdout",
     "output_type": "stream",
     "text": [
      "3\n"
     ]
    }
   ],
   "source": [
    "print(name.count('a'))"
   ]
  },
  {
   "cell_type": "markdown",
   "id": "a2913419",
   "metadata": {},
   "source": [
    "#### isalpha() method\n",
    "it returns true only if all characters of a string are alplhabets(both upper and lower case) only."
   ]
  },
  {
   "cell_type": "code",
   "execution_count": 12,
   "id": "6fe28b4d",
   "metadata": {},
   "outputs": [
    {
     "name": "stdout",
     "output_type": "stream",
     "text": [
      "False\n"
     ]
    }
   ],
   "source": [
    "print(name.isalpha())"
   ]
  },
  {
   "cell_type": "code",
   "execution_count": null,
   "id": "ef12b545",
   "metadata": {},
   "outputs": [],
   "source": []
  }
 ],
 "metadata": {
  "kernelspec": {
   "display_name": "Python 3 (ipykernel)",
   "language": "python",
   "name": "python3"
  },
  "language_info": {
   "codemirror_mode": {
    "name": "ipython",
    "version": 3
   },
   "file_extension": ".py",
   "mimetype": "text/x-python",
   "name": "python",
   "nbconvert_exporter": "python",
   "pygments_lexer": "ipython3",
   "version": "3.11.5"
  }
 },
 "nbformat": 4,
 "nbformat_minor": 5
}
