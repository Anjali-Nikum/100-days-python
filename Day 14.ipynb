{
 "cells": [
  {
   "cell_type": "markdown",
   "id": "bbd3f829",
   "metadata": {},
   "source": [
    "# Day 14"
   ]
  },
  {
   "cell_type": "code",
   "execution_count": 2,
   "id": "48185265",
   "metadata": {},
   "outputs": [
    {
     "name": "stdout",
     "output_type": "stream",
     "text": [
      "Enter your age52\n",
      "Your age is : 52\n",
      "You can drive\n"
     ]
    }
   ],
   "source": [
    "a=int(input('Enter your age'))\n",
    "print('Your age is :',a)\n",
    "\n",
    "if a>18:\n",
    "    print('You can drive')\n",
    "else:\n",
    "    print('You cannot drive')"
   ]
  },
  {
   "cell_type": "markdown",
   "id": "ad9689f9",
   "metadata": {},
   "source": [
    "### Conditional Operator\n",
    "#### >, < ,>=, <=, ==, !=\n",
    "result in true false"
   ]
  },
  {
   "cell_type": "markdown",
   "id": "f770a303",
   "metadata": {},
   "source": [
    "### if 'if' condition true it execute 'if' part or'if' condition is false so it will execute 'else' part\n",
    "### body of the if or else is defined by indentation"
   ]
  },
  {
   "cell_type": "markdown",
   "id": "dcc74100",
   "metadata": {},
   "source": [
    "## elif "
   ]
  },
  {
   "cell_type": "code",
   "execution_count": 6,
   "id": "b55d6ba1",
   "metadata": {},
   "outputs": [
    {
     "name": "stdout",
     "output_type": "stream",
     "text": [
      "Enter number :-5\n",
      "Number is negative\n"
     ]
    }
   ],
   "source": [
    "a=int(input('Enter number :'))\n",
    "if a>0:\n",
    "    print('Number is positive')\n",
    "elif a==0:\n",
    "    print('Number is zero')\n",
    "elif a<0:\n",
    "    print('Number is negative')"
   ]
  },
  {
   "cell_type": "code",
   "execution_count": 11,
   "id": "c8eeda0f",
   "metadata": {},
   "outputs": [
    {
     "name": "stdout",
     "output_type": "stream",
     "text": [
      "Enter number35\n",
      "num is greater than 25\n",
      "num is less than 40\n"
     ]
    }
   ],
   "source": [
    "num=int(input('Enter number'))\n",
    "if num>50:\n",
    "    print('num is greater than 50')\n",
    "    if num<100:\n",
    "        print('num is less than 100')\n",
    "    else:\n",
    "        print('num is greater than 100')\n",
    "elif num>25:\n",
    "    print('num is greater than 25')\n",
    "    if num<=40:\n",
    "        print('num is less than 40')\n",
    "    else:\n",
    "        print('num is greater than 40')\n",
    "else:\n",
    "    print('num is less than 25')"
   ]
  },
  {
   "cell_type": "code",
   "execution_count": null,
   "id": "1b5b9dd3",
   "metadata": {},
   "outputs": [],
   "source": []
  }
 ],
 "metadata": {
  "kernelspec": {
   "display_name": "Python 3 (ipykernel)",
   "language": "python",
   "name": "python3"
  },
  "language_info": {
   "codemirror_mode": {
    "name": "ipython",
    "version": 3
   },
   "file_extension": ".py",
   "mimetype": "text/x-python",
   "name": "python",
   "nbconvert_exporter": "python",
   "pygments_lexer": "ipython3",
   "version": "3.11.5"
  }
 },
 "nbformat": 4,
 "nbformat_minor": 5
}
