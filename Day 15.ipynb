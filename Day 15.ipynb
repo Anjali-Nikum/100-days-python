{
 "cells": [
  {
   "cell_type": "markdown",
   "id": "9ced009b",
   "metadata": {},
   "source": [
    "# Day 15"
   ]
  },
  {
   "cell_type": "markdown",
   "id": "587a1cc3",
   "metadata": {},
   "source": [
    "## Excercise 2 Good Morning sir\n",
    "create a python program capable of greeting you with Good Morning, Good Afternoon, and Good Evening. Your program should use time module to get the current hour."
   ]
  },
  {
   "cell_type": "code",
   "execution_count": 1,
   "id": "49ff8e58",
   "metadata": {},
   "outputs": [],
   "source": [
    "import time"
   ]
  },
  {
   "cell_type": "code",
   "execution_count": 2,
   "id": "01d12261",
   "metadata": {},
   "outputs": [
    {
     "data": {
      "text/plain": [
       "'14:50:52'"
      ]
     },
     "execution_count": 2,
     "metadata": {},
     "output_type": "execute_result"
    }
   ],
   "source": [
    "time.strftime('%H:%M:%S')"
   ]
  },
  {
   "cell_type": "code",
   "execution_count": 3,
   "id": "4ac0fd0b",
   "metadata": {},
   "outputs": [
    {
     "name": "stdout",
     "output_type": "stream",
     "text": [
      "Hour is : 14\n",
      "<class 'str'>\n",
      "Minute is : 51\n",
      "<class 'str'>\n",
      "Second is : 08\n",
      "<class 'str'>\n"
     ]
    }
   ],
   "source": [
    "hour=time.strftime('%H')\n",
    "minute=time.strftime('%M')\n",
    "second=time.strftime('%S')\n",
    "\n",
    "print('Hour is :',hour)\n",
    "print(type(hour))\n",
    "print('Minute is :',minute)\n",
    "print(type(minute))\n",
    "print('Second is :',second)\n",
    "print(type(second))"
   ]
  },
  {
   "cell_type": "markdown",
   "id": "bd825edc",
   "metadata": {},
   "source": [
    "All are in string we have to convert it in integer"
   ]
  },
  {
   "cell_type": "code",
   "execution_count": 4,
   "id": "d065ceed",
   "metadata": {},
   "outputs": [
    {
     "name": "stdout",
     "output_type": "stream",
     "text": [
      "Hour is : 14\n",
      "<class 'int'>\n",
      "Minute is : 51\n",
      "<class 'int'>\n",
      "Second is : 19\n",
      "<class 'int'>\n"
     ]
    }
   ],
   "source": [
    "\n",
    "hour=int(time.strftime('%H'))\n",
    "minute=int(time.strftime('%M'))\n",
    "second=int(time.strftime('%S'))\n",
    "\n",
    "print('Hour is :',hour)\n",
    "print(type(hour))\n",
    "print('Minute is :',minute)\n",
    "print(type(minute))\n",
    "print('Second is :',second)\n",
    "print(type(second))"
   ]
  },
  {
   "cell_type": "code",
   "execution_count": 14,
   "id": "bc8b4830",
   "metadata": {},
   "outputs": [
    {
     "name": "stdout",
     "output_type": "stream",
     "text": [
      "Good night sir\n"
     ]
    }
   ],
   "source": [
    "if hour>=0 and hour<12:\n",
    "    print('Good Morning Sir')\n",
    "elif hour>=12 and hour<17:\n",
    "    print('Good Afternoon Sir')\n",
    "elif hour>=17 and hour<20:\n",
    "    print('Good Evening Sir')\n",
    "elif hour>=20 and hour<=23:\n",
    "    print('Good night sir')"
   ]
  },
  {
   "cell_type": "code",
   "execution_count": null,
   "id": "71eef7e7",
   "metadata": {},
   "outputs": [],
   "source": []
  }
 ],
 "metadata": {
  "kernelspec": {
   "display_name": "Python 3 (ipykernel)",
   "language": "python",
   "name": "python3"
  },
  "language_info": {
   "codemirror_mode": {
    "name": "ipython",
    "version": 3
   },
   "file_extension": ".py",
   "mimetype": "text/x-python",
   "name": "python",
   "nbconvert_exporter": "python",
   "pygments_lexer": "ipython3",
   "version": "3.11.5"
  }
 },
 "nbformat": 4,
 "nbformat_minor": 5
}
