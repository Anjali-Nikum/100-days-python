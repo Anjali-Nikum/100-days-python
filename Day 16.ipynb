{
 "cells": [
  {
   "cell_type": "markdown",
   "id": "f07f0c1e",
   "metadata": {},
   "source": [
    "# Day 16"
   ]
  },
  {
   "cell_type": "markdown",
   "id": "cdfeacfe",
   "metadata": {},
   "source": [
    "## Match Case Statements"
   ]
  },
  {
   "cell_type": "markdown",
   "id": "e666b562",
   "metadata": {},
   "source": [
    " To implement switch-case like characteristics very similar to if-else functionality. we use a match case in python. "
   ]
  },
  {
   "cell_type": "code",
   "execution_count": 4,
   "id": "baf32db8",
   "metadata": {},
   "outputs": [
    {
     "name": "stdout",
     "output_type": "stream",
     "text": [
      "Enter number33\n"
     ]
    }
   ],
   "source": [
    "num = int(input('Enter number'))\n"
   ]
  },
  {
   "cell_type": "code",
   "execution_count": 5,
   "id": "43f42fcb",
   "metadata": {},
   "outputs": [
    {
     "name": "stdout",
     "output_type": "stream",
     "text": [
      "Number is one\n"
     ]
    }
   ],
   "source": [
    "num=1\n",
    "match num:\n",
    "    case 0:\n",
    "        print('Number is zero')\n",
    "    case 1:\n",
    "        print('Number is one')\n",
    "    case 3:\n",
    "        print('Number is three')\n",
    "    case _:\n",
    "        print('Default case')"
   ]
  },
  {
   "cell_type": "code",
   "execution_count": null,
   "id": "e4a815f3",
   "metadata": {},
   "outputs": [],
   "source": []
  }
 ],
 "metadata": {
  "kernelspec": {
   "display_name": "Python 3 (ipykernel)",
   "language": "python",
   "name": "python3"
  },
  "language_info": {
   "codemirror_mode": {
    "name": "ipython",
    "version": 3
   },
   "file_extension": ".py",
   "mimetype": "text/x-python",
   "name": "python",
   "nbconvert_exporter": "python",
   "pygments_lexer": "ipython3",
   "version": "3.11.5"
  }
 },
 "nbformat": 4,
 "nbformat_minor": 5
}
