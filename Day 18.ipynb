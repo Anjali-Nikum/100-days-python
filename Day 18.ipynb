{
 "cells": [
  {
   "cell_type": "markdown",
   "id": "561df860",
   "metadata": {},
   "source": [
    "# Day 18"
   ]
  },
  {
   "cell_type": "markdown",
   "id": "e17af04c",
   "metadata": {},
   "source": [
    "# While loops\n",
    "As the name suggests, while loops execute statements while the condition is True. As soon as the condition becomes False the interpreter comes out of the while loop.\n",
    "   ##### Or when we don't know how much iterations loop required so we use while loop."
   ]
  },
  {
   "cell_type": "code",
   "execution_count": 2,
   "id": "a7a1096d",
   "metadata": {},
   "outputs": [
    {
     "name": "stdout",
     "output_type": "stream",
     "text": [
      "1\n",
      "2\n",
      "3\n",
      "4\n",
      "5\n"
     ]
    }
   ],
   "source": [
    "i=1\n",
    "while i<=5:\n",
    "    print(i)\n",
    "    i=i+1"
   ]
  },
  {
   "cell_type": "code",
   "execution_count": null,
   "id": "d97e84f5",
   "metadata": {},
   "outputs": [],
   "source": []
  }
 ],
 "metadata": {
  "kernelspec": {
   "display_name": "Python 3 (ipykernel)",
   "language": "python",
   "name": "python3"
  },
  "language_info": {
   "codemirror_mode": {
    "name": "ipython",
    "version": 3
   },
   "file_extension": ".py",
   "mimetype": "text/x-python",
   "name": "python",
   "nbconvert_exporter": "python",
   "pygments_lexer": "ipython3",
   "version": "3.9.12"
  }
 },
 "nbformat": 4,
 "nbformat_minor": 5
}
