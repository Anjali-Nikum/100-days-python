{
 "cells": [
  {
   "cell_type": "markdown",
   "id": "37d79c1d",
   "metadata": {},
   "source": [
    "# Day 20"
   ]
  },
  {
   "cell_type": "markdown",
   "id": "c4fa195e",
   "metadata": {},
   "source": [
    "## Functions"
   ]
  },
  {
   "cell_type": "markdown",
   "id": "fe4305da",
   "metadata": {},
   "source": [
    "A function is a block of code that perform a specific task whenever it is called. In bigger programs, where we have large amounts of code, it is advisable to create or use existing functions that make the program flow organized and neat"
   ]
  },
  {
   "cell_type": "markdown",
   "id": "3141ef76",
   "metadata": {},
   "source": [
    "#### There are two types of function\n",
    "1. Built-In functions\n",
    "2. User-Defined functions"
   ]
  },
  {
   "cell_type": "markdown",
   "id": "26023971",
   "metadata": {},
   "source": [
    "### Built In Functions\n",
    "These functions are defined and pre-defined in python. Some examples of built in functions are min(), max(), len(), type(), range(), dict(), list(), set(), print(), tuple(), sum() etc."
   ]
  },
  {
   "cell_type": "markdown",
   "id": "0a48d73c",
   "metadata": {},
   "source": [
    "### User Defined Functions"
   ]
  },
  {
   "cell_type": "markdown",
   "id": "8a1da47b",
   "metadata": {},
   "source": [
    "We can create functions to perform specific tasks as per our needs. Such functions are called user defined functions."
   ]
  },
  {
   "cell_type": "code",
   "execution_count": 4,
   "id": "d4bfd1f2",
   "metadata": {},
   "outputs": [
    {
     "name": "stdout",
     "output_type": "stream",
     "text": [
      "4.235294117647059\n"
     ]
    }
   ],
   "source": [
    "a,b=9,8\n",
    "gmean=((a*b)/(a+b))\n",
    "print(gmean)"
   ]
  },
  {
   "cell_type": "code",
   "execution_count": 6,
   "id": "641c1f19",
   "metadata": {},
   "outputs": [
    {
     "name": "stdout",
     "output_type": "stream",
     "text": [
      "2.2222222222222223\n"
     ]
    }
   ],
   "source": [
    "c,d=4,5\n",
    "gmean=((c*d)/(c+d))\n",
    "print(gmean)"
   ]
  },
  {
   "cell_type": "markdown",
   "id": "8189e332",
   "metadata": {},
   "source": [
    "To find gmean we write same formula two times, Instead we use function"
   ]
  },
  {
   "cell_type": "code",
   "execution_count": 9,
   "id": "b2c7b8b2",
   "metadata": {},
   "outputs": [
    {
     "name": "stdout",
     "output_type": "stream",
     "text": [
      "4.235294117647059\n",
      "2.2222222222222223\n"
     ]
    }
   ],
   "source": [
    "def CalculateGmean(x,y):\n",
    "    gmean=((x*y)/(x+y))\n",
    "    print(gmean)\n",
    "a,b=9,8\n",
    "c,d=4,5\n",
    "CalculateGmean(a,b)\n",
    "CalculateGmean(c,d)"
   ]
  },
  {
   "cell_type": "code",
   "execution_count": 10,
   "id": "4b8c8906",
   "metadata": {},
   "outputs": [
    {
     "name": "stdout",
     "output_type": "stream",
     "text": [
      "9 is greater\n",
      "5 is greater\n"
     ]
    }
   ],
   "source": [
    "def isGreater(x,y):\n",
    "    if(x>y):\n",
    "        print(x,'is greater')\n",
    "    else:\n",
    "        print(y,'is greater')\n",
    "a,b=9,8\n",
    "c,d=4,5\n",
    "isGreater(a,b)\n",
    "isGreater(c,d)"
   ]
  },
  {
   "cell_type": "code",
   "execution_count": null,
   "id": "8e67bef3",
   "metadata": {},
   "outputs": [],
   "source": []
  }
 ],
 "metadata": {
  "kernelspec": {
   "display_name": "Python 3 (ipykernel)",
   "language": "python",
   "name": "python3"
  },
  "language_info": {
   "codemirror_mode": {
    "name": "ipython",
    "version": 3
   },
   "file_extension": ".py",
   "mimetype": "text/x-python",
   "name": "python",
   "nbconvert_exporter": "python",
   "pygments_lexer": "ipython3",
   "version": "3.11.5"
  }
 },
 "nbformat": 4,
 "nbformat_minor": 5
}
