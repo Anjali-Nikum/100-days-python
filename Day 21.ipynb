{
 "cells": [
  {
   "cell_type": "markdown",
   "id": "3c0d2cef",
   "metadata": {},
   "source": [
    "# Day 21"
   ]
  },
  {
   "cell_type": "markdown",
   "id": "6f77890b",
   "metadata": {},
   "source": [
    "### Functions Arguments"
   ]
  },
  {
   "cell_type": "markdown",
   "id": "33d071af",
   "metadata": {},
   "source": [
    "### 1. Default Arguments"
   ]
  },
  {
   "cell_type": "code",
   "execution_count": 1,
   "id": "c2412288",
   "metadata": {},
   "outputs": [
    {
     "name": "stdout",
     "output_type": "stream",
     "text": [
      "This is default1 function\n"
     ]
    }
   ],
   "source": [
    "def default1():\n",
    "    print('This is default1 function')\n",
    "default1()"
   ]
  },
  {
   "cell_type": "code",
   "execution_count": 2,
   "id": "971c9ef2",
   "metadata": {},
   "outputs": [
    {
     "name": "stdout",
     "output_type": "stream",
     "text": [
      "Mean of  10 and 20 is : 15.0\n"
     ]
    }
   ],
   "source": [
    "def default2(a=10,b=20):\n",
    "    print('Mean of ',a,'and',b,'is :',(a+b)/2)\n",
    "default2()"
   ]
  },
  {
   "cell_type": "markdown",
   "id": "c163b66c",
   "metadata": {},
   "source": [
    "if argument pass it update default value by new value"
   ]
  },
  {
   "cell_type": "code",
   "execution_count": 3,
   "id": "eac0d7b8",
   "metadata": {},
   "outputs": [
    {
     "name": "stdout",
     "output_type": "stream",
     "text": [
      "Mean of  1 and 2 is : 1.5\n"
     ]
    }
   ],
   "source": [
    "def default3(a=10,b=20):\n",
    "    print('Mean of ',a,'and',b,'is :',(a+b)/2)\n",
    "default3(1,2)"
   ]
  },
  {
   "cell_type": "code",
   "execution_count": 4,
   "id": "30955f72",
   "metadata": {},
   "outputs": [
    {
     "name": "stdout",
     "output_type": "stream",
     "text": [
      "Mean of  30 and 20 is : 25.0\n"
     ]
    }
   ],
   "source": [
    "# if one argument pass it update a value\n",
    "def default4(a=10,b=20):\n",
    "    print('Mean of ',a,'and',b,'is :',(a+b)/2)\n",
    "default4(30)"
   ]
  },
  {
   "cell_type": "code",
   "execution_count": 5,
   "id": "ba855d10",
   "metadata": {},
   "outputs": [
    {
     "name": "stdout",
     "output_type": "stream",
     "text": [
      "Mean of  10 and 6 is : 8.0\n"
     ]
    }
   ],
   "source": [
    "# if we pass by variable name it update that variable only\n",
    "def default5(a=10,b=20):\n",
    "    print('Mean of ',a,'and',b,'is :',(a+b)/2)\n",
    "default5(b=6)"
   ]
  },
  {
   "cell_type": "code",
   "execution_count": 6,
   "id": "d2675820",
   "metadata": {},
   "outputs": [
    {
     "name": "stdout",
     "output_type": "stream",
     "text": [
      "Name is : Rohan Example Bhati\n"
     ]
    }
   ],
   "source": [
    "def default6(FirstName,MiddleName='Nothing',LastName='Bhati'):\n",
    "    print('Name is :',FirstName,MiddleName,LastName)\n",
    "default6('Rohan','Example')"
   ]
  },
  {
   "cell_type": "markdown",
   "id": "7cbf2ac9",
   "metadata": {},
   "source": [
    "### 2. Keyword Arguments\n",
    "We can provide arguments with key-value, this way the interpreter recognize the arguments by the parameter name. Hence, the order in which the arguments passed does not matter."
   ]
  },
  {
   "cell_type": "code",
   "execution_count": 7,
   "id": "68dc000f",
   "metadata": {},
   "outputs": [
    {
     "name": "stdout",
     "output_type": "stream",
     "text": [
      "a = 10\n",
      "b = 20\n"
     ]
    }
   ],
   "source": [
    "def keyword(a,b):\n",
    "    print('a =',a)\n",
    "    print('b =',b)\n",
    "keyword(b=20,a=10)"
   ]
  },
  {
   "cell_type": "markdown",
   "id": "dc50346d",
   "metadata": {},
   "source": [
    "### 3. Required Arguments\n",
    "In case we don't pass arguments with a key-value syntax, then it is necessory to pass the arguments in the correct positional order ans the number of arguments passed should match with actual function definition"
   ]
  },
  {
   "cell_type": "code",
   "execution_count": 8,
   "id": "e1426573",
   "metadata": {},
   "outputs": [
    {
     "name": "stdout",
     "output_type": "stream",
     "text": [
      "average is : 2.0\n"
     ]
    }
   ],
   "source": [
    "def average1(a,b,c=5):\n",
    "    print('average is :',(a+b+c)/3)\n",
    "average1(1,2,3)"
   ]
  },
  {
   "cell_type": "code",
   "execution_count": 9,
   "id": "1d3beec6",
   "metadata": {},
   "outputs": [
    {
     "name": "stdout",
     "output_type": "stream",
     "text": [
      "average is : 2.6666666666666665\n"
     ]
    }
   ],
   "source": [
    "def average2(a,b,c=5):\n",
    "    print('average is :',(a+b+c)/3)\n",
    "average2(1,2)"
   ]
  },
  {
   "cell_type": "code",
   "execution_count": 10,
   "id": "22bc20fe",
   "metadata": {},
   "outputs": [
    {
     "ename": "TypeError",
     "evalue": "average3() missing 1 required positional argument: 'b'",
     "output_type": "error",
     "traceback": [
      "\u001b[1;31m---------------------------------------------------------------------------\u001b[0m",
      "\u001b[1;31mTypeError\u001b[0m                                 Traceback (most recent call last)",
      "Cell \u001b[1;32mIn[10], line 3\u001b[0m\n\u001b[0;32m      1\u001b[0m \u001b[38;5;28;01mdef\u001b[39;00m \u001b[38;5;21maverage3\u001b[39m(a,b,c\u001b[38;5;241m=\u001b[39m\u001b[38;5;241m5\u001b[39m):\n\u001b[0;32m      2\u001b[0m     \u001b[38;5;28mprint\u001b[39m(\u001b[38;5;124m'\u001b[39m\u001b[38;5;124maverage is :\u001b[39m\u001b[38;5;124m'\u001b[39m,(a\u001b[38;5;241m+\u001b[39mb\u001b[38;5;241m+\u001b[39mc)\u001b[38;5;241m/\u001b[39m\u001b[38;5;241m3\u001b[39m)\n\u001b[1;32m----> 3\u001b[0m average3(\u001b[38;5;241m1\u001b[39m)\n",
      "\u001b[1;31mTypeError\u001b[0m: average3() missing 1 required positional argument: 'b'"
     ]
    }
   ],
   "source": [
    "def average3(a,b,c=5):\n",
    "    print('average is :',(a+b+c)/3)\n",
    "average3(1)"
   ]
  },
  {
   "cell_type": "markdown",
   "id": "8c386b14",
   "metadata": {},
   "source": [
    "### Variable-Length Arguments\n",
    "    Sometimes we may need to pass more arguments than those defined in the actual function. This can be done using variable-length arguments.\n",
    "    There are two ways to achieve this:\n",
    "    Arbitrary Arguments\n",
    "    Keyword Arbitrary Arguments"
   ]
  },
  {
   "cell_type": "markdown",
   "id": "a4cdb59a",
   "metadata": {},
   "source": [
    "#### Arbitrary Arguments\n",
    "While creating a function, pass a * before the parameter name while defining the function. The function accesses the arguments by processing them in the form of tuple"
   ]
  },
  {
   "cell_type": "code",
   "execution_count": 11,
   "id": "baecd23a",
   "metadata": {},
   "outputs": [
    {
     "name": "stdout",
     "output_type": "stream",
     "text": [
      "<class 'tuple'>\n",
      "3.0\n"
     ]
    }
   ],
   "source": [
    "def average(*numbers):\n",
    "    print(type(numbers))\n",
    "    sum=0\n",
    "    for i in numbers:\n",
    "        sum+=i\n",
    "    print(sum/len(numbers))\n",
    "average(1,2,3,4,5)"
   ]
  },
  {
   "cell_type": "markdown",
   "id": "ee791a96",
   "metadata": {},
   "source": [
    "#### Keyword Arbitrary Arguments\n",
    "While creating a function, pass a ** before the parameter name while defining the function. The function accesses the arguments by processing them in the form of dictionary"
   ]
  },
  {
   "cell_type": "code",
   "execution_count": 12,
   "id": "c75c99ba",
   "metadata": {},
   "outputs": [
    {
     "name": "stdout",
     "output_type": "stream",
     "text": [
      "Rohan Bhati\n"
     ]
    }
   ],
   "source": [
    "def name(**name):\n",
    "    print(name['FirstName'],name['LastName'])\n",
    "name(FirstName='Rohan',LastName='Bhati')"
   ]
  },
  {
   "cell_type": "code",
   "execution_count": 13,
   "id": "6403b2c6",
   "metadata": {},
   "outputs": [
    {
     "name": "stdout",
     "output_type": "stream",
     "text": [
      "<class 'dict'>\n",
      "3.0\n"
     ]
    }
   ],
   "source": [
    "def average(**numbers):\n",
    "    print(type(numbers))\n",
    "    sum=0\n",
    "    for i in numbers:\n",
    "        sum+=numbers[i]\n",
    "    print(sum/len(numbers))\n",
    "average(a=1,b=2,c=3,d=4,e=5)"
   ]
  },
  {
   "cell_type": "markdown",
   "id": "163dc013",
   "metadata": {},
   "source": [
    "### 5. return Statement\n",
    "The return statement is used to return the value of the expression back to the calling function"
   ]
  },
  {
   "cell_type": "code",
   "execution_count": 14,
   "id": "bea82f55",
   "metadata": {},
   "outputs": [
    {
     "name": "stdout",
     "output_type": "stream",
     "text": [
      "average is : 3.0\n"
     ]
    }
   ],
   "source": [
    "def average(**numbers):\n",
    "    sum=0\n",
    "    for i in numbers:\n",
    "        sum+=numbers[i]\n",
    "    return sum/len(numbers)\n",
    "avg=average(a=1,b=2,c=3,d=4,e=5)\n",
    "print('average is :',avg)"
   ]
  },
  {
   "cell_type": "markdown",
   "id": "5ef7735f",
   "metadata": {},
   "source": [
    " if two return present it execute 1st return"
   ]
  },
  {
   "cell_type": "code",
   "execution_count": 15,
   "id": "4b36d12c",
   "metadata": {},
   "outputs": [
    {
     "name": "stdout",
     "output_type": "stream",
     "text": [
      "even\n",
      "odd\n"
     ]
    }
   ],
   "source": [
    "def check(a):\n",
    "    if a%2==0:\n",
    "        return 'even'\n",
    "    return 'odd'\n",
    "ans1=check(20)\n",
    "ans2=check(19)\n",
    "print(ans1)\n",
    "print(ans2)"
   ]
  }
 ],
 "metadata": {
  "kernelspec": {
   "display_name": "Python 3 (ipykernel)",
   "language": "python",
   "name": "python3"
  },
  "language_info": {
   "codemirror_mode": {
    "name": "ipython",
    "version": 3
   },
   "file_extension": ".py",
   "mimetype": "text/x-python",
   "name": "python",
   "nbconvert_exporter": "python",
   "pygments_lexer": "ipython3",
   "version": "3.11.5"
  }
 },
 "nbformat": 4,
 "nbformat_minor": 5
}
