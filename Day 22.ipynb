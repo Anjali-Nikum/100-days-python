{
 "cells": [
  {
   "cell_type": "markdown",
   "id": "ec8f306c",
   "metadata": {},
   "source": [
    "# Day 22"
   ]
  },
  {
   "cell_type": "markdown",
   "id": "2de4d16e",
   "metadata": {},
   "source": [
    "## Lists in Python"
   ]
  },
  {
   "cell_type": "markdown",
   "id": "7d8b50e9",
   "metadata": {},
   "source": [
    "    Lists are ordered collection of data items.\n",
    "    They store multiple items in a single variable.\n",
    "    List items are separated by commas and enclosed within square brackets[].\n",
    "    Lists are changeable meaning we can alter them after creation."
   ]
  },
  {
   "cell_type": "code",
   "execution_count": 4,
   "id": "258314d7",
   "metadata": {},
   "outputs": [
    {
     "name": "stdout",
     "output_type": "stream",
     "text": [
      "[1, 2, 3]\n",
      "<class 'list'>\n"
     ]
    }
   ],
   "source": [
    "List=[1,2,3]\n",
    "print(List)\n",
    "print(type(List))"
   ]
  },
  {
   "cell_type": "code",
   "execution_count": 5,
   "id": "babe13a8",
   "metadata": {},
   "outputs": [
    {
     "name": "stdout",
     "output_type": "stream",
     "text": [
      "1\n",
      "2\n"
     ]
    }
   ],
   "source": [
    "print(List[0])\n",
    "print(List[1])"
   ]
  },
  {
   "cell_type": "code",
   "execution_count": 6,
   "id": "04c3eb7d",
   "metadata": {},
   "outputs": [
    {
     "name": "stdout",
     "output_type": "stream",
     "text": [
      "3\n"
     ]
    }
   ],
   "source": [
    "print(List[-1])"
   ]
  },
  {
   "cell_type": "markdown",
   "id": "93338ea6",
   "metadata": {},
   "source": [
    "we can also add multiple items of different data types "
   ]
  },
  {
   "cell_type": "code",
   "execution_count": 8,
   "id": "f897a8c3",
   "metadata": {},
   "outputs": [
    {
     "name": "stdout",
     "output_type": "stream",
     "text": [
      "[3, 4.5, None, True, 'rohan']\n"
     ]
    }
   ],
   "source": [
    "List2=[3,4.5,None,True,'rohan']\n",
    "print(List2)"
   ]
  },
  {
   "cell_type": "code",
   "execution_count": 9,
   "id": "797676b3",
   "metadata": {},
   "outputs": [
    {
     "name": "stdout",
     "output_type": "stream",
     "text": [
      "Blue\n",
      "Blue\n"
     ]
    }
   ],
   "source": [
    "List3=['Red','Green','Yellow','Blue','Black','While']\n",
    "print(List3[-3])\n",
    "print(List3[len(List3)-3])"
   ]
  },
  {
   "cell_type": "markdown",
   "id": "61e7dd85",
   "metadata": {},
   "source": [
    "to check element present in List or not"
   ]
  },
  {
   "cell_type": "code",
   "execution_count": 10,
   "id": "c9f90645",
   "metadata": {},
   "outputs": [
    {
     "name": "stdout",
     "output_type": "stream",
     "text": [
      "False\n"
     ]
    }
   ],
   "source": [
    "List3=['Red','Green','Yellow','Blue','Black','While']\n",
    "if 34 in List3:\n",
    "    print(True)\n",
    "else:\n",
    "    print(False)"
   ]
  },
  {
   "cell_type": "code",
   "execution_count": 11,
   "id": "5120d280",
   "metadata": {},
   "outputs": [
    {
     "name": "stdout",
     "output_type": "stream",
     "text": [
      "True\n"
     ]
    }
   ],
   "source": [
    "List3=['Red','Green','Yellow','Blue','Black','While']\n",
    "if 'Red' in List3:\n",
    "    print(True)\n",
    "else:\n",
    "    print(False)"
   ]
  },
  {
   "cell_type": "markdown",
   "id": "53f6f5ab",
   "metadata": {},
   "source": [
    "Same think applies for string as well. check string in string"
   ]
  },
  {
   "cell_type": "code",
   "execution_count": 12,
   "id": "d2b8a76c",
   "metadata": {},
   "outputs": [
    {
     "name": "stdout",
     "output_type": "stream",
     "text": [
      "True\n"
     ]
    }
   ],
   "source": [
    "if 'ree' in 'Green':\n",
    "    print(True)\n",
    "else:\n",
    "    print(False)"
   ]
  },
  {
   "cell_type": "code",
   "execution_count": 14,
   "id": "9bc6d1cc",
   "metadata": {},
   "outputs": [
    {
     "name": "stdout",
     "output_type": "stream",
     "text": [
      "True\n"
     ]
    }
   ],
   "source": [
    "if 'ree' in List3[1]:\n",
    "    print(True)\n",
    "else:\n",
    "    print(False)"
   ]
  },
  {
   "cell_type": "raw",
   "id": "62e41297",
   "metadata": {},
   "source": [
    "print all elements"
   ]
  },
  {
   "cell_type": "code",
   "execution_count": 24,
   "id": "ef7a0867",
   "metadata": {},
   "outputs": [
    {
     "name": "stdout",
     "output_type": "stream",
     "text": [
      "[43, 5, 24, 87, 23]\n",
      "[43, 5, 24, 87, 23]\n",
      "[43, 5, 24, 87, 23]\n"
     ]
    }
   ],
   "source": [
    "List3=[43,5,24,87,23]\n",
    "print(List3)\n",
    "print(List3[:])\n",
    "print(List3[0:len(List3)])"
   ]
  },
  {
   "cell_type": "code",
   "execution_count": 17,
   "id": "18000494",
   "metadata": {},
   "outputs": [
    {
     "name": "stdout",
     "output_type": "stream",
     "text": [
      "[24, 87, 23]\n"
     ]
    }
   ],
   "source": [
    "print(List3[2:])"
   ]
  },
  {
   "cell_type": "code",
   "execution_count": 18,
   "id": "9ef944ae",
   "metadata": {},
   "outputs": [
    {
     "name": "stdout",
     "output_type": "stream",
     "text": [
      "[43, 5]\n"
     ]
    }
   ],
   "source": [
    "print(List3[:-3])"
   ]
  },
  {
   "cell_type": "code",
   "execution_count": 20,
   "id": "3061265d",
   "metadata": {},
   "outputs": [
    {
     "name": "stdout",
     "output_type": "stream",
     "text": [
      "[5, 24, 87]\n"
     ]
    }
   ],
   "source": [
    "print(List3[1:4])"
   ]
  },
  {
   "cell_type": "code",
   "execution_count": 21,
   "id": "cb04a19e",
   "metadata": {},
   "outputs": [
    {
     "name": "stdout",
     "output_type": "stream",
     "text": [
      "[5, 87]\n"
     ]
    }
   ],
   "source": [
    "print(List3[1:4:2])"
   ]
  },
  {
   "cell_type": "code",
   "execution_count": 23,
   "id": "c45168a3",
   "metadata": {},
   "outputs": [
    {
     "name": "stdout",
     "output_type": "stream",
     "text": [
      "[2, 4, 6, 8, 10, 12, 14, 16, 18, 20]\n"
     ]
    }
   ],
   "source": [
    "List4=[1,2,3,4,5,6,7,8,9,10,11,12,13,14,15,16,17,18,19,20]\n",
    "print(List4[1:len(List4):2])"
   ]
  },
  {
   "cell_type": "markdown",
   "id": "779c0f6c",
   "metadata": {},
   "source": [
    "### List Comprehension\n",
    "    list=[item for item in iterable if condition]\n",
    "    Item -> It is the item which is being iterared.\n",
    "    Iterable -> It can be list, tuples, dictionaries, sets and even array and strings.\n",
    "    Condition -> condition checks if the item should be added to the new list or not."
   ]
  },
  {
   "cell_type": "code",
   "execution_count": 25,
   "id": "c5daa830",
   "metadata": {},
   "outputs": [
    {
     "name": "stdout",
     "output_type": "stream",
     "text": [
      "[0, 1, 4, 9, 16, 25, 36, 49, 64, 81, 100]\n"
     ]
    }
   ],
   "source": [
    "lst=[i*i for i in range(11)]\n",
    "print(lst)"
   ]
  },
  {
   "cell_type": "code",
   "execution_count": 30,
   "id": "472550dc",
   "metadata": {},
   "outputs": [
    {
     "name": "stdout",
     "output_type": "stream",
     "text": [
      "[0, 4, 16, 36, 64, 100]\n"
     ]
    }
   ],
   "source": [
    "lst=[i*i for i in range(11) if i%2==0]\n",
    "print(lst)"
   ]
  },
  {
   "cell_type": "code",
   "execution_count": null,
   "id": "224d0331",
   "metadata": {},
   "outputs": [],
   "source": []
  }
 ],
 "metadata": {
  "kernelspec": {
   "display_name": "Python 3 (ipykernel)",
   "language": "python",
   "name": "python3"
  },
  "language_info": {
   "codemirror_mode": {
    "name": "ipython",
    "version": 3
   },
   "file_extension": ".py",
   "mimetype": "text/x-python",
   "name": "python",
   "nbconvert_exporter": "python",
   "pygments_lexer": "ipython3",
   "version": "3.11.5"
  }
 },
 "nbformat": 4,
 "nbformat_minor": 5
}
