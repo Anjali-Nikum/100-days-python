{
 "cells": [
  {
   "cell_type": "markdown",
   "id": "0e5d437b",
   "metadata": {},
   "source": [
    "# Day 23"
   ]
  },
  {
   "cell_type": "markdown",
   "id": "53957353",
   "metadata": {},
   "source": [
    "## List Methods"
   ]
  },
  {
   "cell_type": "code",
   "execution_count": 2,
   "id": "3277e187",
   "metadata": {},
   "outputs": [
    {
     "name": "stdout",
     "output_type": "stream",
     "text": [
      "[1, 4, 7, 2, 6, 9, 1, 4]\n"
     ]
    }
   ],
   "source": [
    "List=[1,4,7,2,6,9,1,4]\n",
    "print(List)"
   ]
  },
  {
   "cell_type": "markdown",
   "id": "8610027d",
   "metadata": {},
   "source": [
    "##### Append()\n",
    "The append() method appends an element to the end of the list."
   ]
  },
  {
   "cell_type": "code",
   "execution_count": 3,
   "id": "4372ef57",
   "metadata": {},
   "outputs": [
    {
     "name": "stdout",
     "output_type": "stream",
     "text": [
      "[1, 4, 7, 2, 6, 9, 1, 4, 50, 60]\n"
     ]
    }
   ],
   "source": [
    "List.append(50)\n",
    "List.append(60)\n",
    "print(List)"
   ]
  },
  {
   "cell_type": "markdown",
   "id": "8f75f958",
   "metadata": {},
   "source": [
    "##### sort()\n",
    "    The sort() method sorts the list ascending by default.\n",
    "    You can also make a function to decide the sorting criteria(s).\n",
    "    Syntax = list.sort(reverse=True|False, key=myFunc)\n",
    "    Reverse -> Optional. reverse=True will sort the list descending. Default is reverse=False\n",
    "    Key -> \tOptional. A function to specify the sorting criteria(s)"
   ]
  },
  {
   "cell_type": "code",
   "execution_count": 4,
   "id": "a4237347",
   "metadata": {},
   "outputs": [
    {
     "name": "stdout",
     "output_type": "stream",
     "text": [
      "[1, 4, 7, 2, 6, 9, 1, 4, 50, 60]\n"
     ]
    }
   ],
   "source": [
    "print(List)"
   ]
  },
  {
   "cell_type": "code",
   "execution_count": 6,
   "id": "956ac043",
   "metadata": {},
   "outputs": [
    {
     "name": "stdout",
     "output_type": "stream",
     "text": [
      "[1, 1, 2, 4, 4, 6, 7, 9, 50, 60]\n"
     ]
    }
   ],
   "source": [
    "List.sort()\n",
    "print(List)"
   ]
  },
  {
   "cell_type": "code",
   "execution_count": 7,
   "id": "63bad644",
   "metadata": {},
   "outputs": [
    {
     "name": "stdout",
     "output_type": "stream",
     "text": [
      "[60, 50, 9, 7, 6, 4, 4, 2, 1, 1]\n"
     ]
    }
   ],
   "source": [
    "List.sort(reverse=True)\n",
    "print(List)"
   ]
  },
  {
   "cell_type": "raw",
   "id": "9a86569a",
   "metadata": {},
   "source": [
    "Sort by length of word"
   ]
  },
  {
   "cell_type": "code",
   "execution_count": 8,
   "id": "bf015643",
   "metadata": {},
   "outputs": [
    {
     "name": "stdout",
     "output_type": "stream",
     "text": [
      "['abcd', 'a', 'abcdefg', 'abc', 'abcdefghij', 'abcdefgh']\n"
     ]
    }
   ],
   "source": [
    "List2=['abcd','a','abcdefg','abc','abcdefghij','abcdefgh']\n",
    "print(List2)"
   ]
  },
  {
   "cell_type": "code",
   "execution_count": 10,
   "id": "82d62b00",
   "metadata": {},
   "outputs": [
    {
     "name": "stdout",
     "output_type": "stream",
     "text": [
      "['a', 'abc', 'abcd', 'abcdefg', 'abcdefgh', 'abcdefghij']\n"
     ]
    }
   ],
   "source": [
    "def myfunc(e):\n",
    "    return len(e)\n",
    "List2.sort(key=myfunc)\n",
    "print(List2)"
   ]
  },
  {
   "cell_type": "code",
   "execution_count": 11,
   "id": "263cb35a",
   "metadata": {},
   "outputs": [
    {
     "name": "stdout",
     "output_type": "stream",
     "text": [
      "['abcdefghij', 'abcdefgh', 'abcdefg', 'abcd', 'abc', 'a']\n"
     ]
    }
   ],
   "source": [
    "def myfunc(e):\n",
    "    return len(e)\n",
    "List2.sort(key=myfunc,reverse=True)\n",
    "print(List2)"
   ]
  },
  {
   "cell_type": "markdown",
   "id": "d228958d",
   "metadata": {},
   "source": [
    "##### Reverse()\n",
    "reverse the string in same order"
   ]
  },
  {
   "cell_type": "code",
   "execution_count": 12,
   "id": "4d5a0769",
   "metadata": {},
   "outputs": [
    {
     "name": "stdout",
     "output_type": "stream",
     "text": [
      "[24, 9, 7, 3, 4, 8, 4, 5, 3, 1]\n"
     ]
    }
   ],
   "source": [
    "List3=[1,3,5,4,8,4,3,7,9,24]\n",
    "List3.reverse()\n",
    "print(List3)"
   ]
  },
  {
   "cell_type": "markdown",
   "id": "cd3736bc",
   "metadata": {},
   "source": [
    "##### index()\n",
    "The index() method returns the position at the first occurrence of the specified value."
   ]
  },
  {
   "cell_type": "code",
   "execution_count": 14,
   "id": "c6c05b15",
   "metadata": {},
   "outputs": [
    {
     "name": "stdout",
     "output_type": "stream",
     "text": [
      "7\n",
      "1\n"
     ]
    }
   ],
   "source": [
    "List4=[1,3,3,5,4,8,4,45,7,9,24]\n",
    "print(List4.index(45))\n",
    "print(List4.index(3))"
   ]
  },
  {
   "cell_type": "markdown",
   "id": "e7de6a79",
   "metadata": {},
   "source": [
    "##### copy()\n",
    "You cannot copy a list simply by typing list2 = list1, because: list2 will only be a reference to list1, and changes made in list1 will automatically also be made in list2."
   ]
  },
  {
   "cell_type": "code",
   "execution_count": 15,
   "id": "d749a944",
   "metadata": {},
   "outputs": [
    {
     "name": "stdout",
     "output_type": "stream",
     "text": [
      "[1, 2, 3, 4, 5, 6]\n",
      "[1, 2, 3, 4, 5, 6]\n"
     ]
    }
   ],
   "source": [
    "List4=[1,2,3,4,5,6]\n",
    "List5=List4.copy()\n",
    "print(List4)\n",
    "print(List5)"
   ]
  },
  {
   "cell_type": "code",
   "execution_count": 16,
   "id": "43f66599",
   "metadata": {},
   "outputs": [
    {
     "name": "stdout",
     "output_type": "stream",
     "text": [
      "[10, 2, 3, 4, 5, 6]\n",
      "[1, 2, 3, 4, 5, 6]\n"
     ]
    }
   ],
   "source": [
    "List5[0]=10\n",
    "print(List4)\n",
    "print(List5)"
   ]
  },
  {
   "cell_type": "code",
   "execution_count": 17,
   "id": "c6718c05",
   "metadata": {},
   "outputs": [
    {
     "name": "stdout",
     "output_type": "stream",
     "text": [
      "[10, 2, 3, 4, 5, 6]\n",
      "[1, 2, 3, 4, 5, 20]\n"
     ]
    }
   ],
   "source": [
    "List5[-1]=20\n",
    "print(List4)\n",
    "print(List5)"
   ]
  },
  {
   "cell_type": "markdown",
   "id": "fcd15b56",
   "metadata": {},
   "source": [
    "##### insert()\n",
    "The insert() method inserts the specified value at the specified position"
   ]
  },
  {
   "cell_type": "code",
   "execution_count": 18,
   "id": "d7d28a03",
   "metadata": {},
   "outputs": [
    {
     "name": "stdout",
     "output_type": "stream",
     "text": [
      "[1, 2, 150, 3, 4, 5, 6]\n"
     ]
    }
   ],
   "source": [
    "List6=[1,2,3,4,5,6]\n",
    "List6.insert(2,150)\n",
    "print(List6)"
   ]
  },
  {
   "cell_type": "markdown",
   "id": "44e9fbd7",
   "metadata": {},
   "source": [
    "##### Extend()\n",
    "The extend() method adds the specified list elements (or any iterable) to the end of the current list."
   ]
  },
  {
   "cell_type": "code",
   "execution_count": 19,
   "id": "4ed68e77",
   "metadata": {},
   "outputs": [
    {
     "name": "stdout",
     "output_type": "stream",
     "text": [
      "[1, 2, 3, 4, 5, 6, 7, 8, 9, 10]\n"
     ]
    }
   ],
   "source": [
    "lst=[1,2,3,4,5,6,7,8,9,10]\n",
    "print(lst)"
   ]
  },
  {
   "cell_type": "code",
   "execution_count": 20,
   "id": "d2a5543d",
   "metadata": {},
   "outputs": [
    {
     "name": "stdout",
     "output_type": "stream",
     "text": [
      "[98, 99, 100]\n"
     ]
    }
   ],
   "source": [
    "m=[98,99,100]\n",
    "print(m)"
   ]
  },
  {
   "cell_type": "code",
   "execution_count": 21,
   "id": "d7f7fda9",
   "metadata": {},
   "outputs": [
    {
     "name": "stdout",
     "output_type": "stream",
     "text": [
      "[1, 2, 3, 4, 5, 6, 7, 8, 9, 10, 98, 99, 100]\n"
     ]
    }
   ],
   "source": [
    "lst.extend(m)\n",
    "print(lst)"
   ]
  },
  {
   "cell_type": "markdown",
   "id": "f71a7f29",
   "metadata": {},
   "source": [
    "##### Concatenating two list"
   ]
  },
  {
   "cell_type": "code",
   "execution_count": 22,
   "id": "1d8c4c40",
   "metadata": {},
   "outputs": [
    {
     "name": "stdout",
     "output_type": "stream",
     "text": [
      "[1, 2, 3, 4, 5, 6]\n"
     ]
    }
   ],
   "source": [
    "lst1=[1,2,3]\n",
    "lst2=[4,5,6]\n",
    "new_lst=lst1+lst2\n",
    "print(new_lst)"
   ]
  },
  {
   "cell_type": "code",
   "execution_count": null,
   "id": "1379dbe6",
   "metadata": {},
   "outputs": [],
   "source": []
  }
 ],
 "metadata": {
  "kernelspec": {
   "display_name": "Python 3 (ipykernel)",
   "language": "python",
   "name": "python3"
  },
  "language_info": {
   "codemirror_mode": {
    "name": "ipython",
    "version": 3
   },
   "file_extension": ".py",
   "mimetype": "text/x-python",
   "name": "python",
   "nbconvert_exporter": "python",
   "pygments_lexer": "ipython3",
   "version": "3.11.5"
  }
 },
 "nbformat": 4,
 "nbformat_minor": 5
}
