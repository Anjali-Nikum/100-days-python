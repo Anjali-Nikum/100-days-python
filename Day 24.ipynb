{
 "cells": [
  {
   "cell_type": "markdown",
   "id": "2fac5b48",
   "metadata": {},
   "source": [
    "# Day 24\n",
    "\n",
    "### Tuples"
   ]
  },
  {
   "cell_type": "markdown",
   "id": "7be3907a",
   "metadata": {},
   "source": [
    "Tuple is one of the built-in data types in Python. A Python tuple is a sequence of comma separated items, enclosed in parentheses (). The items in a Python tuple need not be of same data type."
   ]
  },
  {
   "cell_type": "code",
   "execution_count": 1,
   "id": "24dfdcbf",
   "metadata": {},
   "outputs": [
    {
     "name": "stdout",
     "output_type": "stream",
     "text": [
      "<class 'tuple'>\n",
      "(1, 2, 3)\n"
     ]
    }
   ],
   "source": [
    "tup=(1,2,3)\n",
    "print(type(tup))\n",
    "print(tup)"
   ]
  },
  {
   "cell_type": "code",
   "execution_count": 2,
   "id": "8c9972da",
   "metadata": {},
   "outputs": [
    {
     "name": "stdout",
     "output_type": "stream",
     "text": [
      "<class 'int'>\n",
      "1\n"
     ]
    }
   ],
   "source": [
    "tup=(1)\n",
    "print(type(tup))\n",
    "print(tup)"
   ]
  },
  {
   "cell_type": "markdown",
   "id": "90c72a27",
   "metadata": {},
   "source": [
    "When we add only one element in a tuple, it consider as a integer.To keep one element as a tuple we add comma(,) after element"
   ]
  },
  {
   "cell_type": "code",
   "execution_count": 4,
   "id": "4c6017bc",
   "metadata": {},
   "outputs": [
    {
     "name": "stdout",
     "output_type": "stream",
     "text": [
      "<class 'tuple'>\n",
      "(1,)\n"
     ]
    }
   ],
   "source": [
    "tup=(1,)\n",
    "print(type(tup))\n",
    "print(tup)"
   ]
  },
  {
   "cell_type": "markdown",
   "id": "cd143ec3",
   "metadata": {},
   "source": [
    "We can't modify the tuple"
   ]
  },
  {
   "cell_type": "code",
   "execution_count": 6,
   "id": "280af018",
   "metadata": {},
   "outputs": [
    {
     "ename": "TypeError",
     "evalue": "'tuple' object does not support item assignment",
     "output_type": "error",
     "traceback": [
      "\u001b[1;31m---------------------------------------------------------------------------\u001b[0m",
      "\u001b[1;31mTypeError\u001b[0m                                 Traceback (most recent call last)",
      "Cell \u001b[1;32mIn[6], line 2\u001b[0m\n\u001b[0;32m      1\u001b[0m tupl\u001b[38;5;241m=\u001b[39m(\u001b[38;5;241m1\u001b[39m,\u001b[38;5;241m2\u001b[39m,\u001b[38;5;241m3.3\u001b[39m,\u001b[38;5;124m'\u001b[39m\u001b[38;5;124mRohan\u001b[39m\u001b[38;5;124m'\u001b[39m,\u001b[38;5;28;01mTrue\u001b[39;00m)\n\u001b[1;32m----> 2\u001b[0m tupl[\u001b[38;5;241m0\u001b[39m]\u001b[38;5;241m=\u001b[39m\u001b[38;5;241m90\u001b[39m\n",
      "\u001b[1;31mTypeError\u001b[0m: 'tuple' object does not support item assignment"
     ]
    }
   ],
   "source": [
    "tupl=(1,2,3.3,'Rohan',True)\n",
    "tupl[0]=90"
   ]
  },
  {
   "cell_type": "markdown",
   "id": "751f811c",
   "metadata": {},
   "source": [
    "indexing of tuple is same as lists"
   ]
  },
  {
   "cell_type": "code",
   "execution_count": 7,
   "id": "cc5654b8",
   "metadata": {},
   "outputs": [
    {
     "name": "stdout",
     "output_type": "stream",
     "text": [
      "2\n",
      "Rohan\n"
     ]
    }
   ],
   "source": [
    "tupl=(1,2,3.3,'Rohan',True)\n",
    "print(tupl[1])\n",
    "print(tupl[-2])"
   ]
  },
  {
   "cell_type": "code",
   "execution_count": 8,
   "id": "a8d85732",
   "metadata": {},
   "outputs": [
    {
     "name": "stdout",
     "output_type": "stream",
     "text": [
      "Yes\n"
     ]
    }
   ],
   "source": [
    "if 'Rohan' in tupl:\n",
    "    print('Yes')"
   ]
  },
  {
   "cell_type": "markdown",
   "id": "2226b84e",
   "metadata": {},
   "source": [
    "we can create another tuple from given tuple"
   ]
  },
  {
   "cell_type": "code",
   "execution_count": 10,
   "id": "46eed0e7",
   "metadata": {},
   "outputs": [
    {
     "name": "stdout",
     "output_type": "stream",
     "text": [
      "(1, 2, 3, 4, 5, 6, 7, 8, 9)\n",
      "(2, 4, 6, 8)\n"
     ]
    }
   ],
   "source": [
    "tup1=(1,2,3,4,5,6,7,8,9)\n",
    "tup2=tup1[1:len(tup1):2]\n",
    "print(tup1)\n",
    "print(tup2)"
   ]
  },
  {
   "cell_type": "code",
   "execution_count": null,
   "id": "3c819561",
   "metadata": {},
   "outputs": [],
   "source": []
  }
 ],
 "metadata": {
  "kernelspec": {
   "display_name": "Python 3 (ipykernel)",
   "language": "python",
   "name": "python3"
  },
  "language_info": {
   "codemirror_mode": {
    "name": "ipython",
    "version": 3
   },
   "file_extension": ".py",
   "mimetype": "text/x-python",
   "name": "python",
   "nbconvert_exporter": "python",
   "pygments_lexer": "ipython3",
   "version": "3.11.5"
  }
 },
 "nbformat": 4,
 "nbformat_minor": 5
}
