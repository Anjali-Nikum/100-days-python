{
 "cells": [
  {
   "cell_type": "markdown",
   "id": "90260891",
   "metadata": {},
   "source": [
    "# Day 25\n",
    "### Operations on tuples"
   ]
  },
  {
   "cell_type": "markdown",
   "id": "a8513ac7",
   "metadata": {},
   "source": [
    "to add remove or change tuple first it need to be change into list then convert into tuple"
   ]
  },
  {
   "cell_type": "code",
   "execution_count": 1,
   "id": "e6e7ebde",
   "metadata": {},
   "outputs": [
    {
     "name": "stdout",
     "output_type": "stream",
     "text": [
      "<class 'list'>\n"
     ]
    }
   ],
   "source": [
    "tup=(1,2,3,4,5,6)\n",
    "tup=list(tup)\n",
    "print(type(tup))"
   ]
  },
  {
   "cell_type": "code",
   "execution_count": 2,
   "id": "ddc47223",
   "metadata": {},
   "outputs": [
    {
     "name": "stdout",
     "output_type": "stream",
     "text": [
      "(10, 2, 3, 4, 5, 100)\n",
      "<class 'tuple'>\n"
     ]
    }
   ],
   "source": [
    "tup[0]=10\n",
    "tup.pop()\n",
    "tup.append(100)\n",
    "tup=tuple(tup)\n",
    "print(tup)\n",
    "print(type(tup))"
   ]
  },
  {
   "cell_type": "markdown",
   "id": "5afefb70",
   "metadata": {},
   "source": [
    "##### Count()\n",
    "count method is used to count the number of occurence of particular element"
   ]
  },
  {
   "cell_type": "code",
   "execution_count": 4,
   "id": "0575ffca",
   "metadata": {},
   "outputs": [
    {
     "name": "stdout",
     "output_type": "stream",
     "text": [
      "6\n"
     ]
    }
   ],
   "source": [
    "tup1=(1,1,1,2,3,4,6,3,6,8,2,5,2,2,2,2)\n",
    "print(tup1.count(2))"
   ]
  },
  {
   "cell_type": "markdown",
   "id": "a7f15e5e",
   "metadata": {},
   "source": [
    "##### index()\n",
    "index is use to find the index of element. to find in specific range syntax -> index(element,start_index,end_index)"
   ]
  },
  {
   "cell_type": "code",
   "execution_count": 6,
   "id": "660f46a3",
   "metadata": {},
   "outputs": [
    {
     "name": "stdout",
     "output_type": "stream",
     "text": [
      "8\n"
     ]
    }
   ],
   "source": [
    "tup2=(0,1,2,3,2,3,1,3,19,3)\n",
    "print(tup2.index(19))"
   ]
  },
  {
   "cell_type": "code",
   "execution_count": 10,
   "id": "ea46c2a7",
   "metadata": {},
   "outputs": [
    {
     "name": "stdout",
     "output_type": "stream",
     "text": [
      "5\n"
     ]
    }
   ],
   "source": [
    "print(tup2.index(3,4,8))"
   ]
  },
  {
   "cell_type": "markdown",
   "id": "1e2eba94",
   "metadata": {},
   "source": [
    "##### Concatenation()\n",
    "we can add two tuples without converting into list"
   ]
  },
  {
   "cell_type": "code",
   "execution_count": 11,
   "id": "09f62e3e",
   "metadata": {},
   "outputs": [
    {
     "name": "stdout",
     "output_type": "stream",
     "text": [
      "<class 'tuple'> (1, 2, 3, 4, 5, 6, 7, 8, 9, 10)\n"
     ]
    }
   ],
   "source": [
    "number1=(1,2,3,4,5)\n",
    "number2=(6,7,8,9,10)\n",
    "number3=number1+number2\n",
    "print(type(number3),number3)"
   ]
  },
  {
   "cell_type": "markdown",
   "id": "b139e538",
   "metadata": {},
   "source": [
    "##### Repetition"
   ]
  },
  {
   "cell_type": "code",
   "execution_count": 12,
   "id": "a83a6246",
   "metadata": {},
   "outputs": [
    {
     "name": "stdout",
     "output_type": "stream",
     "text": [
      "5\n",
      "('Rohan', 'Rohan', 'Rohan', 'Rohan', 'Rohan')\n"
     ]
    }
   ],
   "source": [
    "new_tuple=('Rohan',)*5\n",
    "print(len(new_tuple))\n",
    "print(new_tuple)"
   ]
  },
  {
   "cell_type": "code",
   "execution_count": null,
   "id": "b2606da0",
   "metadata": {},
   "outputs": [],
   "source": []
  }
 ],
 "metadata": {
  "kernelspec": {
   "display_name": "Python 3 (ipykernel)",
   "language": "python",
   "name": "python3"
  },
  "language_info": {
   "codemirror_mode": {
    "name": "ipython",
    "version": 3
   },
   "file_extension": ".py",
   "mimetype": "text/x-python",
   "name": "python",
   "nbconvert_exporter": "python",
   "pygments_lexer": "ipython3",
   "version": "3.11.5"
  }
 },
 "nbformat": 4,
 "nbformat_minor": 5
}
