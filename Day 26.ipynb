{
 "cells": [
  {
   "cell_type": "markdown",
   "id": "86322d4a",
   "metadata": {},
   "source": [
    "# Day 26\n",
    "Solution and Shortcut of Good Morning Problem"
   ]
  },
  {
   "cell_type": "code",
   "execution_count": 1,
   "id": "5943b7d4",
   "metadata": {},
   "outputs": [],
   "source": [
    "import time"
   ]
  },
  {
   "cell_type": "code",
   "execution_count": 2,
   "id": "f1574edc",
   "metadata": {},
   "outputs": [
    {
     "name": "stdout",
     "output_type": "stream",
     "text": [
      "20:18:39\n"
     ]
    }
   ],
   "source": [
    "t=time.strftime('%H:%M:%S')\n",
    "print(t)"
   ]
  },
  {
   "cell_type": "code",
   "execution_count": 3,
   "id": "0bc2e27a",
   "metadata": {},
   "outputs": [
    {
     "name": "stdout",
     "output_type": "stream",
     "text": [
      "20\n"
     ]
    }
   ],
   "source": [
    "hour=int(time.strftime('%H'))\n",
    "print(hour)"
   ]
  },
  {
   "cell_type": "code",
   "execution_count": 4,
   "id": "cbc456b3",
   "metadata": {},
   "outputs": [
    {
     "name": "stdout",
     "output_type": "stream",
     "text": [
      "Good night sir\n"
     ]
    }
   ],
   "source": [
    "if hour>=0 and hour<12:\n",
    "    print('Good Morning Sir')\n",
    "elif hour>=12 and hour<17:\n",
    "    print('Good Afternoon Sir')\n",
    "elif hour>=17 and hour<20:\n",
    "    print('Good Evening Sir')\n",
    "elif hour>=20 and hour<=23:\n",
    "    print('Good night sir')"
   ]
  },
  {
   "cell_type": "code",
   "execution_count": null,
   "id": "d7da4c6a",
   "metadata": {},
   "outputs": [],
   "source": []
  }
 ],
 "metadata": {
  "kernelspec": {
   "display_name": "Python 3 (ipykernel)",
   "language": "python",
   "name": "python3"
  },
  "language_info": {
   "codemirror_mode": {
    "name": "ipython",
    "version": 3
   },
   "file_extension": ".py",
   "mimetype": "text/x-python",
   "name": "python",
   "nbconvert_exporter": "python",
   "pygments_lexer": "ipython3",
   "version": "3.11.5"
  }
 },
 "nbformat": 4,
 "nbformat_minor": 5
}
