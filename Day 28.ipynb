{
 "cells": [
  {
   "cell_type": "markdown",
   "id": "77d64cc3",
   "metadata": {},
   "source": [
    "# Day 28\n",
    "### f-string in python"
   ]
  },
  {
   "cell_type": "markdown",
   "id": "6e7eea62",
   "metadata": {},
   "source": [
    "It is a new string formatting mechanism introduced by the PEP 498. It is also known as Literal String Interpolation or most commonly as F-srings (f character preceding the string literal). The primary focus of this mechanism is it to make the interpolation easier.\n",
    "    When we prefix the string with the letter 'f', the string becomes the f-string itself. The f-string can be formatted in much same as the str.format() method. The f-string offers a convenient way to embed Python expression inside string literals for formatting."
   ]
  },
  {
   "cell_type": "code",
   "execution_count": 2,
   "id": "9fbea5d0",
   "metadata": {},
   "outputs": [
    {
     "name": "stdout",
     "output_type": "stream",
     "text": [
      "my name is Rohan and I am form India\n",
      "my name is India and I am form Rohan\n"
     ]
    }
   ],
   "source": [
    "letter='my name is {} and I am form {}'\n",
    "country='India'\n",
    "name='Rohan'\n",
    "print(letter.format(name,country))\n",
    "print(letter.format(country,name))"
   ]
  },
  {
   "cell_type": "markdown",
   "id": "b9b70d40",
   "metadata": {},
   "source": [
    "to fix order we give index"
   ]
  },
  {
   "cell_type": "code",
   "execution_count": 4,
   "id": "fc06aedd",
   "metadata": {},
   "outputs": [
    {
     "name": "stdout",
     "output_type": "stream",
     "text": [
      "my name is Rohan and I am from India\n"
     ]
    }
   ],
   "source": [
    "letter='my name is {1} and I am from {0}'\n",
    "print(letter.format(country,name))"
   ]
  },
  {
   "cell_type": "markdown",
   "id": "a147997d",
   "metadata": {},
   "source": [
    "##### f-string"
   ]
  },
  {
   "cell_type": "code",
   "execution_count": 6,
   "id": "64f09a8c",
   "metadata": {},
   "outputs": [
    {
     "name": "stdout",
     "output_type": "stream",
     "text": [
      "my name is Rohan and I am from India\n"
     ]
    }
   ],
   "source": [
    "print(f'my name is {name} and I am from {country}')"
   ]
  },
  {
   "cell_type": "code",
   "execution_count": 10,
   "id": "7c125702",
   "metadata": {},
   "outputs": [
    {
     "name": "stdout",
     "output_type": "stream",
     "text": [
      "price of doracake is Rs.200.36\n"
     ]
    }
   ],
   "source": [
    "text='price of doracake is Rs.{price:.2f}'\n",
    "print(text.format(price=200.3574))"
   ]
  },
  {
   "cell_type": "code",
   "execution_count": 12,
   "id": "0459304f",
   "metadata": {},
   "outputs": [
    {
     "name": "stdout",
     "output_type": "stream",
     "text": [
      "price of doracake is Rs.234.46\n"
     ]
    }
   ],
   "source": [
    "price=234.45673\n",
    "text=f'price of doracake is Rs.{price:.2f}'\n",
    "print(text)"
   ]
  },
  {
   "cell_type": "code",
   "execution_count": 17,
   "id": "1ea55b65",
   "metadata": {},
   "outputs": [
    {
     "name": "stdout",
     "output_type": "stream",
     "text": [
      "60\n",
      "<class 'str'>\n"
     ]
    }
   ],
   "source": [
    "print(f'{2*30}')\n",
    "print(type(f'{2*30}'))"
   ]
  },
  {
   "cell_type": "code",
   "execution_count": 18,
   "id": "cfa571e4",
   "metadata": {},
   "outputs": [
    {
     "name": "stdout",
     "output_type": "stream",
     "text": [
      "F-string work like this : my name is Rohan and I am from India\n"
     ]
    }
   ],
   "source": [
    "name='Rohan'\n",
    "country='India'\n",
    "s=f'F-string work like this : my name is {name} and I am from {country}'\n",
    "print(s)"
   ]
  },
  {
   "cell_type": "markdown",
   "id": "2e16a53f",
   "metadata": {},
   "source": [
    "If i want to print {name} in the f string"
   ]
  },
  {
   "cell_type": "code",
   "execution_count": 20,
   "id": "96d46523",
   "metadata": {},
   "outputs": [
    {
     "name": "stdout",
     "output_type": "stream",
     "text": [
      "F-string work like this : my name is {name} and I am from {country}\n"
     ]
    }
   ],
   "source": [
    "name='Rohan'\n",
    "country='India'\n",
    "s=f'F-string work like this : my name is {{name}} and I am from {{country}}'\n",
    "print(s)"
   ]
  },
  {
   "cell_type": "code",
   "execution_count": null,
   "id": "8418c15b",
   "metadata": {},
   "outputs": [],
   "source": []
  }
 ],
 "metadata": {
  "kernelspec": {
   "display_name": "Python 3 (ipykernel)",
   "language": "python",
   "name": "python3"
  },
  "language_info": {
   "codemirror_mode": {
    "name": "ipython",
    "version": 3
   },
   "file_extension": ".py",
   "mimetype": "text/x-python",
   "name": "python",
   "nbconvert_exporter": "python",
   "pygments_lexer": "ipython3",
   "version": "3.11.5"
  }
 },
 "nbformat": 4,
 "nbformat_minor": 5
}
