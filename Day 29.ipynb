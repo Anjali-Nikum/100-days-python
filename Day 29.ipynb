{
 "cells": [
  {
   "cell_type": "markdown",
   "id": "b9f7183e",
   "metadata": {},
   "source": [
    "# Day 29\n",
    "### Docstring\n",
    "Python docstrings are the string literals that appear right after the definition of a function, method, class, or module."
   ]
  },
  {
   "cell_type": "code",
   "execution_count": 1,
   "id": "46d90331",
   "metadata": {},
   "outputs": [
    {
     "name": "stdout",
     "output_type": "stream",
     "text": [
      "25\n"
     ]
    }
   ],
   "source": [
    "def square(n):\n",
    "    '''Takes in an number n, returns the square of n'''\n",
    "    print(n**2)\n",
    "square(5)"
   ]
  },
  {
   "cell_type": "markdown",
   "id": "190db69f",
   "metadata": {},
   "source": [
    "'''Takes in an number n, returns the square of n''' for simple code it is a comment but in case docstring it becomes string"
   ]
  },
  {
   "cell_type": "code",
   "execution_count": 3,
   "id": "a0b00bd6",
   "metadata": {},
   "outputs": [
    {
     "name": "stdout",
     "output_type": "stream",
     "text": [
      "Takes in an number n, returns the square of n\n"
     ]
    }
   ],
   "source": [
    "def square(n):\n",
    "    '''Takes in an number n, returns the square of n'''\n",
    "    print(n**2)\n",
    "print(square.__doc__)"
   ]
  },
  {
   "cell_type": "code",
   "execution_count": 4,
   "id": "05805926",
   "metadata": {},
   "outputs": [
    {
     "name": "stdout",
     "output_type": "stream",
     "text": [
      "None\n"
     ]
    }
   ],
   "source": [
    "def square(n):\n",
    "    print(5)\n",
    "    '''Takes in an number n, returns the square of n'''\n",
    "    print(n**2)\n",
    "print(square.__doc__)"
   ]
  },
  {
   "cell_type": "markdown",
   "id": "75081224",
   "metadata": {},
   "source": [
    "now this docstring becomes none, because it written after print() function"
   ]
  },
  {
   "cell_type": "code",
   "execution_count": null,
   "id": "77fe82d2",
   "metadata": {},
   "outputs": [],
   "source": []
  }
 ],
 "metadata": {
  "kernelspec": {
   "display_name": "Python 3 (ipykernel)",
   "language": "python",
   "name": "python3"
  },
  "language_info": {
   "codemirror_mode": {
    "name": "ipython",
    "version": 3
   },
   "file_extension": ".py",
   "mimetype": "text/x-python",
   "name": "python",
   "nbconvert_exporter": "python",
   "pygments_lexer": "ipython3",
   "version": "3.11.5"
  }
 },
 "nbformat": 4,
 "nbformat_minor": 5
}
