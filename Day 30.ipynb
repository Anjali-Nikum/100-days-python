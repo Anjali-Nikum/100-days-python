{
 "cells": [
  {
   "cell_type": "markdown",
   "id": "8014cbca",
   "metadata": {},
   "source": [
    "# Day 30"
   ]
  },
  {
   "cell_type": "markdown",
   "id": "1c435c8c",
   "metadata": {},
   "source": [
    "## Recusrion\n",
    "        Recursion is the process of defining something in terms of itself. A physical world examples would be to place two parallel mirrors facing each other. Any object in between them would be reflected recursively."
   ]
  },
  {
   "cell_type": "markdown",
   "id": "73234d8b",
   "metadata": {},
   "source": [
    "factorial 5=5x4x3x2x1=120"
   ]
  },
  {
   "cell_type": "code",
   "execution_count": 2,
   "id": "0f786bf5",
   "metadata": {},
   "outputs": [
    {
     "name": "stdout",
     "output_type": "stream",
     "text": [
      "120\n"
     ]
    }
   ],
   "source": [
    "def fact(n):\n",
    "    if n==1 or n==0:\n",
    "        return 1\n",
    "    else:\n",
    "        return n*fact(n-1)\n",
    "print(fact(5))"
   ]
  },
  {
   "cell_type": "markdown",
   "id": "9d00030f",
   "metadata": {},
   "source": [
    "##### 5 x factorial(4)\n",
    "##### 5 x 4 x factorial(3)\n",
    "##### 5 x 4 x 3 x factorial(2)\n",
    "##### 5 x 4 x 3 x 2 x factorial(1)\n",
    "##### 5 x 4 x 3 x 2 x 1"
   ]
  },
  {
   "cell_type": "code",
   "execution_count": 12,
   "id": "9108dc9f",
   "metadata": {},
   "outputs": [
    {
     "name": "stdout",
     "output_type": "stream",
     "text": [
      "0 1 1 2 3 5 8 13 21 34 "
     ]
    }
   ],
   "source": [
    "def fabonaci(n):\n",
    "    if n<=1:\n",
    "        return n\n",
    "    else:\n",
    "        return fabonaci(n-1)+fabonaci(n-2)\n",
    "for i in range(10):\n",
    "    print(fabonaci(i),end=' ')"
   ]
  },
  {
   "cell_type": "code",
   "execution_count": null,
   "id": "bbb8d7e4",
   "metadata": {},
   "outputs": [],
   "source": []
  }
 ],
 "metadata": {
  "kernelspec": {
   "display_name": "Python 3 (ipykernel)",
   "language": "python",
   "name": "python3"
  },
  "language_info": {
   "codemirror_mode": {
    "name": "ipython",
    "version": 3
   },
   "file_extension": ".py",
   "mimetype": "text/x-python",
   "name": "python",
   "nbconvert_exporter": "python",
   "pygments_lexer": "ipython3",
   "version": "3.11.5"
  }
 },
 "nbformat": 4,
 "nbformat_minor": 5
}
