{
 "cells": [
  {
   "cell_type": "markdown",
   "id": "a1ac8122",
   "metadata": {},
   "source": [
    "# Day 31\n",
    "## Sets \n",
    "    Sets are unordered collection of data items. They store multiple items in a single variable. Set items are separated by commas and enclosed within curly brackets{}. Sets are unchangeable, meaning you cannot change items of the set once created. Sets do not contain duplicate items."
   ]
  },
  {
   "cell_type": "code",
   "execution_count": 1,
   "id": "2fe0cc31",
   "metadata": {},
   "outputs": [
    {
     "name": "stdout",
     "output_type": "stream",
     "text": [
      "{2, 4, 6}\n"
     ]
    }
   ],
   "source": [
    "s={2,4,2,6}\n",
    "print(s)"
   ]
  },
  {
   "cell_type": "code",
   "execution_count": 2,
   "id": "7b84b088",
   "metadata": {},
   "outputs": [
    {
     "name": "stdout",
     "output_type": "stream",
     "text": [
      "{1, 2, 3, 4}\n"
     ]
    }
   ],
   "source": [
    "s={4,4,3,3,2,2,1,1}\n",
    "print(s)"
   ]
  },
  {
   "cell_type": "code",
   "execution_count": 3,
   "id": "158abff0",
   "metadata": {},
   "outputs": [
    {
     "name": "stdout",
     "output_type": "stream",
     "text": [
      "{False, 16, 19, 5.8, 'rohan'}\n"
     ]
    }
   ],
   "source": [
    "info={'rohan',19,False,5.8,16}\n",
    "print(info)"
   ]
  },
  {
   "cell_type": "code",
   "execution_count": 4,
   "id": "fe547591",
   "metadata": {},
   "outputs": [
    {
     "name": "stdout",
     "output_type": "stream",
     "text": [
      "<class 'dict'>\n"
     ]
    }
   ],
   "source": [
    "rohan={}\n",
    "print(type(rohan))"
   ]
  },
  {
   "cell_type": "markdown",
   "id": "1e5de929",
   "metadata": {},
   "source": [
    "syntax of set and dictionary are same "
   ]
  },
  {
   "cell_type": "markdown",
   "id": "ae75a067",
   "metadata": {},
   "source": [
    "to create empty set"
   ]
  },
  {
   "cell_type": "code",
   "execution_count": 6,
   "id": "7b48158b",
   "metadata": {},
   "outputs": [
    {
     "name": "stdout",
     "output_type": "stream",
     "text": [
      "<class 'set'>\n"
     ]
    }
   ],
   "source": [
    "rohan=set()\n",
    "print(type(rohan))"
   ]
  },
  {
   "cell_type": "code",
   "execution_count": 7,
   "id": "f127b538",
   "metadata": {},
   "outputs": [
    {
     "name": "stdout",
     "output_type": "stream",
     "text": [
      "{1.2, 6, True, 'rohan'}\n",
      "{1.2, 6, True, 'rohan'}\n",
      "{1.2, 6, True, 'rohan'}\n",
      "{1.2, 6, True, 'rohan'}\n"
     ]
    }
   ],
   "source": [
    "rohan={6,'rohan',1.2,True}\n",
    "for i in rohan:\n",
    "    print(rohan)"
   ]
  },
  {
   "cell_type": "code",
   "execution_count": 2,
   "id": "210e2a49",
   "metadata": {},
   "outputs": [
    {
     "name": "stdout",
     "output_type": "stream",
     "text": [
      "0\n"
     ]
    }
   ],
   "source": [
    "a=int()\n",
    "b=list()"
   ]
  },
  {
   "cell_type": "code",
   "execution_count": null,
   "id": "ec0fcb33",
   "metadata": {},
   "outputs": [],
   "source": []
  }
 ],
 "metadata": {
  "kernelspec": {
   "display_name": "Python 3 (ipykernel)",
   "language": "python",
   "name": "python3"
  },
  "language_info": {
   "codemirror_mode": {
    "name": "ipython",
    "version": 3
   },
   "file_extension": ".py",
   "mimetype": "text/x-python",
   "name": "python",
   "nbconvert_exporter": "python",
   "pygments_lexer": "ipython3",
   "version": "3.11.5"
  }
 },
 "nbformat": 4,
 "nbformat_minor": 5
}
