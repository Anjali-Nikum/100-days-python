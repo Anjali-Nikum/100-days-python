{
 "cells": [
  {
   "cell_type": "markdown",
   "id": "b76e77e6",
   "metadata": {},
   "source": [
    "# Day 32\n",
    "## Set Methods"
   ]
  },
  {
   "cell_type": "code",
   "execution_count": 1,
   "id": "b33d800e",
   "metadata": {},
   "outputs": [],
   "source": [
    "s1={1,2,3,5}\n",
    "s2={3,5,7}"
   ]
  },
  {
   "cell_type": "markdown",
   "id": "9d866638",
   "metadata": {},
   "source": [
    "###### Union()"
   ]
  },
  {
   "cell_type": "code",
   "execution_count": 2,
   "id": "45645fcd",
   "metadata": {},
   "outputs": [
    {
     "name": "stdout",
     "output_type": "stream",
     "text": [
      "{1, 2, 3, 5, 7}\n",
      "{1, 2, 3, 5, 7}\n",
      "{1, 2, 3, 5} {3, 5, 7}\n"
     ]
    }
   ],
   "source": [
    "print(s1.union(s2))\n",
    "print(s2.union(s1))\n",
    "print(s1,s2)"
   ]
  },
  {
   "cell_type": "markdown",
   "id": "67247caf",
   "metadata": {},
   "source": [
    "##### Update()\n",
    "to update value use update "
   ]
  },
  {
   "cell_type": "code",
   "execution_count": 3,
   "id": "bfd48b7c",
   "metadata": {},
   "outputs": [
    {
     "name": "stdout",
     "output_type": "stream",
     "text": [
      "{1, 2, 3, 5, 7}\n"
     ]
    }
   ],
   "source": [
    "s1.update(s2)\n",
    "print(s1)"
   ]
  },
  {
   "cell_type": "markdown",
   "id": "3fdbd3ec",
   "metadata": {},
   "source": [
    "##### intersection()"
   ]
  },
  {
   "cell_type": "code",
   "execution_count": 4,
   "id": "3702c3e4",
   "metadata": {},
   "outputs": [
    {
     "name": "stdout",
     "output_type": "stream",
     "text": [
      "{4, 5}\n",
      "{4, 5}\n"
     ]
    }
   ],
   "source": [
    "s3={1,2,3,4,5}\n",
    "s4={4,5,6,7,8}\n",
    "print(s3.intersection(s4))\n",
    "print(s4.intersection(s3))"
   ]
  },
  {
   "cell_type": "markdown",
   "id": "07641d01",
   "metadata": {},
   "source": [
    "##### intersection_update()"
   ]
  },
  {
   "cell_type": "code",
   "execution_count": 5,
   "id": "83c97486",
   "metadata": {},
   "outputs": [
    {
     "name": "stdout",
     "output_type": "stream",
     "text": [
      "{4, 5}\n"
     ]
    }
   ],
   "source": [
    "s3.intersection_update(s4)\n",
    "print(s3)"
   ]
  },
  {
   "cell_type": "markdown",
   "id": "4218ebc8",
   "metadata": {},
   "source": [
    "##### symmetric_difference()"
   ]
  },
  {
   "cell_type": "code",
   "execution_count": 6,
   "id": "2bd6c355",
   "metadata": {},
   "outputs": [
    {
     "name": "stdout",
     "output_type": "stream",
     "text": [
      "{'cherry', 'google', 'microsoft', 'banana'}\n",
      "{'microsoft', 'banana', 'google', 'cherry'}\n",
      "{'apple', 'cherry', 'banana'} {'google', 'microsoft', 'apple'}\n"
     ]
    }
   ],
   "source": [
    "x = {\"apple\", \"banana\", \"cherry\"}\n",
    "y = {\"google\", \"microsoft\", \"apple\"}\n",
    "print(x.symmetric_difference(y))\n",
    "print(y.symmetric_difference(x))\n",
    "print(x,y)"
   ]
  },
  {
   "cell_type": "markdown",
   "id": "4bee6f06",
   "metadata": {},
   "source": [
    "##### symmetric_difference_update()"
   ]
  },
  {
   "cell_type": "code",
   "execution_count": 7,
   "id": "767af911",
   "metadata": {},
   "outputs": [
    {
     "name": "stdout",
     "output_type": "stream",
     "text": [
      "{'microsoft', 'banana', 'google', 'cherry'}\n"
     ]
    }
   ],
   "source": [
    "x.symmetric_difference_update(y)\n",
    "print(x)"
   ]
  },
  {
   "cell_type": "markdown",
   "id": "0eec1e27",
   "metadata": {},
   "source": [
    "##### difference()"
   ]
  },
  {
   "cell_type": "code",
   "execution_count": 8,
   "id": "ec8953de",
   "metadata": {},
   "outputs": [
    {
     "name": "stdout",
     "output_type": "stream",
     "text": [
      "{1, 2}\n",
      "{5, 6}\n",
      "{1, 2, 3, 4} {3, 4, 5, 6}\n"
     ]
    }
   ],
   "source": [
    "x1={1,2,3,4}\n",
    "x2={3,4,5,6}\n",
    "print(x1.difference(x2))\n",
    "print(x2.difference(x1))\n",
    "print(x1,x2)"
   ]
  },
  {
   "cell_type": "markdown",
   "id": "9d62e083",
   "metadata": {},
   "source": [
    "##### difference_update()"
   ]
  },
  {
   "cell_type": "code",
   "execution_count": 9,
   "id": "16d11e5c",
   "metadata": {},
   "outputs": [
    {
     "name": "stdout",
     "output_type": "stream",
     "text": [
      "{1, 2}\n"
     ]
    }
   ],
   "source": [
    "x1.difference_update(x2)\n",
    "print(x1)"
   ]
  },
  {
   "cell_type": "markdown",
   "id": "c5941a3d",
   "metadata": {},
   "source": [
    "##### isdisjoint()\n",
    "Returns whether two sets have a intersection or not"
   ]
  },
  {
   "cell_type": "code",
   "execution_count": 10,
   "id": "dec8534b",
   "metadata": {},
   "outputs": [
    {
     "name": "stdout",
     "output_type": "stream",
     "text": [
      "True\n"
     ]
    }
   ],
   "source": [
    "set1={1,2,3,4,5}\n",
    "set2={6,7,8,9,10}\n",
    "print(set1.isdisjoint(set2))"
   ]
  },
  {
   "cell_type": "markdown",
   "id": "7af2db01",
   "metadata": {},
   "source": [
    "##### issuperset()\n",
    "Returns whether this set contains another set or not"
   ]
  },
  {
   "cell_type": "code",
   "execution_count": 11,
   "id": "4b6c79a7",
   "metadata": {},
   "outputs": [
    {
     "name": "stdout",
     "output_type": "stream",
     "text": [
      "True\n",
      "False\n"
     ]
    }
   ],
   "source": [
    "x = {\"f\", \"e\", \"d\", \"c\", \"b\", \"a\"}\n",
    "y = {\"a\", \"b\", \"c\"}\n",
    "print(x.issuperset(y))\n",
    "print(y.issuperset(x))"
   ]
  },
  {
   "cell_type": "markdown",
   "id": "0b830927",
   "metadata": {},
   "source": [
    "##### issubset()\n",
    "Returns whether another set contains this set or not"
   ]
  },
  {
   "cell_type": "code",
   "execution_count": 12,
   "id": "961ac65b",
   "metadata": {},
   "outputs": [
    {
     "name": "stdout",
     "output_type": "stream",
     "text": [
      "False\n",
      "True\n"
     ]
    }
   ],
   "source": [
    "x = {\"f\", \"e\", \"d\", \"c\", \"b\", \"a\"}\n",
    "y = {\"a\", \"b\", \"c\"}\n",
    "print(x.issubset(y))\n",
    "print(y.issubset(x))"
   ]
  },
  {
   "cell_type": "markdown",
   "id": "3fed25e7",
   "metadata": {},
   "source": [
    "##### add()\n",
    "Adds an element to the set"
   ]
  },
  {
   "cell_type": "code",
   "execution_count": 13,
   "id": "70cd95c1",
   "metadata": {},
   "outputs": [
    {
     "name": "stdout",
     "output_type": "stream",
     "text": [
      "{'orange', 'apple', 'cherry', 'banana'}\n"
     ]
    }
   ],
   "source": [
    "fruits = {\"apple\", \"banana\", \"cherry\"}\n",
    "fruits.add(\"orange\")\n",
    "print(fruits)"
   ]
  },
  {
   "cell_type": "markdown",
   "id": "f24dfb95",
   "metadata": {},
   "source": [
    "##### clear()\n",
    "Removes all the elements from the set"
   ]
  },
  {
   "cell_type": "code",
   "execution_count": 14,
   "id": "b2873e48",
   "metadata": {},
   "outputs": [
    {
     "name": "stdout",
     "output_type": "stream",
     "text": [
      "set()\n"
     ]
    }
   ],
   "source": [
    "fruits = {\"apple\", \"banana\", \"cherry\"}\n",
    "fruits.clear()\n",
    "print(fruits)"
   ]
  },
  {
   "cell_type": "markdown",
   "id": "e9315e90",
   "metadata": {},
   "source": [
    "##### remove()\n",
    "Removes the specified element"
   ]
  },
  {
   "cell_type": "code",
   "execution_count": 15,
   "id": "e5e92fdb",
   "metadata": {},
   "outputs": [
    {
     "name": "stdout",
     "output_type": "stream",
     "text": [
      "{'Tokyo', 'Berlin', 'Delhi'}\n"
     ]
    }
   ],
   "source": [
    "cities={'Tokyo','Madrid','Berlin','Delhi'}\n",
    "cities.remove('Madrid')\n",
    "print(cities)"
   ]
  },
  {
   "cell_type": "code",
   "execution_count": 16,
   "id": "f85bf882",
   "metadata": {},
   "outputs": [
    {
     "ename": "KeyError",
     "evalue": "'Indore'",
     "output_type": "error",
     "traceback": [
      "\u001b[1;31m---------------------------------------------------------------------------\u001b[0m",
      "\u001b[1;31mKeyError\u001b[0m                                  Traceback (most recent call last)",
      "Cell \u001b[1;32mIn[16], line 1\u001b[0m\n\u001b[1;32m----> 1\u001b[0m cities\u001b[38;5;241m.\u001b[39mremove(\u001b[38;5;124m'\u001b[39m\u001b[38;5;124mIndore\u001b[39m\u001b[38;5;124m'\u001b[39m)\n\u001b[0;32m      2\u001b[0m \u001b[38;5;28mprint\u001b[39m(cities)\n",
      "\u001b[1;31mKeyError\u001b[0m: 'Indore'"
     ]
    }
   ],
   "source": [
    "cities.remove('Indore')\n",
    "print(cities)"
   ]
  },
  {
   "cell_type": "markdown",
   "id": "78730d6a",
   "metadata": {},
   "source": [
    "##### discard()\n",
    "Remove the specified element if element not found it does not produce any error like remove()"
   ]
  },
  {
   "cell_type": "code",
   "execution_count": 17,
   "id": "3f7868cc",
   "metadata": {},
   "outputs": [
    {
     "name": "stdout",
     "output_type": "stream",
     "text": [
      "{'England', 'Japan', 'India'}\n"
     ]
    }
   ],
   "source": [
    "country={'India','Australia','England','Japan'}\n",
    "country.discard('Australia')\n",
    "print(country)"
   ]
  },
  {
   "cell_type": "code",
   "execution_count": 18,
   "id": "164251a5",
   "metadata": {},
   "outputs": [],
   "source": [
    "country.discard('France')"
   ]
  },
  {
   "cell_type": "markdown",
   "id": "fa89ae7a",
   "metadata": {},
   "source": [
    "##### pop()\n",
    "Removes an element from the set"
   ]
  },
  {
   "cell_type": "code",
   "execution_count": 19,
   "id": "8238e345",
   "metadata": {},
   "outputs": [
    {
     "name": "stdout",
     "output_type": "stream",
     "text": [
      "32  1 {2, 3, 6, 7, 8, 9, 12, 46}\n"
     ]
    }
   ],
   "source": [
    "number={1,2,3,9,8,7,6,12,46,32}\n",
    "item1=number.pop()\n",
    "item2=number.pop()\n",
    "print(item1,'',item2,number)"
   ]
  },
  {
   "cell_type": "markdown",
   "id": "314f1c67",
   "metadata": {},
   "source": [
    "##### del()\n",
    "it is a keyword, which delete the set entirely"
   ]
  },
  {
   "cell_type": "code",
   "execution_count": 20,
   "id": "39f0345a",
   "metadata": {},
   "outputs": [
    {
     "name": "stdout",
     "output_type": "stream",
     "text": [
      "{1, 2, 3, 4, 5}\n"
     ]
    },
    {
     "ename": "NameError",
     "evalue": "name 'num' is not defined",
     "output_type": "error",
     "traceback": [
      "\u001b[1;31m---------------------------------------------------------------------------\u001b[0m",
      "\u001b[1;31mNameError\u001b[0m                                 Traceback (most recent call last)",
      "Cell \u001b[1;32mIn[20], line 4\u001b[0m\n\u001b[0;32m      2\u001b[0m \u001b[38;5;28mprint\u001b[39m(num)\n\u001b[0;32m      3\u001b[0m \u001b[38;5;28;01mdel\u001b[39;00m num\n\u001b[1;32m----> 4\u001b[0m \u001b[38;5;28mprint\u001b[39m(num)\n",
      "\u001b[1;31mNameError\u001b[0m: name 'num' is not defined"
     ]
    }
   ],
   "source": [
    "num={1,2,3,4,5}\n",
    "print(num)\n",
    "del num\n",
    "print(num)"
   ]
  },
  {
   "cell_type": "markdown",
   "id": "754b21d0",
   "metadata": {},
   "source": [
    "##### copy()\n",
    "Returns a copy of the set"
   ]
  },
  {
   "cell_type": "code",
   "execution_count": 22,
   "id": "acb77e80",
   "metadata": {},
   "outputs": [
    {
     "name": "stdout",
     "output_type": "stream",
     "text": [
      "{1, 2, 3, 4, 5}\n",
      "{1, 2, 3, 4, 5}\n"
     ]
    }
   ],
   "source": [
    "nums1={1,2,3,4,5}\n",
    "nums2=nums1.copy()\n",
    "print(nums1)\n",
    "print(nums2)"
   ]
  },
  {
   "cell_type": "code",
   "execution_count": 5,
   "id": "3ab3b1d9",
   "metadata": {},
   "outputs": [
    {
     "name": "stdout",
     "output_type": "stream",
     "text": [
      "5\n",
      "hello\n",
      "<class 'float'>\n"
     ]
    }
   ],
   "source": [
    "a=5\n",
    "print(a)\n",
    "a='hello'\n",
    "print(a)"
   ]
  },
  {
   "cell_type": "code",
   "execution_count": null,
   "id": "54605de4",
   "metadata": {},
   "outputs": [],
   "source": []
  }
 ],
 "metadata": {
  "kernelspec": {
   "display_name": "Python 3 (ipykernel)",
   "language": "python",
   "name": "python3"
  },
  "language_info": {
   "codemirror_mode": {
    "name": "ipython",
    "version": 3
   },
   "file_extension": ".py",
   "mimetype": "text/x-python",
   "name": "python",
   "nbconvert_exporter": "python",
   "pygments_lexer": "ipython3",
   "version": "3.11.5"
  }
 },
 "nbformat": 4,
 "nbformat_minor": 5
}
