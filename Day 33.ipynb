{
 "cells": [
  {
   "cell_type": "markdown",
   "id": "c3a2c111",
   "metadata": {},
   "source": [
    "# Day 33\n",
    "## Dictionaries\n",
    "        Dictionaries are ordered collection of data items. They store multiple items in a single variable. Dictionary items are key-value pairs that are separated by commas and enclosed within curly braces{}."
   ]
  },
  {
   "cell_type": "code",
   "execution_count": 4,
   "id": "183ef290",
   "metadata": {},
   "outputs": [
    {
     "name": "stdout",
     "output_type": "stream",
     "text": [
      "{'Name': 'Rohan', 'Age': 20, 'Result': True, 'Number': 1234567, 100: 'Marks'}\n"
     ]
    }
   ],
   "source": [
    "detail={\n",
    "    'Name':'Rohan',\n",
    "    'Age':20,\n",
    "    'Result':True,\n",
    "    'Number':1234567,\n",
    "    100:'Marks'\n",
    "}\n",
    "print(detail)"
   ]
  },
  {
   "cell_type": "code",
   "execution_count": 5,
   "id": "983c5bb0",
   "metadata": {},
   "outputs": [
    {
     "name": "stdout",
     "output_type": "stream",
     "text": [
      "Rohan\n",
      "Marks\n"
     ]
    }
   ],
   "source": [
    "print(detail['Name'])\n",
    "print(detail[100])"
   ]
  },
  {
   "cell_type": "code",
   "execution_count": 6,
   "id": "a0792ef6",
   "metadata": {},
   "outputs": [
    {
     "name": "stdout",
     "output_type": "stream",
     "text": [
      "Rohan\n",
      "Rohan\n"
     ]
    }
   ],
   "source": [
    "print(detail['Name'])\n",
    "print(detail.get('Name'))"
   ]
  },
  {
   "cell_type": "markdown",
   "id": "ca0daed8",
   "metadata": {},
   "source": [
    "But difference is detail[] give error if key not present in detail dictionary"
   ]
  },
  {
   "cell_type": "code",
   "execution_count": 7,
   "id": "56f04e5e",
   "metadata": {},
   "outputs": [
    {
     "name": "stdout",
     "output_type": "stream",
     "text": [
      "None\n"
     ]
    }
   ],
   "source": [
    "print(detail.get('College'))"
   ]
  },
  {
   "cell_type": "code",
   "execution_count": 8,
   "id": "05d7f529",
   "metadata": {},
   "outputs": [
    {
     "ename": "KeyError",
     "evalue": "'college'",
     "output_type": "error",
     "traceback": [
      "\u001b[1;31m---------------------------------------------------------------------------\u001b[0m",
      "\u001b[1;31mKeyError\u001b[0m                                  Traceback (most recent call last)",
      "Cell \u001b[1;32mIn[8], line 1\u001b[0m\n\u001b[1;32m----> 1\u001b[0m \u001b[38;5;28mprint\u001b[39m(detail[\u001b[38;5;124m'\u001b[39m\u001b[38;5;124mcollege\u001b[39m\u001b[38;5;124m'\u001b[39m])\n",
      "\u001b[1;31mKeyError\u001b[0m: 'college'"
     ]
    }
   ],
   "source": [
    "print(detail['college'])"
   ]
  },
  {
   "cell_type": "markdown",
   "id": "5d4338bd",
   "metadata": {},
   "source": [
    "##### keys and values"
   ]
  },
  {
   "cell_type": "code",
   "execution_count": 9,
   "id": "6b9e96cf",
   "metadata": {},
   "outputs": [
    {
     "name": "stdout",
     "output_type": "stream",
     "text": [
      "{'Name': ['A', 'B', 'C', 'D'], 'Marks': [12, 546, 24, 65, 24], 'Age': [15, 16, 17, 18, 19]}\n"
     ]
    }
   ],
   "source": [
    "d={'Name':['A','B','C','D'],\n",
    "  'Marks':[12,546,24,65,24],\n",
    "   'Age':[15,16,17,18,19]\n",
    "  }\n",
    "print(d)"
   ]
  },
  {
   "cell_type": "code",
   "execution_count": 10,
   "id": "4b7f6e47",
   "metadata": {},
   "outputs": [
    {
     "name": "stdout",
     "output_type": "stream",
     "text": [
      "dict_keys(['Name', 'Marks', 'Age'])\n"
     ]
    }
   ],
   "source": [
    "print(d.keys())"
   ]
  },
  {
   "cell_type": "code",
   "execution_count": 11,
   "id": "5a76f3a9",
   "metadata": {},
   "outputs": [
    {
     "name": "stdout",
     "output_type": "stream",
     "text": [
      "dict_values([['A', 'B', 'C', 'D'], [12, 546, 24, 65, 24], [15, 16, 17, 18, 19]])\n"
     ]
    }
   ],
   "source": [
    "print(d.values())"
   ]
  },
  {
   "cell_type": "code",
   "execution_count": 12,
   "id": "7c1f602a",
   "metadata": {},
   "outputs": [
    {
     "name": "stdout",
     "output_type": "stream",
     "text": [
      "['A', 'B', 'C', 'D']\n",
      "[12, 546, 24, 65, 24]\n",
      "[15, 16, 17, 18, 19]\n"
     ]
    }
   ],
   "source": [
    "for i in d.keys():\n",
    "    print(d[i])"
   ]
  },
  {
   "cell_type": "code",
   "execution_count": 13,
   "id": "9e967bd9",
   "metadata": {},
   "outputs": [
    {
     "name": "stdout",
     "output_type": "stream",
     "text": [
      "The value corresponding to Name is ['A', 'B', 'C', 'D']\n",
      "The value corresponding to Marks is [12, 546, 24, 65, 24]\n",
      "The value corresponding to Age is [15, 16, 17, 18, 19]\n"
     ]
    }
   ],
   "source": [
    "for key in d.keys():\n",
    "    print(f'The value corresponding to {key} is {d[key]}')"
   ]
  },
  {
   "cell_type": "code",
   "execution_count": 14,
   "id": "c8b04d1c",
   "metadata": {
    "scrolled": true
   },
   "outputs": [
    {
     "name": "stdout",
     "output_type": "stream",
     "text": [
      "dict_items([('Name', ['A', 'B', 'C', 'D']), ('Marks', [12, 546, 24, 65, 24]), ('Age', [15, 16, 17, 18, 19])])\n"
     ]
    }
   ],
   "source": [
    "print(d.items())"
   ]
  },
  {
   "cell_type": "code",
   "execution_count": 15,
   "id": "55fafdee",
   "metadata": {},
   "outputs": [
    {
     "name": "stdout",
     "output_type": "stream",
     "text": [
      "The value corresponding to Name is ['A', 'B', 'C', 'D']\n",
      "The value corresponding to Marks is [12, 546, 24, 65, 24]\n",
      "The value corresponding to Age is [15, 16, 17, 18, 19]\n"
     ]
    }
   ],
   "source": [
    "for key,value in d.items():\n",
    "    print(f'The value corresponding to {key} is {value}')"
   ]
  },
  {
   "cell_type": "code",
   "execution_count": null,
   "id": "b295b094",
   "metadata": {},
   "outputs": [],
   "source": []
  }
 ],
 "metadata": {
  "kernelspec": {
   "display_name": "Python 3 (ipykernel)",
   "language": "python",
   "name": "python3"
  },
  "language_info": {
   "codemirror_mode": {
    "name": "ipython",
    "version": 3
   },
   "file_extension": ".py",
   "mimetype": "text/x-python",
   "name": "python",
   "nbconvert_exporter": "python",
   "pygments_lexer": "ipython3",
   "version": "3.11.5"
  }
 },
 "nbformat": 4,
 "nbformat_minor": 5
}
