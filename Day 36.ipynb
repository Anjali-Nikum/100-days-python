{
 "cells": [
  {
   "cell_type": "markdown",
   "id": "cf7b76e5",
   "metadata": {},
   "source": [
    "# Day 36\n",
    "## Exception Handling\n",
    "Exception handling is the process of responding to unwanted or unexpected events when a computer program runs. Exception handling deals with these events to avoid the program or system crashing, and without this process, exceptions would distrupt the normal operation of a program."
   ]
  },
  {
   "cell_type": "code",
   "execution_count": 1,
   "id": "7ef0ab30",
   "metadata": {},
   "outputs": [
    {
     "name": "stdout",
     "output_type": "stream",
     "text": [
      "Enter the number : 5\n",
      "Multiplication table of 5 is :\n",
      "5 x 1 = 5\n",
      "5 x 2 = 10\n",
      "5 x 3 = 15\n",
      "5 x 4 = 20\n",
      "5 x 5 = 25\n",
      "5 x 6 = 30\n",
      "5 x 7 = 35\n",
      "5 x 8 = 40\n",
      "5 x 9 = 45\n",
      "5 x 10 = 50\n"
     ]
    }
   ],
   "source": [
    "a=input('Enter the number : ')\n",
    "print(f'Multiplication table of {a} is :')\n",
    "for i in range(1,11):\n",
    "    print(f'{int(a)} x {i} = {int(a)*i}')"
   ]
  },
  {
   "cell_type": "markdown",
   "id": "d4e8109b",
   "metadata": {},
   "source": [
    "But if I enter my name it give error or program will halt"
   ]
  },
  {
   "cell_type": "code",
   "execution_count": 2,
   "id": "a16194e8",
   "metadata": {},
   "outputs": [
    {
     "name": "stdout",
     "output_type": "stream",
     "text": [
      "Enter the number : rohan\n",
      "Multiplication table of rohan is :\n"
     ]
    },
    {
     "ename": "ValueError",
     "evalue": "invalid literal for int() with base 10: 'rohan'",
     "output_type": "error",
     "traceback": [
      "\u001b[1;31m---------------------------------------------------------------------------\u001b[0m",
      "\u001b[1;31mValueError\u001b[0m                                Traceback (most recent call last)",
      "Cell \u001b[1;32mIn[2], line 4\u001b[0m\n\u001b[0;32m      2\u001b[0m \u001b[38;5;28mprint\u001b[39m(\u001b[38;5;124mf\u001b[39m\u001b[38;5;124m'\u001b[39m\u001b[38;5;124mMultiplication table of \u001b[39m\u001b[38;5;132;01m{\u001b[39;00ma\u001b[38;5;132;01m}\u001b[39;00m\u001b[38;5;124m is :\u001b[39m\u001b[38;5;124m'\u001b[39m)\n\u001b[0;32m      3\u001b[0m \u001b[38;5;28;01mfor\u001b[39;00m i \u001b[38;5;129;01min\u001b[39;00m \u001b[38;5;28mrange\u001b[39m(\u001b[38;5;241m1\u001b[39m,\u001b[38;5;241m11\u001b[39m):\n\u001b[1;32m----> 4\u001b[0m     \u001b[38;5;28mprint\u001b[39m(\u001b[38;5;124mf\u001b[39m\u001b[38;5;124m'\u001b[39m\u001b[38;5;132;01m{\u001b[39;00m\u001b[38;5;28mint\u001b[39m(a)\u001b[38;5;132;01m}\u001b[39;00m\u001b[38;5;124m x \u001b[39m\u001b[38;5;132;01m{\u001b[39;00mi\u001b[38;5;132;01m}\u001b[39;00m\u001b[38;5;124m = \u001b[39m\u001b[38;5;132;01m{\u001b[39;00m\u001b[38;5;28mint\u001b[39m(a)\u001b[38;5;241m*\u001b[39mi\u001b[38;5;132;01m}\u001b[39;00m\u001b[38;5;124m'\u001b[39m)\n\u001b[0;32m      5\u001b[0m \u001b[38;5;28mprint\u001b[39m(\u001b[38;5;124m'\u001b[39m\u001b[38;5;124mSome lines of code\u001b[39m\u001b[38;5;124m'\u001b[39m)\n",
      "\u001b[1;31mValueError\u001b[0m: invalid literal for int() with base 10: 'rohan'"
     ]
    }
   ],
   "source": [
    "a=input('Enter the number : ')\n",
    "print(f'Multiplication table of {a} is :')\n",
    "for i in range(1,11):\n",
    "    print(f'{int(a)} x {i} = {int(a)*i}')\n",
    "print('Some lines of code')"
   ]
  },
  {
   "cell_type": "markdown",
   "id": "0ea51b03",
   "metadata": {},
   "source": [
    "##### To handle this error we use Try-Except"
   ]
  },
  {
   "cell_type": "code",
   "execution_count": 3,
   "id": "eeb9c493",
   "metadata": {},
   "outputs": [
    {
     "name": "stdout",
     "output_type": "stream",
     "text": [
      "Enter the number : Rohan\n",
      "Multiplication table of Rohan is :\n",
      "invalid literal for int() with base 10: 'Rohan'\n",
      "Some lines of code\n"
     ]
    }
   ],
   "source": [
    "n=input('Enter the number : ')\n",
    "print(f'Multiplication table of {n} is :')\n",
    "try:\n",
    "    for i in range(1,11):\n",
    "        print(f'{int(n)} x {i} = {int(n)*i}')\n",
    "except Exception as e:\n",
    "    print(e)\n",
    "print('Some lines of code')\n"
   ]
  },
  {
   "cell_type": "code",
   "execution_count": 4,
   "id": "1ceac9c7",
   "metadata": {},
   "outputs": [
    {
     "name": "stdout",
     "output_type": "stream",
     "text": [
      "Enter the number : rohan\n",
      "Multiplication table of rohan is :\n",
      "Some error occured or Invalid Input\n",
      "Lines of code\n"
     ]
    }
   ],
   "source": [
    "n=input('Enter the number : ')\n",
    "print(f'Multiplication table of {n} is :')\n",
    "try:\n",
    "    for i in range(1,11):\n",
    "        print(f'{int(n)} x {i} = {int(n)*i}')\n",
    "except Exception as e:\n",
    "    print('Some error occured or Invalid Input')\n",
    "print('Lines of code')"
   ]
  },
  {
   "cell_type": "markdown",
   "id": "89d90002",
   "metadata": {},
   "source": [
    "#### Types of errors\n",
    "##### SyntaxError \n",
    "##### TypeError\n",
    "##### NameError\n",
    "##### IndexError\n",
    "##### KeyError\n",
    "##### ValueError\n",
    "##### AttributeError\n",
    "##### IPError\n",
    "##### ZeroDivisionError\n",
    "##### ImportError"
   ]
  },
  {
   "cell_type": "code",
   "execution_count": 5,
   "id": "97c57857",
   "metadata": {},
   "outputs": [
    {
     "name": "stdout",
     "output_type": "stream",
     "text": [
      "Enter number : 2\n",
      "4\n"
     ]
    }
   ],
   "source": [
    "try:\n",
    "    num=int(input('Enter number : '))\n",
    "    arr=[1,2,4]\n",
    "    print(arr[num])\n",
    "except ValueError:\n",
    "    print('Value error executed')\n",
    "except IndexError:\n",
    "    print('Index error executed')"
   ]
  },
  {
   "cell_type": "code",
   "execution_count": 6,
   "id": "8f43d258",
   "metadata": {},
   "outputs": [
    {
     "name": "stdout",
     "output_type": "stream",
     "text": [
      "Enter number : 5\n",
      "Index error executed\n"
     ]
    }
   ],
   "source": [
    "try:\n",
    "    num=int(input('Enter number : '))\n",
    "    arr=[1,2,4]\n",
    "    print(arr[num])\n",
    "except ValueError:\n",
    "    print('Value error executed')\n",
    "except IndexError:\n",
    "    print('Index error executed')"
   ]
  },
  {
   "cell_type": "code",
   "execution_count": 7,
   "id": "49bc8351",
   "metadata": {},
   "outputs": [
    {
     "name": "stdout",
     "output_type": "stream",
     "text": [
      "Enter number : r\n",
      "Value error executed\n"
     ]
    }
   ],
   "source": [
    "try:\n",
    "    num=int(input('Enter number : '))\n",
    "    arr=[1,2,4]\n",
    "    print(arr[num])\n",
    "except ValueError:\n",
    "    print('Value error executed')\n",
    "except IndexError:\n",
    "    print('Index error executed')"
   ]
  },
  {
   "cell_type": "code",
   "execution_count": 8,
   "id": "9dd03f5c",
   "metadata": {},
   "outputs": [
    {
     "name": "stdout",
     "output_type": "stream",
     "text": [
      "Value of b =  -2.0\n"
     ]
    },
    {
     "ename": "ZeroDivisionError",
     "evalue": "division by zero",
     "output_type": "error",
     "traceback": [
      "\u001b[1;31m---------------------------------------------------------------------------\u001b[0m",
      "\u001b[1;31mZeroDivisionError\u001b[0m                         Traceback (most recent call last)",
      "Cell \u001b[1;32mIn[8], line 6\u001b[0m\n\u001b[0;32m      4\u001b[0m     \u001b[38;5;28mprint\u001b[39m(\u001b[38;5;124m\"\u001b[39m\u001b[38;5;124mValue of b = \u001b[39m\u001b[38;5;124m\"\u001b[39m, b)\n\u001b[0;32m      5\u001b[0m fun(\u001b[38;5;241m2\u001b[39m)\n\u001b[1;32m----> 6\u001b[0m fun(\u001b[38;5;241m3\u001b[39m)\n",
      "Cell \u001b[1;32mIn[8], line 3\u001b[0m, in \u001b[0;36mfun\u001b[1;34m(a)\u001b[0m\n\u001b[0;32m      1\u001b[0m \u001b[38;5;28;01mdef\u001b[39;00m \u001b[38;5;21mfun\u001b[39m(a):\n\u001b[0;32m      2\u001b[0m     \u001b[38;5;28;01mif\u001b[39;00m a \u001b[38;5;241m<\u001b[39m \u001b[38;5;241m4\u001b[39m:\n\u001b[1;32m----> 3\u001b[0m         b \u001b[38;5;241m=\u001b[39m a\u001b[38;5;241m/\u001b[39m(a\u001b[38;5;241m-\u001b[39m\u001b[38;5;241m3\u001b[39m)\n\u001b[0;32m      4\u001b[0m     \u001b[38;5;28mprint\u001b[39m(\u001b[38;5;124m\"\u001b[39m\u001b[38;5;124mValue of b = \u001b[39m\u001b[38;5;124m\"\u001b[39m, b)\n",
      "\u001b[1;31mZeroDivisionError\u001b[0m: division by zero"
     ]
    }
   ],
   "source": [
    "def fun(a):\n",
    "    if a < 4:\n",
    "        b = a/(a-3)\n",
    "    print(\"Value of b = \", b)\n",
    "fun(2)\n",
    "fun(3)"
   ]
  },
  {
   "cell_type": "code",
   "execution_count": 9,
   "id": "4aff7631",
   "metadata": {},
   "outputs": [
    {
     "ename": "UnboundLocalError",
     "evalue": "cannot access local variable 'b' where it is not associated with a value",
     "output_type": "error",
     "traceback": [
      "\u001b[1;31m---------------------------------------------------------------------------\u001b[0m",
      "\u001b[1;31mUnboundLocalError\u001b[0m                         Traceback (most recent call last)",
      "Cell \u001b[1;32mIn[9], line 1\u001b[0m\n\u001b[1;32m----> 1\u001b[0m fun(\u001b[38;5;241m5\u001b[39m)\n",
      "Cell \u001b[1;32mIn[8], line 4\u001b[0m, in \u001b[0;36mfun\u001b[1;34m(a)\u001b[0m\n\u001b[0;32m      2\u001b[0m \u001b[38;5;28;01mif\u001b[39;00m a \u001b[38;5;241m<\u001b[39m \u001b[38;5;241m4\u001b[39m:\n\u001b[0;32m      3\u001b[0m     b \u001b[38;5;241m=\u001b[39m a\u001b[38;5;241m/\u001b[39m(a\u001b[38;5;241m-\u001b[39m\u001b[38;5;241m3\u001b[39m)\n\u001b[1;32m----> 4\u001b[0m \u001b[38;5;28mprint\u001b[39m(\u001b[38;5;124m\"\u001b[39m\u001b[38;5;124mValue of b = \u001b[39m\u001b[38;5;124m\"\u001b[39m, b)\n",
      "\u001b[1;31mUnboundLocalError\u001b[0m: cannot access local variable 'b' where it is not associated with a value"
     ]
    }
   ],
   "source": [
    "fun(5)"
   ]
  },
  {
   "cell_type": "code",
   "execution_count": 10,
   "id": "bc35aa63",
   "metadata": {},
   "outputs": [
    {
     "name": "stdout",
     "output_type": "stream",
     "text": [
      "NameError Occurred and Handled\n"
     ]
    }
   ],
   "source": [
    "def fun(a):\n",
    "    if a < 4:\n",
    "        b = a/(a-3)\n",
    "    print(\"Value of b = \", b)\n",
    "try:\n",
    "    fun(5)\n",
    "except ZeroDivisionError:\n",
    "    print(\"ZeroDivisionError Occurred and Handled\")\n",
    "except UnboundLocalError:\n",
    "    print(\"NameError Occurred and Handled\")\n"
   ]
  },
  {
   "cell_type": "code",
   "execution_count": 11,
   "id": "89c09053",
   "metadata": {},
   "outputs": [
    {
     "name": "stdout",
     "output_type": "stream",
     "text": [
      "Enter number : 3\n",
      "5\n",
      "Some line of code\n"
     ]
    }
   ],
   "source": [
    "l=[3,4,72,5]\n",
    "try:\n",
    "    n=int(input('Enter number : '))\n",
    "    print(l[n])\n",
    "except IndexError:\n",
    "    print('Index error executed')\n",
    "except Exception as e:\n",
    "    print(e)\n",
    "print('Some line of code')"
   ]
  },
  {
   "cell_type": "code",
   "execution_count": 12,
   "id": "fc6787ec",
   "metadata": {},
   "outputs": [
    {
     "name": "stdout",
     "output_type": "stream",
     "text": [
      "Enter number : 7\n",
      "Index error executed\n",
      "Some line of code\n"
     ]
    }
   ],
   "source": [
    "l=[3,4,72,5]\n",
    "try:\n",
    "    n=int(input('Enter number : '))\n",
    "    print(l[n])\n",
    "except IndexError:\n",
    "    print('Index error executed')\n",
    "except Exception as e:\n",
    "    print(e)\n",
    "print('Some line of code')"
   ]
  },
  {
   "cell_type": "code",
   "execution_count": 13,
   "id": "097ddc16",
   "metadata": {},
   "outputs": [
    {
     "name": "stdout",
     "output_type": "stream",
     "text": [
      "Enter number : r\n",
      "invalid literal for int() with base 10: 'r'\n",
      "Some line of code\n"
     ]
    }
   ],
   "source": [
    "l=[3,4,72,5]\n",
    "try:\n",
    "    n=int(input('Enter number : '))\n",
    "    print(l[n])\n",
    "except IndexError:\n",
    "    print('Index error executed')\n",
    "except Exception as e:\n",
    "    print(e)\n",
    "print('Some line of code')"
   ]
  },
  {
   "cell_type": "code",
   "execution_count": 15,
   "id": "dac6ab87",
   "metadata": {},
   "outputs": [
    {
     "name": "stdout",
     "output_type": "stream",
     "text": [
      "Enter number : 2\n",
      "sum of 72 and 3 is 75\n",
      "Some line of code\n"
     ]
    }
   ],
   "source": [
    "l=[3,4,72,5]\n",
    "try:\n",
    "    n=int(input('Enter number : '))\n",
    "    sum=l[n]+3\n",
    "except IndexError:\n",
    "    print('Index error executed')\n",
    "else:\n",
    "    print(f'sum of {l[n]} and 3 is {sum}')\n",
    "print('Some line of code')"
   ]
  },
  {
   "cell_type": "code",
   "execution_count": 16,
   "id": "8e64affd",
   "metadata": {},
   "outputs": [
    {
     "name": "stdout",
     "output_type": "stream",
     "text": [
      "Enter number : 6\n",
      "Index error executed\n",
      "Some line of code\n"
     ]
    }
   ],
   "source": [
    "l=[3,4,72,5]\n",
    "try:\n",
    "    n=int(input('Enter number : '))\n",
    "    sum=l[n]+3\n",
    "except IndexError:\n",
    "    print('Index error executed')\n",
    "else:\n",
    "    print(f'sum of {l[n]} and 3 is {sum}')\n",
    "print('Some line of code')"
   ]
  },
  {
   "cell_type": "code",
   "execution_count": null,
   "id": "3c5c37db",
   "metadata": {},
   "outputs": [],
   "source": []
  }
 ],
 "metadata": {
  "kernelspec": {
   "display_name": "Python 3 (ipykernel)",
   "language": "python",
   "name": "python3"
  },
  "language_info": {
   "codemirror_mode": {
    "name": "ipython",
    "version": 3
   },
   "file_extension": ".py",
   "mimetype": "text/x-python",
   "name": "python",
   "nbconvert_exporter": "python",
   "pygments_lexer": "ipython3",
   "version": "3.11.5"
  }
 },
 "nbformat": 4,
 "nbformat_minor": 5
}
