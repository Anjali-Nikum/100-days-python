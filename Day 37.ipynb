{
 "cells": [
  {
   "cell_type": "markdown",
   "id": "56a4d724",
   "metadata": {},
   "source": [
    "# Day 37\n",
    "## Finally keyword\n",
    "Python provides a keyword finally, which is always executed after the try and except blocks. The final block always executes after the normal termination of the try block or after the try block terminates due to some exception."
   ]
  },
  {
   "cell_type": "code",
   "execution_count": 1,
   "id": "ba7ce0cc",
   "metadata": {},
   "outputs": [
    {
     "name": "stdout",
     "output_type": "stream",
     "text": [
      "Enter number : 7\n",
      "Error is list index out of range\n",
      "Finally block is always executed\n"
     ]
    }
   ],
   "source": [
    "try:\n",
    "    l=[6,36,27,76]\n",
    "    n=int(input('Enter number : '))\n",
    "    print(l[n])\n",
    "except Exception as e:\n",
    "    print(f'Error is {e}')\n",
    "finally:\n",
    "    print('Finally block is always executed')"
   ]
  },
  {
   "cell_type": "markdown",
   "id": "23554b74",
   "metadata": {},
   "source": [
    "### Why we use?\n",
    "##### We can use print statement without finally it will exceute. But when we use function the code after return will not execute but finally keyword still work after the return statement"
   ]
  },
  {
   "cell_type": "code",
   "execution_count": 2,
   "id": "d9d2387b",
   "metadata": {},
   "outputs": [],
   "source": [
    "def function():\n",
    "    nums=[8,2,5,7,25]\n",
    "    try:\n",
    "        n=int(input('Enter Index : '))\n",
    "        print(nums[n])\n",
    "        return 'Try executed'\n",
    "    except:\n",
    "        return 'Except exectued'\n",
    "    print('Without Finally')"
   ]
  },
  {
   "cell_type": "code",
   "execution_count": 3,
   "id": "e3d975ab",
   "metadata": {},
   "outputs": [
    {
     "name": "stdout",
     "output_type": "stream",
     "text": [
      "Enter Index : 1\n",
      "2\n",
      "Try executed\n"
     ]
    }
   ],
   "source": [
    "print(function())"
   ]
  },
  {
   "cell_type": "code",
   "execution_count": 4,
   "id": "9d0b49e0",
   "metadata": {},
   "outputs": [
    {
     "name": "stdout",
     "output_type": "stream",
     "text": [
      "Enter Index : 9\n",
      "Except exectued\n"
     ]
    }
   ],
   "source": [
    "print(function())"
   ]
  },
  {
   "cell_type": "markdown",
   "id": "bc6e79b4",
   "metadata": {},
   "source": [
    "print('Without Finally') not executed. Now with finally"
   ]
  },
  {
   "cell_type": "code",
   "execution_count": 5,
   "id": "eefb9dd4",
   "metadata": {},
   "outputs": [],
   "source": [
    "def func():\n",
    "    nums=[8,2,5,7,25]\n",
    "    try:\n",
    "        n=int(input('Enter Index : '))\n",
    "        print(nums[n])\n",
    "        return 'Try executed'\n",
    "    except:\n",
    "        return 'Except exectued'\n",
    "    finally:\n",
    "        print('Finally executed')"
   ]
  },
  {
   "cell_type": "code",
   "execution_count": 6,
   "id": "d86e8e33",
   "metadata": {},
   "outputs": [
    {
     "name": "stdout",
     "output_type": "stream",
     "text": [
      "Enter Index : 1\n",
      "2\n",
      "Finally executed\n",
      "Try executed\n"
     ]
    }
   ],
   "source": [
    "print(func())"
   ]
  },
  {
   "cell_type": "code",
   "execution_count": 7,
   "id": "d81bde08",
   "metadata": {},
   "outputs": [
    {
     "name": "stdout",
     "output_type": "stream",
     "text": [
      "Enter Index : 10\n",
      "Finally executed\n",
      "Except exectued\n"
     ]
    }
   ],
   "source": [
    "print(func())"
   ]
  },
  {
   "cell_type": "markdown",
   "id": "b4a03629",
   "metadata": {},
   "source": [
    "We can use try-finally without except"
   ]
  },
  {
   "cell_type": "code",
   "execution_count": 8,
   "id": "2495d0e5",
   "metadata": {},
   "outputs": [
    {
     "name": "stdout",
     "output_type": "stream",
     "text": [
      "0.6666666666666666\n",
      "Finally Executed\n"
     ]
    }
   ],
   "source": [
    "try:\n",
    "    print(2/3)\n",
    "finally:\n",
    "    print('Finally Executed')"
   ]
  },
  {
   "cell_type": "code",
   "execution_count": 9,
   "id": "aa1d23ff",
   "metadata": {},
   "outputs": [
    {
     "name": "stdout",
     "output_type": "stream",
     "text": [
      "Finally Executed\n"
     ]
    },
    {
     "ename": "ZeroDivisionError",
     "evalue": "division by zero",
     "output_type": "error",
     "traceback": [
      "\u001b[1;31m---------------------------------------------------------------------------\u001b[0m",
      "\u001b[1;31mZeroDivisionError\u001b[0m                         Traceback (most recent call last)",
      "Cell \u001b[1;32mIn[9], line 2\u001b[0m\n\u001b[0;32m      1\u001b[0m \u001b[38;5;28;01mtry\u001b[39;00m:\n\u001b[1;32m----> 2\u001b[0m     \u001b[38;5;28mprint\u001b[39m(\u001b[38;5;241m2\u001b[39m\u001b[38;5;241m/\u001b[39m\u001b[38;5;241m0\u001b[39m)\n\u001b[0;32m      3\u001b[0m \u001b[38;5;28;01mfinally\u001b[39;00m:\n\u001b[0;32m      4\u001b[0m     \u001b[38;5;28mprint\u001b[39m(\u001b[38;5;124m'\u001b[39m\u001b[38;5;124mFinally Executed\u001b[39m\u001b[38;5;124m'\u001b[39m)\n",
      "\u001b[1;31mZeroDivisionError\u001b[0m: division by zero"
     ]
    }
   ],
   "source": [
    "try:\n",
    "    print(2/0)\n",
    "finally:\n",
    "    print('Finally Executed')"
   ]
  },
  {
   "cell_type": "code",
   "execution_count": null,
   "id": "f3742096",
   "metadata": {},
   "outputs": [],
   "source": []
  }
 ],
 "metadata": {
  "kernelspec": {
   "display_name": "Python 3 (ipykernel)",
   "language": "python",
   "name": "python3"
  },
  "language_info": {
   "codemirror_mode": {
    "name": "ipython",
    "version": 3
   },
   "file_extension": ".py",
   "mimetype": "text/x-python",
   "name": "python",
   "nbconvert_exporter": "python",
   "pygments_lexer": "ipython3",
   "version": "3.11.5"
  }
 },
 "nbformat": 4,
 "nbformat_minor": 5
}
