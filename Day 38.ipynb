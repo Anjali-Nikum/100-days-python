{
 "cells": [
  {
   "cell_type": "markdown",
   "id": "37b09a37",
   "metadata": {},
   "source": [
    "# Day 38\n",
    "## Raising Custom Errors"
   ]
  },
  {
   "cell_type": "code",
   "execution_count": 1,
   "id": "67c554b2",
   "metadata": {},
   "outputs": [
    {
     "name": "stdout",
     "output_type": "stream",
     "text": [
      "Enter value between 5 and 10 : 16\n"
     ]
    },
    {
     "ename": "ValueError",
     "evalue": "Value should be between 5 and 10",
     "output_type": "error",
     "traceback": [
      "\u001b[1;31m---------------------------------------------------------------------------\u001b[0m",
      "\u001b[1;31mValueError\u001b[0m                                Traceback (most recent call last)",
      "Cell \u001b[1;32mIn[1], line 3\u001b[0m\n\u001b[0;32m      1\u001b[0m a\u001b[38;5;241m=\u001b[39m\u001b[38;5;28mint\u001b[39m(\u001b[38;5;28minput\u001b[39m(\u001b[38;5;124m'\u001b[39m\u001b[38;5;124mEnter value between 5 and 10 : \u001b[39m\u001b[38;5;124m'\u001b[39m))\n\u001b[0;32m      2\u001b[0m \u001b[38;5;28;01mif\u001b[39;00m a\u001b[38;5;241m<\u001b[39m\u001b[38;5;241m5\u001b[39m \u001b[38;5;129;01mor\u001b[39;00m a\u001b[38;5;241m>\u001b[39m\u001b[38;5;241m10\u001b[39m:\n\u001b[1;32m----> 3\u001b[0m     \u001b[38;5;28;01mraise\u001b[39;00m \u001b[38;5;167;01mValueError\u001b[39;00m(\u001b[38;5;124m'\u001b[39m\u001b[38;5;124mValue should be between 5 and 10\u001b[39m\u001b[38;5;124m'\u001b[39m)\n",
      "\u001b[1;31mValueError\u001b[0m: Value should be between 5 and 10"
     ]
    }
   ],
   "source": [
    "a=int(input('Enter value between 5 and 10 : '))\n",
    "if a<5 or a>10:\n",
    "    raise ValueError('Value should be between 5 and 10')"
   ]
  },
  {
   "cell_type": "markdown",
   "id": "b384e675",
   "metadata": {},
   "source": [
    "or"
   ]
  },
  {
   "cell_type": "code",
   "execution_count": 2,
   "id": "63d945bd",
   "metadata": {},
   "outputs": [
    {
     "name": "stdout",
     "output_type": "stream",
     "text": [
      "Enter value between 5 and 10 : 20\n"
     ]
    },
    {
     "ename": "ValueError",
     "evalue": "Value should be between 5 and 10",
     "output_type": "error",
     "traceback": [
      "\u001b[1;31m---------------------------------------------------------------------------\u001b[0m",
      "\u001b[1;31mValueError\u001b[0m                                Traceback (most recent call last)",
      "Cell \u001b[1;32mIn[2], line 5\u001b[0m\n\u001b[0;32m      3\u001b[0m     \u001b[38;5;28mprint\u001b[39m(\u001b[38;5;124m'\u001b[39m\u001b[38;5;124mCorrect\u001b[39m\u001b[38;5;124m'\u001b[39m)\n\u001b[0;32m      4\u001b[0m \u001b[38;5;28;01melse\u001b[39;00m:\n\u001b[1;32m----> 5\u001b[0m     \u001b[38;5;28;01mraise\u001b[39;00m \u001b[38;5;167;01mValueError\u001b[39;00m(\u001b[38;5;124m'\u001b[39m\u001b[38;5;124mValue should be between 5 and 10\u001b[39m\u001b[38;5;124m'\u001b[39m)\n",
      "\u001b[1;31mValueError\u001b[0m: Value should be between 5 and 10"
     ]
    }
   ],
   "source": [
    "a=int(input('Enter value between 5 and 10 : '))\n",
    "if a>5 and a<10:\n",
    "    print('Correct')\n",
    "else:\n",
    "    raise ValueError('Value should be between 5 and 10')"
   ]
  },
  {
   "cell_type": "code",
   "execution_count": 12,
   "id": "1fc13dce",
   "metadata": {},
   "outputs": [
    {
     "name": "stdout",
     "output_type": "stream",
     "text": [
      "Enter Index : r\n"
     ]
    },
    {
     "ename": "ValueError",
     "evalue": "Value Error Occured",
     "output_type": "error",
     "traceback": [
      "\u001b[1;31m---------------------------------------------------------------------------\u001b[0m",
      "\u001b[1;31mValueError\u001b[0m                                Traceback (most recent call last)",
      "Cell \u001b[1;32mIn[12], line 3\u001b[0m\n\u001b[0;32m      2\u001b[0m \u001b[38;5;28;01mtry\u001b[39;00m:\n\u001b[1;32m----> 3\u001b[0m     n\u001b[38;5;241m=\u001b[39m\u001b[38;5;28mint\u001b[39m(\u001b[38;5;28minput\u001b[39m(\u001b[38;5;124m'\u001b[39m\u001b[38;5;124mEnter Index : \u001b[39m\u001b[38;5;124m'\u001b[39m))\n\u001b[0;32m      4\u001b[0m     \u001b[38;5;28mprint\u001b[39m(nums[n])\n",
      "\u001b[1;31mValueError\u001b[0m: invalid literal for int() with base 10: 'r'",
      "\nDuring handling of the above exception, another exception occurred:\n",
      "\u001b[1;31mValueError\u001b[0m                                Traceback (most recent call last)",
      "Cell \u001b[1;32mIn[12], line 6\u001b[0m\n\u001b[0;32m      4\u001b[0m     \u001b[38;5;28mprint\u001b[39m(nums[n])\n\u001b[0;32m      5\u001b[0m \u001b[38;5;28;01mexcept\u001b[39;00m \u001b[38;5;167;01mValueError\u001b[39;00m:\n\u001b[1;32m----> 6\u001b[0m     \u001b[38;5;28;01mraise\u001b[39;00m \u001b[38;5;167;01mValueError\u001b[39;00m(\u001b[38;5;124m'\u001b[39m\u001b[38;5;124mValue Error Occured\u001b[39m\u001b[38;5;124m'\u001b[39m)\n\u001b[0;32m      7\u001b[0m \u001b[38;5;28;01mexcept\u001b[39;00m \u001b[38;5;167;01mIndexError\u001b[39;00m:\n\u001b[0;32m      8\u001b[0m     \u001b[38;5;28;01mraise\u001b[39;00m \u001b[38;5;167;01mIndexError\u001b[39;00m(\u001b[38;5;124m'\u001b[39m\u001b[38;5;124mIndex Error Occured\u001b[39m\u001b[38;5;124m'\u001b[39m)\n",
      "\u001b[1;31mValueError\u001b[0m: Value Error Occured"
     ]
    }
   ],
   "source": [
    "nums=[14,84,43,79]\n",
    "try:\n",
    "    n=int(input('Enter Index : '))\n",
    "    print(nums[n])\n",
    "except ValueError:\n",
    "    raise ValueError('Value Error Occured')\n",
    "except IndexError:\n",
    "    raise IndexError('Index Error Occured')\n",
    "else:\n",
    "    print('No error')\n",
    "print('Some lines of code')"
   ]
  },
  {
   "cell_type": "code",
   "execution_count": 15,
   "id": "2d047d55",
   "metadata": {},
   "outputs": [
    {
     "name": "stdout",
     "output_type": "stream",
     "text": [
      "can only concatenate str (not \"int\") to str\n"
     ]
    },
    {
     "ename": "NameError",
     "evalue": "name 'rollbar' is not defined",
     "output_type": "error",
     "traceback": [
      "\u001b[1;31m---------------------------------------------------------------------------\u001b[0m",
      "\u001b[1;31mTypeError\u001b[0m                                 Traceback (most recent call last)",
      "Cell \u001b[1;32mIn[15], line 3\u001b[0m\n\u001b[0;32m      2\u001b[0m     name \u001b[38;5;241m=\u001b[39m \u001b[38;5;124m'\u001b[39m\u001b[38;5;124mBob\u001b[39m\u001b[38;5;124m'\u001b[39m\n\u001b[1;32m----> 3\u001b[0m     name \u001b[38;5;241m+\u001b[39m\u001b[38;5;241m=\u001b[39m \u001b[38;5;241m5\u001b[39m\n\u001b[0;32m      4\u001b[0m \u001b[38;5;28;01mexcept\u001b[39;00m \u001b[38;5;167;01mNameError\u001b[39;00m \u001b[38;5;28;01mas\u001b[39;00m ne:\n\u001b[0;32m      5\u001b[0m     \u001b[38;5;66;03m# Code to handle NameError\u001b[39;00m\n",
      "\u001b[1;31mTypeError\u001b[0m: can only concatenate str (not \"int\") to str",
      "\nDuring handling of the above exception, another exception occurred:\n",
      "\u001b[1;31mNameError\u001b[0m                                 Traceback (most recent call last)",
      "Cell \u001b[1;32mIn[15], line 11\u001b[0m\n\u001b[0;32m      8\u001b[0m \u001b[38;5;28;01mexcept\u001b[39;00m \u001b[38;5;167;01mTypeError\u001b[39;00m \u001b[38;5;28;01mas\u001b[39;00m te:\n\u001b[0;32m      9\u001b[0m     \u001b[38;5;66;03m# Code to handle TypeError\u001b[39;00m\n\u001b[0;32m     10\u001b[0m     \u001b[38;5;28mprint\u001b[39m(te)\n\u001b[1;32m---> 11\u001b[0m     rollbar\u001b[38;5;241m.\u001b[39mreport_exc_info()\n",
      "\u001b[1;31mNameError\u001b[0m: name 'rollbar' is not defined"
     ]
    }
   ],
   "source": [
    "try:\n",
    "    name = 'Bob'\n",
    "    name += 5\n",
    "except NameError as ne:\n",
    "    # Code to handle NameError\n",
    "    print(ne)\n",
    "except TypeError as te:\n",
    "    # Code to handle TypeError\n",
    "    print(te)\n",
    "    rollbar.report_exc_info()"
   ]
  },
  {
   "cell_type": "code",
   "execution_count": 3,
   "id": "358ca0be",
   "metadata": {},
   "outputs": [
    {
     "name": "stdout",
     "output_type": "stream",
     "text": [
      "Enter Index : 3\n",
      "79\n",
      "No error\n",
      "Some lines of code\n"
     ]
    }
   ],
   "source": [
    "nums=[14,84,43,79]\n",
    "try:\n",
    "    n=int(input('Enter Index : '))\n",
    "    print(nums[n])\n",
    "except ValueError:\n",
    "    raise ValueError('Value Error Occured')\n",
    "except IndexError:\n",
    "    raise IndexError('Index Error Occured')\n",
    "else:\n",
    "    print('No error')\n",
    "print('Some lines of code')"
   ]
  },
  {
   "cell_type": "code",
   "execution_count": 16,
   "id": "bfbeefe4",
   "metadata": {},
   "outputs": [
    {
     "name": "stdout",
     "output_type": "stream",
     "text": [
      "Enter Age : 4\n",
      "Finally\n"
     ]
    },
    {
     "ename": "ValueError",
     "evalue": "You are not elgible for vote",
     "output_type": "error",
     "traceback": [
      "\u001b[1;31m---------------------------------------------------------------------------\u001b[0m",
      "\u001b[1;31mValueError\u001b[0m                                Traceback (most recent call last)",
      "Cell \u001b[1;32mIn[16], line 6\u001b[0m\n\u001b[0;32m      4\u001b[0m \u001b[38;5;28;01mtry\u001b[39;00m:\n\u001b[0;32m      5\u001b[0m     age\u001b[38;5;241m=\u001b[39m\u001b[38;5;28mint\u001b[39m(\u001b[38;5;28minput\u001b[39m(\u001b[38;5;124m'\u001b[39m\u001b[38;5;124mEnter Age : \u001b[39m\u001b[38;5;124m'\u001b[39m))\n\u001b[1;32m----> 6\u001b[0m     Validate(age)\n\u001b[0;32m      7\u001b[0m     \u001b[38;5;28mprint\u001b[39m(\u001b[38;5;124m'\u001b[39m\u001b[38;5;124mYou are eligible\u001b[39m\u001b[38;5;124m'\u001b[39m)\n\u001b[0;32m      8\u001b[0m \u001b[38;5;66;03m# except ValueError as e:\u001b[39;00m\n\u001b[0;32m      9\u001b[0m \u001b[38;5;66;03m#     print(e)\u001b[39;00m\n\u001b[0;32m     10\u001b[0m \u001b[38;5;28;01mfinally\u001b[39;00m:\n",
      "Cell \u001b[1;32mIn[16], line 3\u001b[0m, in \u001b[0;36mValidate\u001b[1;34m(age)\u001b[0m\n\u001b[0;32m      1\u001b[0m \u001b[38;5;28;01mdef\u001b[39;00m \u001b[38;5;21mValidate\u001b[39m(age):\n\u001b[0;32m      2\u001b[0m     \u001b[38;5;28;01mif\u001b[39;00m age\u001b[38;5;241m<\u001b[39m\u001b[38;5;241m18\u001b[39m:\n\u001b[1;32m----> 3\u001b[0m         \u001b[38;5;28;01mraise\u001b[39;00m \u001b[38;5;167;01mValueError\u001b[39;00m(\u001b[38;5;124m'\u001b[39m\u001b[38;5;124mYou are not elgible for vote\u001b[39m\u001b[38;5;124m'\u001b[39m)\n",
      "\u001b[1;31mValueError\u001b[0m: You are not elgible for vote"
     ]
    }
   ],
   "source": [
    "def Validate(age):\n",
    "    if age<18:\n",
    "        raise ValueError('You are not elgible for vote')\n",
    "try:\n",
    "    age=int(input('Enter Age : '))\n",
    "    Validate(age)\n",
    "    print('You are eligible')\n",
    "except ValueError as e:\n",
    "    print(e)\n",
    "# finally:\n",
    "#     print('Finally')\n",
    "print('Some line of code')"
   ]
  },
  {
   "cell_type": "code",
   "execution_count": null,
   "id": "bb461cc6",
   "metadata": {},
   "outputs": [],
   "source": []
  }
 ],
 "metadata": {
  "kernelspec": {
   "display_name": "Python 3 (ipykernel)",
   "language": "python",
   "name": "python3"
  },
  "language_info": {
   "codemirror_mode": {
    "name": "ipython",
    "version": 3
   },
   "file_extension": ".py",
   "mimetype": "text/x-python",
   "name": "python",
   "nbconvert_exporter": "python",
   "pygments_lexer": "ipython3",
   "version": "3.11.5"
  }
 },
 "nbformat": 4,
 "nbformat_minor": 5
}
