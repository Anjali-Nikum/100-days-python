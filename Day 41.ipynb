{
 "cells": [
  {
   "cell_type": "markdown",
   "id": "a107087c",
   "metadata": {},
   "source": [
    "# Day 41\n",
    "## Short Hand If Else"
   ]
  },
  {
   "cell_type": "markdown",
   "id": "c13b6831",
   "metadata": {},
   "source": [
    "short hand if"
   ]
  },
  {
   "cell_type": "code",
   "execution_count": 9,
   "id": "1ae1ac34",
   "metadata": {},
   "outputs": [
    {
     "name": "stdout",
     "output_type": "stream",
     "text": [
      "a is Greater than 50\n"
     ]
    }
   ],
   "source": [
    "a=100\n",
    "print('a is Greater than 50') if a>50 else ''"
   ]
  },
  {
   "cell_type": "markdown",
   "id": "f20d4178",
   "metadata": {},
   "source": [
    "short hand if else"
   ]
  },
  {
   "cell_type": "code",
   "execution_count": 5,
   "id": "9a9d1e7e",
   "metadata": {},
   "outputs": [
    {
     "name": "stdout",
     "output_type": "stream",
     "text": [
      "not equal\n"
     ]
    }
   ],
   "source": [
    "num1=10\n",
    "num2=20\n",
    "print(f'{num1} is greater than {num2}') if num1>num2 else print('not equal')"
   ]
  },
  {
   "cell_type": "code",
   "execution_count": 6,
   "id": "772ec7a6",
   "metadata": {},
   "outputs": [
    {
     "name": "stdout",
     "output_type": "stream",
     "text": [
      "N2\n"
     ]
    }
   ],
   "source": [
    "n1=300\n",
    "n2=3000\n",
    "print('N1') if n1>n2 else print('Equal') if n1==n2 else print('N2')"
   ]
  },
  {
   "cell_type": "code",
   "execution_count": 10,
   "id": "0c155224",
   "metadata": {},
   "outputs": [
    {
     "name": "stdout",
     "output_type": "stream",
     "text": [
      "5000\n"
     ]
    }
   ],
   "source": [
    "result= n1+n2 if n1+n2>5000 else 5000\n",
    "print(result)"
   ]
  },
  {
   "cell_type": "code",
   "execution_count": null,
   "id": "d5c56e43",
   "metadata": {},
   "outputs": [],
   "source": []
  }
 ],
 "metadata": {
  "kernelspec": {
   "display_name": "Python 3 (ipykernel)",
   "language": "python",
   "name": "python3"
  },
  "language_info": {
   "codemirror_mode": {
    "name": "ipython",
    "version": 3
   },
   "file_extension": ".py",
   "mimetype": "text/x-python",
   "name": "python",
   "nbconvert_exporter": "python",
   "pygments_lexer": "ipython3",
   "version": "3.11.5"
  }
 },
 "nbformat": 4,
 "nbformat_minor": 5
}
