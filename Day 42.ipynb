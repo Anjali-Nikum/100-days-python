{
 "cells": [
  {
   "cell_type": "markdown",
   "id": "bfaae20b",
   "metadata": {},
   "source": [
    "# Day 42\n",
    "## Enumerate Function\n",
    "The enumerate function is a built-in function in Python that allows you to loop over a sequence (such as list, tuple, or string) and get the index and value of each element in the sequence at the same time."
   ]
  },
  {
   "cell_type": "code",
   "execution_count": 1,
   "id": "e3fda041",
   "metadata": {},
   "outputs": [
    {
     "name": "stdout",
     "output_type": "stream",
     "text": [
      "12\n"
     ]
    },
    {
     "ename": "NameError",
     "evalue": "name 'index' is not defined",
     "output_type": "error",
     "traceback": [
      "\u001b[1;31m---------------------------------------------------------------------------\u001b[0m",
      "\u001b[1;31mNameError\u001b[0m                                 Traceback (most recent call last)",
      "Cell \u001b[1;32mIn[1], line 4\u001b[0m\n\u001b[0;32m      2\u001b[0m \u001b[38;5;28;01mfor\u001b[39;00m mark \u001b[38;5;129;01min\u001b[39;00m marks:\n\u001b[0;32m      3\u001b[0m     \u001b[38;5;28mprint\u001b[39m(mark)\n\u001b[1;32m----> 4\u001b[0m     \u001b[38;5;28;01mif\u001b[39;00m index\u001b[38;5;241m==\u001b[39m\u001b[38;5;241m3\u001b[39m:\n\u001b[0;32m      5\u001b[0m         \u001b[38;5;28mprint\u001b[39m(\u001b[38;5;124m'\u001b[39m\u001b[38;5;124mGrear\u001b[39m\u001b[38;5;124m'\u001b[39m)\n",
      "\u001b[1;31mNameError\u001b[0m: name 'index' is not defined"
     ]
    }
   ],
   "source": [
    "marks = [12, 56, 32, 98, 12, 45, 1, 4]\n",
    "for mark in marks:\n",
    "    print(mark)\n",
    "    if index==3:\n",
    "        print('Grear')"
   ]
  },
  {
   "cell_type": "markdown",
   "id": "f08fa9fd",
   "metadata": {},
   "source": [
    "to get index i need to store it"
   ]
  },
  {
   "cell_type": "code",
   "execution_count": 2,
   "id": "61610180",
   "metadata": {},
   "outputs": [
    {
     "name": "stdout",
     "output_type": "stream",
     "text": [
      "12\n",
      "56\n",
      "32\n",
      "98\n",
      "Grear\n",
      "12\n",
      "45\n",
      "1\n",
      "4\n"
     ]
    }
   ],
   "source": [
    "marks = [12, 56, 32, 98, 12, 45, 1, 4]\n",
    "index=0\n",
    "for mark in marks:\n",
    "    print(mark)\n",
    "    if index==3:\n",
    "        print('Grear')\n",
    "    index+=1"
   ]
  },
  {
   "cell_type": "markdown",
   "id": "a415c33b",
   "metadata": {},
   "source": [
    "now with enumerate function"
   ]
  },
  {
   "cell_type": "code",
   "execution_count": 3,
   "id": "ed553ec6",
   "metadata": {},
   "outputs": [
    {
     "name": "stdout",
     "output_type": "stream",
     "text": [
      "12\n",
      "56\n",
      "32\n",
      "98\n",
      "Grear\n",
      "12\n",
      "45\n",
      "1\n",
      "4\n"
     ]
    }
   ],
   "source": [
    "marks = [12, 56, 32, 98, 12, 45, 1, 4]\n",
    "for index,mark in enumerate(marks):\n",
    "    print(mark)\n",
    "    if index==3:\n",
    "        print('Grear')"
   ]
  },
  {
   "cell_type": "code",
   "execution_count": 5,
   "id": "51a225b0",
   "metadata": {},
   "outputs": [
    {
     "name": "stdout",
     "output_type": "stream",
     "text": [
      "[(0, 12), (1, 56), (2, 32), (3, 98), (4, 12), (5, 45), (6, 1), (7, 4)]\n"
     ]
    }
   ],
   "source": [
    "print(list(enumerate(marks)))"
   ]
  },
  {
   "cell_type": "code",
   "execution_count": 3,
   "id": "003f143e",
   "metadata": {},
   "outputs": [
    {
     "name": "stdout",
     "output_type": "stream",
     "text": [
      "(0, 'eat')\n",
      "(1, 'sleep')\n",
      "(2, 'repeat')\n",
      "100 eat\n",
      "101 sleep\n",
      "102 repeat\n",
      "0\n",
      "eat\n",
      "1\n",
      "sleep\n",
      "2\n",
      "repeat\n"
     ]
    }
   ],
   "source": [
    "l1 = [\"eat\", \"sleep\", \"repeat\"]\n",
    "\n",
    "# printing the tuples in object directly\n",
    "for ele in enumerate(l1):\n",
    "    print (ele)\n",
    "\n",
    "# changing index and printing separately\n",
    "for count, ele in enumerate(l1, 100):\n",
    "    print (count, ele)\n",
    "\n",
    "# getting desired output from tuple\n",
    "for count, ele in enumerate(l1):\n",
    "    print(count)\n",
    "    print(ele)\n"
   ]
  },
  {
   "cell_type": "code",
   "execution_count": null,
   "id": "23361fb5",
   "metadata": {},
   "outputs": [],
   "source": []
  }
 ],
 "metadata": {
  "kernelspec": {
   "display_name": "Python 3 (ipykernel)",
   "language": "python",
   "name": "python3"
  },
  "language_info": {
   "codemirror_mode": {
    "name": "ipython",
    "version": 3
   },
   "file_extension": ".py",
   "mimetype": "text/x-python",
   "name": "python",
   "nbconvert_exporter": "python",
   "pygments_lexer": "ipython3",
   "version": "3.11.5"
  }
 },
 "nbformat": 4,
 "nbformat_minor": 5
}
