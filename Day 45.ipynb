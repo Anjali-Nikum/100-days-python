{
 "cells": [
  {
   "cell_type": "markdown",
   "id": "14f5f98a",
   "metadata": {},
   "source": [
    "# Day 45\n",
    "## if__name__==\"__main__\""
   ]
  },
  {
   "cell_type": "markdown",
   "id": "37b90409",
   "metadata": {},
   "source": [
    "    The if __name__ == \"__main__\" idiom is a common pattern used in Python scripts to determine whether the script is being run directly or being imported as a module into another script.\n",
    "\n",
    "In Python, the __name__ variable is a built-in variable that is automatically set to the name of the current module. When a Python script is run directly, the __name__ variable is set to the string __main__ When the script is imported as a module into another script, the __name__ variable is set to the name of the module."
   ]
  },
  {
   "cell_type": "code",
   "execution_count": 2,
   "id": "cefdae25",
   "metadata": {},
   "outputs": [
    {
     "ename": "ModuleNotFoundError",
     "evalue": "No module named 'Rohan'",
     "output_type": "error",
     "traceback": [
      "\u001b[1;31m---------------------------------------------------------------------------\u001b[0m",
      "\u001b[1;31mModuleNotFoundError\u001b[0m                       Traceback (most recent call last)",
      "Cell \u001b[1;32mIn[2], line 1\u001b[0m\n\u001b[1;32m----> 1\u001b[0m \u001b[38;5;28;01mimport\u001b[39;00m \u001b[38;5;21;01mRohan\u001b[39;00m\n\u001b[0;32m      2\u001b[0m Rohan\u001b[38;5;241m.\u001b[39mwelcome()\n",
      "\u001b[1;31mModuleNotFoundError\u001b[0m: No module named 'Rohan'"
     ]
    }
   ],
   "source": [
    "import Rohan\n",
    "Rohan.welcome()"
   ]
  },
  {
   "cell_type": "code",
   "execution_count": null,
   "id": "6a1332a6",
   "metadata": {},
   "outputs": [],
   "source": []
  }
 ],
 "metadata": {
  "kernelspec": {
   "display_name": "Python 3 (ipykernel)",
   "language": "python",
   "name": "python3"
  },
  "language_info": {
   "codemirror_mode": {
    "name": "ipython",
    "version": 3
   },
   "file_extension": ".py",
   "mimetype": "text/x-python",
   "name": "python",
   "nbconvert_exporter": "python",
   "pygments_lexer": "ipython3",
   "version": "3.11.5"
  }
 },
 "nbformat": 4,
 "nbformat_minor": 5
}
