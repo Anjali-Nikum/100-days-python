{
 "cells": [
  {
   "cell_type": "markdown",
   "id": "576323c5",
   "metadata": {},
   "source": [
    "# Day 46\n",
    "## OS module\n",
    "The os module in Python is a built-in library that provides functions for interacting with the operating system. It allows you to perform a wide variety of tasks, such as reading and writing files, interacting with the file system, and running system commands."
   ]
  },
  {
   "cell_type": "code",
   "execution_count": 1,
   "id": "54f461bb",
   "metadata": {},
   "outputs": [],
   "source": [
    "import os"
   ]
  },
  {
   "cell_type": "code",
   "execution_count": 2,
   "id": "56500a22",
   "metadata": {},
   "outputs": [
    {
     "name": "stdout",
     "output_type": "stream",
     "text": [
      "['DirEntry', 'EX_OK', 'F_OK', 'GenericAlias', 'Mapping', 'MutableMapping', 'O_APPEND', 'O_BINARY', 'O_CREAT', 'O_EXCL', 'O_NOINHERIT', 'O_RANDOM', 'O_RDONLY', 'O_RDWR', 'O_SEQUENTIAL', 'O_SHORT_LIVED', 'O_TEMPORARY', 'O_TEXT', 'O_TRUNC', 'O_WRONLY', 'P_DETACH', 'P_NOWAIT', 'P_NOWAITO', 'P_OVERLAY', 'P_WAIT', 'PathLike', 'R_OK', 'SEEK_CUR', 'SEEK_END', 'SEEK_SET', 'TMP_MAX', 'W_OK', 'X_OK', '_AddedDllDirectory', '_Environ', '__all__', '__builtins__', '__doc__', '__file__', '__loader__', '__name__', '__package__', '__spec__', '_check_methods', '_execvpe', '_exists', '_exit', '_fspath', '_get_exports_list', '_walk', '_wrap_close', 'abc', 'abort', 'access', 'add_dll_directory', 'altsep', 'chdir', 'chmod', 'close', 'closerange', 'cpu_count', 'curdir', 'defpath', 'device_encoding', 'devnull', 'dup', 'dup2', 'environ', 'error', 'execl', 'execle', 'execlp', 'execlpe', 'execv', 'execve', 'execvp', 'execvpe', 'extsep', 'fdopen', 'fsdecode', 'fsencode', 'fspath', 'fstat', 'fsync', 'ftruncate', 'get_exec_path', 'get_handle_inheritable', 'get_inheritable', 'get_terminal_size', 'getcwd', 'getcwdb', 'getenv', 'getlogin', 'getpid', 'getppid', 'isatty', 'kill', 'linesep', 'link', 'listdir', 'lseek', 'lstat', 'makedirs', 'mkdir', 'name', 'open', 'pardir', 'path', 'pathsep', 'pipe', 'popen', 'putenv', 'read', 'readlink', 'remove', 'removedirs', 'rename', 'renames', 'replace', 'rmdir', 'scandir', 'sep', 'set_handle_inheritable', 'set_inheritable', 'spawnl', 'spawnle', 'spawnv', 'spawnve', 'st', 'startfile', 'stat', 'stat_result', 'statvfs_result', 'strerror', 'supports_bytes_environ', 'supports_dir_fd', 'supports_effective_ids', 'supports_fd', 'supports_follow_symlinks', 'symlink', 'sys', 'system', 'terminal_size', 'times', 'times_result', 'truncate', 'umask', 'uname_result', 'unlink', 'unsetenv', 'urandom', 'utime', 'waitpid', 'waitstatus_to_exitcode', 'walk', 'write']\n"
     ]
    }
   ],
   "source": [
    "print(dir(os))"
   ]
  },
  {
   "cell_type": "code",
   "execution_count": 3,
   "id": "ec4b6df2",
   "metadata": {},
   "outputs": [],
   "source": [
    "os.mkdir('data')"
   ]
  },
  {
   "cell_type": "markdown",
   "id": "2068088b",
   "metadata": {},
   "source": [
    "to create 10 folders use os mkdir which saves too much time"
   ]
  },
  {
   "cell_type": "code",
   "execution_count": 4,
   "id": "5369bb64",
   "metadata": {},
   "outputs": [],
   "source": [
    "for i in range(11):\n",
    "    os.mkdir(f'data/Day{i+1}')"
   ]
  },
  {
   "cell_type": "code",
   "execution_count": 5,
   "id": "fbae13fe",
   "metadata": {},
   "outputs": [
    {
     "ename": "FileExistsError",
     "evalue": "[WinError 183] Cannot create a file when that file already exists: 'data'",
     "output_type": "error",
     "traceback": [
      "\u001b[1;31m---------------------------------------------------------------------------\u001b[0m",
      "\u001b[1;31mFileExistsError\u001b[0m                           Traceback (most recent call last)",
      "Cell \u001b[1;32mIn[5], line 1\u001b[0m\n\u001b[1;32m----> 1\u001b[0m os\u001b[38;5;241m.\u001b[39mmkdir(\u001b[38;5;124m'\u001b[39m\u001b[38;5;124mdata\u001b[39m\u001b[38;5;124m'\u001b[39m)\n",
      "\u001b[1;31mFileExistsError\u001b[0m: [WinError 183] Cannot create a file when that file already exists: 'data'"
     ]
    }
   ],
   "source": [
    "os.mkdir('data')"
   ]
  },
  {
   "cell_type": "markdown",
   "id": "56583ac6",
   "metadata": {},
   "source": [
    "file alreasy exists"
   ]
  },
  {
   "cell_type": "code",
   "execution_count": 6,
   "id": "5d7a1f61",
   "metadata": {},
   "outputs": [],
   "source": [
    "if (not os.path.exists('data/Day10')):\n",
    "    os.mkdir('data/day10')\n",
    "else:\n",
    "    os.mkdir('data/day12')"
   ]
  },
  {
   "cell_type": "markdown",
   "id": "2239ad19",
   "metadata": {},
   "source": [
    "rename of all folders inside data folder"
   ]
  },
  {
   "cell_type": "code",
   "execution_count": 7,
   "id": "0d740c9e",
   "metadata": {},
   "outputs": [],
   "source": [
    "for i in range(11):\n",
    "    os.rename(f'data/Day{i+1}',f'data/Tutorial{i+1}')"
   ]
  },
  {
   "cell_type": "markdown",
   "id": "d6e81665",
   "metadata": {},
   "source": [
    "print all folders"
   ]
  },
  {
   "cell_type": "code",
   "execution_count": 9,
   "id": "8bcc043e",
   "metadata": {},
   "outputs": [
    {
     "name": "stdout",
     "output_type": "stream",
     "text": [
      "['day12', 'Tutorial1', 'Tutorial10', 'Tutorial11', 'Tutorial2', 'Tutorial3', 'Tutorial4', 'Tutorial5', 'Tutorial6', 'Tutorial7', 'Tutorial8', 'Tutorial9']\n"
     ]
    }
   ],
   "source": [
    "folders=os.listdir('data')\n",
    "print(folders)"
   ]
  },
  {
   "cell_type": "code",
   "execution_count": 10,
   "id": "d431a326",
   "metadata": {},
   "outputs": [
    {
     "name": "stdout",
     "output_type": "stream",
     "text": [
      "day12\n",
      "Tutorial1\n",
      "Tutorial10\n",
      "Tutorial11\n",
      "Tutorial2\n",
      "Tutorial3\n",
      "Tutorial4\n",
      "Tutorial5\n",
      "Tutorial6\n",
      "Tutorial7\n",
      "Tutorial8\n",
      "Tutorial9\n"
     ]
    }
   ],
   "source": [
    "for folder in folders:\n",
    "    print(folder)"
   ]
  },
  {
   "cell_type": "code",
   "execution_count": 12,
   "id": "981b1c63",
   "metadata": {},
   "outputs": [
    {
     "name": "stdout",
     "output_type": "stream",
     "text": [
      "day12\n",
      "[]\n",
      "Tutorial1\n",
      "[]\n",
      "Tutorial10\n",
      "[]\n",
      "Tutorial11\n",
      "[]\n",
      "Tutorial2\n",
      "[]\n",
      "Tutorial3\n",
      "[]\n",
      "Tutorial4\n",
      "[]\n",
      "Tutorial5\n",
      "[]\n",
      "Tutorial6\n",
      "[]\n",
      "Tutorial7\n",
      "[]\n",
      "Tutorial8\n",
      "[]\n",
      "Tutorial9\n",
      "[]\n"
     ]
    }
   ],
   "source": [
    " for folder in folders:\n",
    "        print(folder)\n",
    "        print(os.listdir(f'data/{folder}'))"
   ]
  },
  {
   "cell_type": "code",
   "execution_count": 14,
   "id": "de400d25",
   "metadata": {},
   "outputs": [
    {
     "name": "stdout",
     "output_type": "stream",
     "text": [
      "C:\\Users\\HP\\OneDrive\\Desktop\\Backup\\100 days\n"
     ]
    }
   ],
   "source": [
    " print(os.getcwd())"
   ]
  },
  {
   "cell_type": "code",
   "execution_count": null,
   "id": "31267ca4",
   "metadata": {},
   "outputs": [],
   "source": []
  }
 ],
 "metadata": {
  "kernelspec": {
   "display_name": "Python 3 (ipykernel)",
   "language": "python",
   "name": "python3"
  },
  "language_info": {
   "codemirror_mode": {
    "name": "ipython",
    "version": 3
   },
   "file_extension": ".py",
   "mimetype": "text/x-python",
   "name": "python",
   "nbconvert_exporter": "python",
   "pygments_lexer": "ipython3",
   "version": "3.11.5"
  }
 },
 "nbformat": 4,
 "nbformat_minor": 5
}
