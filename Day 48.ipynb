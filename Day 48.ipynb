{
 "cells": [
  {
   "cell_type": "markdown",
   "id": "e27cd698",
   "metadata": {},
   "source": [
    "# Day 48\n",
    "## local and Global Variable"
   ]
  },
  {
   "cell_type": "code",
   "execution_count": 1,
   "id": "4e095e78",
   "metadata": {},
   "outputs": [
    {
     "name": "stdout",
     "output_type": "stream",
     "text": [
      "4\n"
     ]
    }
   ],
   "source": [
    "x=4\n",
    "print(x)"
   ]
  },
  {
   "cell_type": "code",
   "execution_count": 2,
   "id": "25109dc1",
   "metadata": {},
   "outputs": [
    {
     "name": "stdout",
     "output_type": "stream",
     "text": [
      "local x is 5\n",
      "global x is 4\n"
     ]
    }
   ],
   "source": [
    "def hello():\n",
    "    x=5\n",
    "#     print(x)\n",
    "    print(f'local x is {x}')\n",
    "hello()\n",
    "print(f'global x is {x}')"
   ]
  },
  {
   "cell_type": "code",
   "execution_count": 3,
   "id": "c19d0657",
   "metadata": {},
   "outputs": [
    {
     "name": "stdout",
     "output_type": "stream",
     "text": [
      "inside z is 10\n",
      "inside y is 15\n",
      "outside z is 4\n",
      "outsude y is 15\n"
     ]
    }
   ],
   "source": [
    "y=10\n",
    "z=4\n",
    "def fun():\n",
    "    global y\n",
    "    y=15\n",
    "    z=10\n",
    "    print(f'inside z is {z}')\n",
    "    print(f'inside y is {y}')\n",
    "fun()\n",
    "print(f'outside z is {z}')\n",
    "print(f'outsude y is {y}')"
   ]
  },
  {
   "cell_type": "code",
   "execution_count": null,
   "id": "7a06e517",
   "metadata": {},
   "outputs": [],
   "source": []
  }
 ],
 "metadata": {
  "kernelspec": {
   "display_name": "Python 3 (ipykernel)",
   "language": "python",
   "name": "python3"
  },
  "language_info": {
   "codemirror_mode": {
    "name": "ipython",
    "version": 3
   },
   "file_extension": ".py",
   "mimetype": "text/x-python",
   "name": "python",
   "nbconvert_exporter": "python",
   "pygments_lexer": "ipython3",
   "version": "3.11.5"
  }
 },
 "nbformat": 4,
 "nbformat_minor": 5
}
