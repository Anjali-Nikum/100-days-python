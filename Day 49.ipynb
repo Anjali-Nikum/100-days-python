{
 "cells": [
  {
   "cell_type": "markdown",
   "id": "b0f02904",
   "metadata": {},
   "source": [
    "# Day 49\n",
    "## File IO"
   ]
  },
  {
   "cell_type": "markdown",
   "id": "786373b1",
   "metadata": {},
   "source": [
    "Python provides several ways to manipulate files. Today, we will discuss how to handle files in Python."
   ]
  },
  {
   "cell_type": "markdown",
   "id": "956acee7",
   "metadata": {},
   "source": [
    "##### Opening a File\n",
    "Before we can perform any operations on a file, we must first open it. Python provides the open() function to open a file. It takes two arguments: the name of the file and the mode in which the file should be opened. The mode can be 'r' for reading, 'w' for writing, or 'a' for appending."
   ]
  },
  {
   "cell_type": "code",
   "execution_count": 1,
   "id": "1efcf06c",
   "metadata": {},
   "outputs": [],
   "source": [
    "f=open('myfile.txt','r')"
   ]
  },
  {
   "cell_type": "code",
   "execution_count": 2,
   "id": "03e219c5",
   "metadata": {},
   "outputs": [
    {
     "name": "stdout",
     "output_type": "stream",
     "text": [
      "<_io.TextIOWrapper name='myfile.txt' mode='r' encoding='cp1252'>\n"
     ]
    }
   ],
   "source": [
    "print(f)"
   ]
  },
  {
   "cell_type": "code",
   "execution_count": 3,
   "id": "b00e1071",
   "metadata": {},
   "outputs": [
    {
     "name": "stdout",
     "output_type": "stream",
     "text": [
      "\n"
     ]
    }
   ],
   "source": [
    "text=f.read()\n",
    "print(text)"
   ]
  },
  {
   "cell_type": "code",
   "execution_count": 4,
   "id": "e46b957f",
   "metadata": {},
   "outputs": [
    {
     "ename": "UnsupportedOperation",
     "evalue": "not readable",
     "output_type": "error",
     "traceback": [
      "\u001b[1;31m---------------------------------------------------------------------------\u001b[0m",
      "\u001b[1;31mUnsupportedOperation\u001b[0m                      Traceback (most recent call last)",
      "Cell \u001b[1;32mIn[4], line 2\u001b[0m\n\u001b[0;32m      1\u001b[0m file\u001b[38;5;241m=\u001b[39m\u001b[38;5;28mopen\u001b[39m(\u001b[38;5;124m'\u001b[39m\u001b[38;5;124mmyfile.txt\u001b[39m\u001b[38;5;124m'\u001b[39m,\u001b[38;5;124m'\u001b[39m\u001b[38;5;124mw\u001b[39m\u001b[38;5;124m'\u001b[39m)\n\u001b[1;32m----> 2\u001b[0m text\u001b[38;5;241m=\u001b[39mfile\u001b[38;5;241m.\u001b[39mread()\n",
      "\u001b[1;31mUnsupportedOperation\u001b[0m: not readable"
     ]
    }
   ],
   "source": [
    "file=open('myfile.txt','w')\n",
    "text=file.read()"
   ]
  },
  {
   "cell_type": "markdown",
   "id": "8ae4858b",
   "metadata": {},
   "source": [
    "Creat file name of myfile2.txt with open"
   ]
  },
  {
   "cell_type": "code",
   "execution_count": 5,
   "id": "c56c8904",
   "metadata": {},
   "outputs": [],
   "source": [
    "file=open('myfile2.txt','w')"
   ]
  },
  {
   "cell_type": "markdown",
   "id": "a4181d50",
   "metadata": {},
   "source": [
    "#### Modes in file\n",
    "There are various modes in which we can open files.\n",
    "\n",
    "    read (r): This mode opens the file for reading only and gives an error if the file does not exist. This is the default mode if no mode is passed as a parameter.\n",
    "\n",
    "    write (w): This mode opens the file for writing only and creates a new file if the file does not exist.\n",
    "\n",
    "    append (a): This mode opens the file for appending only and creates a new file if the file does not exist.\n",
    "\n",
    "    create (x): This mode creates a file and gives an error if the file already exists.\n",
    "\n",
    "    text (t): Apart from these modes we also need to specify how the file must be handled. t mode is used to handle text files. t refers to the text mode. There is no difference between r and rt or w and wt since text mode is the default. The default mode is 'r' (open for reading text, synonym of 'rt' ).\n",
    "\n",
    "    binary (b): used to handle binary files (images, pdfs, etc)."
   ]
  },
  {
   "cell_type": "markdown",
   "id": "76bc5556",
   "metadata": {},
   "source": [
    "### Reading from a File"
   ]
  },
  {
   "cell_type": "code",
   "execution_count": 7,
   "id": "ebedafae",
   "metadata": {},
   "outputs": [
    {
     "name": "stdout",
     "output_type": "stream",
     "text": [
      "My name is Rohan\n"
     ]
    }
   ],
   "source": [
    "f=open('myfile.txt','r')\n",
    "content=f.read()\n",
    "print(content)"
   ]
  },
  {
   "cell_type": "code",
   "execution_count": 8,
   "id": "4304c85b",
   "metadata": {},
   "outputs": [],
   "source": [
    "f.close()"
   ]
  },
  {
   "cell_type": "markdown",
   "id": "88bc5cfe",
   "metadata": {},
   "source": [
    "### Writing to a File"
   ]
  },
  {
   "cell_type": "code",
   "execution_count": 9,
   "id": "033c6710",
   "metadata": {},
   "outputs": [],
   "source": [
    "f=open('myfile2.txt','w')\n",
    "f.write('MY college name is Chameli Devi Group of Institutions')\n",
    "f.close()"
   ]
  },
  {
   "cell_type": "markdown",
   "id": "8f7c635a",
   "metadata": {},
   "source": [
    "### Closing a File\n",
    "    It is important to close a file after you are done with it. This releases the resources used by the file and allows other programs to access it.\n",
    "\n",
    "To close a file, you can use the close() method."
   ]
  },
  {
   "cell_type": "markdown",
   "id": "a2659a3b",
   "metadata": {},
   "source": [
    "### Append in File\n",
    "n time text append for n time run"
   ]
  },
  {
   "cell_type": "code",
   "execution_count": 11,
   "id": "d381719f",
   "metadata": {},
   "outputs": [],
   "source": [
    "f=open('myfile2.txt','a')\n",
    "f.write('Rohan Bhati ! ')\n",
    "f.close()"
   ]
  },
  {
   "cell_type": "markdown",
   "id": "c80425d4",
   "metadata": {},
   "source": [
    "### The 'with' statement\n",
    "Alternatively, you can use the with statement to automatically close the file after you are done with it."
   ]
  },
  {
   "cell_type": "code",
   "execution_count": 13,
   "id": "bff60b88",
   "metadata": {},
   "outputs": [],
   "source": [
    "f=open('myfile3.txt','w')\n",
    "f.close()"
   ]
  },
  {
   "cell_type": "code",
   "execution_count": null,
   "id": "31e1ce11",
   "metadata": {},
   "outputs": [],
   "source": [
    "with open('myfile3.txt','a') as f:\n",
    "    f.write('Hi I ')"
   ]
  }
 ],
 "metadata": {
  "kernelspec": {
   "display_name": "Python 3 (ipykernel)",
   "language": "python",
   "name": "python3"
  },
  "language_info": {
   "codemirror_mode": {
    "name": "ipython",
    "version": 3
   },
   "file_extension": ".py",
   "mimetype": "text/x-python",
   "name": "python",
   "nbconvert_exporter": "python",
   "pygments_lexer": "ipython3",
   "version": "3.11.5"
  }
 },
 "nbformat": 4,
 "nbformat_minor": 5
}
