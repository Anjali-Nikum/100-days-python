{
 "cells": [
  {
   "cell_type": "markdown",
   "id": "103f688a",
   "metadata": {},
   "source": [
    "# Day 50\n",
    "## read(), readlines() and other methods"
   ]
  },
  {
   "cell_type": "markdown",
   "id": "15a06196",
   "metadata": {},
   "source": [
    "### readlines() method\n",
    "The readline() method reads a single line from the file. If we want to read multiple lines, we can use a loop."
   ]
  },
  {
   "cell_type": "code",
   "execution_count": 2,
   "id": "74ce86b8",
   "metadata": {},
   "outputs": [
    {
     "name": "stdout",
     "output_type": "stream",
     "text": [
      "Python is Great\n",
      "\n",
      "Machine Learning\n",
      "\n",
      "Data Science\n",
      "\n",
      "Deep Learning\n",
      "\n"
     ]
    }
   ],
   "source": [
    "f=open('tut50.txt','r')\n",
    "while True:\n",
    "    line=f.readline()\n",
    "    if not line:\n",
    "        break\n",
    "    print(line)"
   ]
  },
  {
   "cell_type": "code",
   "execution_count": 3,
   "id": "1deaca05",
   "metadata": {},
   "outputs": [],
   "source": [
    "f.close()"
   ]
  },
  {
   "cell_type": "code",
   "execution_count": 4,
   "id": "733e7351",
   "metadata": {},
   "outputs": [
    {
     "name": "stdout",
     "output_type": "stream",
     "text": [
      "Marks of student 1 in Data Science is 56\n",
      "Marks of student 1 in Machine Learning is 45\n",
      "Marks of student 1 in Deep Learning is 67\n",
      "\n",
      "Marks of student 2 in Data Science is 12\n",
      "Marks of student 2 in Machine Learning is 34\n",
      "Marks of student 2 in Deep Learning is 63\n",
      "\n",
      "Marks of student 3 in Data Science is 123\n",
      "Marks of student 3 in Machine Learning is 64\n",
      "Marks of student 3 in Deep Learning is 23\n"
     ]
    }
   ],
   "source": [
    "file=open('tutorial50.txt','r')\n",
    "i=0\n",
    "while True:\n",
    "    i+=1\n",
    "    line=file.readline()\n",
    "    if not line:\n",
    "        break\n",
    "    m1=line.split(',')[0]\n",
    "    m2=line.split(',')[1]\n",
    "    m3=line.split(',')[2]\n",
    "    print(f'Marks of student {i} in Data Science is {m1}')\n",
    "    print(f'Marks of student {i} in Machine Learning is {m2}')\n",
    "    print(f'Marks of student {i} in Deep Learning is {m3}')"
   ]
  },
  {
   "cell_type": "markdown",
   "id": "5e6a7565",
   "metadata": {},
   "source": [
    "It print marks as a string"
   ]
  },
  {
   "cell_type": "code",
   "execution_count": 7,
   "id": "8ffdda70",
   "metadata": {},
   "outputs": [
    {
     "name": "stdout",
     "output_type": "stream",
     "text": [
      "Marks of student 1 in Data Science is 5656\n",
      "Marks of student 1 in Machine Learning is 4545\n",
      "Marks of student 1 in Deep Learning is 67\n",
      "67\n",
      "\n",
      "Marks of student 2 in Data Science is 1212\n",
      "Marks of student 2 in Machine Learning is 3434\n",
      "Marks of student 2 in Deep Learning is 63\n",
      "63\n",
      "\n",
      "Marks of student 3 in Data Science is 123123\n",
      "Marks of student 3 in Machine Learning is 6464\n",
      "Marks of student 3 in Deep Learning is 2323\n"
     ]
    }
   ],
   "source": [
    "file=open('tutorial50.txt','r')\n",
    "i=0\n",
    "while True:\n",
    "    i+=1\n",
    "    line=file.readline()\n",
    "    if not line:\n",
    "        break\n",
    "    m1=line.split(',')[0]\n",
    "    m2=line.split(',')[1]\n",
    "    m3=line.split(',')[2]\n",
    "    print(f'Marks of student {i} in Data Science is {m1*2}')\n",
    "    print(f'Marks of student {i} in Machine Learning is {m2*2}')\n",
    "    print(f'Marks of student {i} in Deep Learning is {m3*2}')"
   ]
  },
  {
   "cell_type": "markdown",
   "id": "c40aca67",
   "metadata": {},
   "source": [
    "so typecast it"
   ]
  },
  {
   "cell_type": "code",
   "execution_count": 8,
   "id": "7fcf9f87",
   "metadata": {},
   "outputs": [
    {
     "name": "stdout",
     "output_type": "stream",
     "text": [
      "Marks of student 1 in Data Science is 112\n",
      "Marks of student 1 in Machine Learning is 90\n",
      "Marks of student 1 in Deep Learning is 134\n",
      "Marks of student 2 in Data Science is 24\n",
      "Marks of student 2 in Machine Learning is 68\n",
      "Marks of student 2 in Deep Learning is 126\n",
      "Marks of student 3 in Data Science is 246\n",
      "Marks of student 3 in Machine Learning is 128\n",
      "Marks of student 3 in Deep Learning is 46\n"
     ]
    }
   ],
   "source": [
    "file=open('tutorial50.txt','r')\n",
    "i=0\n",
    "while True:\n",
    "    i+=1\n",
    "    line=file.readline()\n",
    "    if not line:\n",
    "        break\n",
    "    m1=int(line.split(',')[0])\n",
    "    m2=int(line.split(',')[1])\n",
    "    m3=int(line.split(',')[2])\n",
    "    print(f'Marks of student {i} in Data Science is {m1*2}')\n",
    "    print(f'Marks of student {i} in Machine Learning is {m2*2}')\n",
    "    print(f'Marks of student {i} in Deep Learning is {m3*2}')"
   ]
  },
  {
   "cell_type": "markdown",
   "id": "458ecacc",
   "metadata": {},
   "source": [
    "### writelines() method\n",
    "The writelines() method in Python writes a sequence of strings to a file. The sequence can be any iterable object, such as a list or a tuple."
   ]
  },
  {
   "cell_type": "code",
   "execution_count": 11,
   "id": "9c9d35af",
   "metadata": {},
   "outputs": [],
   "source": [
    "f=open('tut_2_50.txt','w')"
   ]
  },
  {
   "cell_type": "code",
   "execution_count": 12,
   "id": "8ec7af7e",
   "metadata": {},
   "outputs": [],
   "source": [
    "lines=['line1\\n','line2\\n','line3\\n','line4\\n']\n",
    "f.writelines(lines)"
   ]
  },
  {
   "cell_type": "code",
   "execution_count": 13,
   "id": "86a28612",
   "metadata": {},
   "outputs": [],
   "source": [
    "f.close()"
   ]
  },
  {
   "cell_type": "code",
   "execution_count": 18,
   "id": "041b7c02",
   "metadata": {},
   "outputs": [
    {
     "name": "stdout",
     "output_type": "stream",
     "text": [
      "line1\n",
      "\n",
      "line2\n",
      "\n",
      "line3\n",
      "\n",
      "line4\n",
      "\n"
     ]
    }
   ],
   "source": [
    "f=open('tut_2_50.txt','r')\n",
    "while True:\n",
    "    line=f.readline()\n",
    "    if not line:\n",
    "        break\n",
    "    print(line)"
   ]
  },
  {
   "cell_type": "code",
   "execution_count": null,
   "id": "d1ff1c9e",
   "metadata": {},
   "outputs": [],
   "source": []
  }
 ],
 "metadata": {
  "kernelspec": {
   "display_name": "Python 3 (ipykernel)",
   "language": "python",
   "name": "python3"
  },
  "language_info": {
   "codemirror_mode": {
    "name": "ipython",
    "version": 3
   },
   "file_extension": ".py",
   "mimetype": "text/x-python",
   "name": "python",
   "nbconvert_exporter": "python",
   "pygments_lexer": "ipython3",
   "version": "3.11.5"
  }
 },
 "nbformat": 4,
 "nbformat_minor": 5
}
