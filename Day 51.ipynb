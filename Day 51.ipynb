{
 "cells": [
  {
   "cell_type": "markdown",
   "id": "a02e5b55",
   "metadata": {},
   "source": [
    "# Day 51\n",
    "## seek() and tell()\n",
    "In Python, the seek() and tell() functions are used to work with file objects and their positions within a file. These functions are part of the built-in io module, which provides a consistent interface for reading and writing to various file-like objects, such as files, pipes, and in-memory buffers."
   ]
  },
  {
   "cell_type": "markdown",
   "id": "6e9c1da1",
   "metadata": {},
   "source": [
    "### seek() function\n",
    "The seek() function allows you to move the current position within a file to a specific point. The position is specified in bytes, and you can move either forward or backward from the current position."
   ]
  },
  {
   "cell_type": "code",
   "execution_count": 1,
   "id": "5519e066",
   "metadata": {},
   "outputs": [
    {
     "name": "stdout",
     "output_type": "stream",
     "text": [
      "<class '_io.TextIOWrapper'>\n",
      "Rohan Bhati\n"
     ]
    }
   ],
   "source": [
    "with open('tut_51.txt','r') as f:\n",
    "    print(type(f))\n",
    "    f.seek(17)\n",
    "    data=f.read(11)\n",
    "    print(data)"
   ]
  },
  {
   "cell_type": "markdown",
   "id": "83fd8b23",
   "metadata": {},
   "source": [
    "### tell() function\n",
    "The tell() function returns the current position within the file, in bytes. This can be useful for keeping track of your location within the file or for seeking to a specific position relative to the current position."
   ]
  },
  {
   "cell_type": "code",
   "execution_count": 2,
   "id": "bf9aedd0",
   "metadata": {},
   "outputs": [
    {
     "name": "stdout",
     "output_type": "stream",
     "text": [
      "<class '_io.TextIOWrapper'>\n",
      "17\n",
      "Rohan Bhati\n"
     ]
    }
   ],
   "source": [
    "with open('tut_51.txt','r') as f:\n",
    "    print(type(f))\n",
    "    f.seek(17)\n",
    "    print(f.tell())\n",
    "    data=f.read(11)\n",
    "    print(data)"
   ]
  },
  {
   "cell_type": "markdown",
   "id": "068dc31b",
   "metadata": {},
   "source": [
    "### truncate() function\n",
    "When you open a file in Python using the open function, you can specify the mode in which you want to open the file. If you specify the mode as 'w' or 'a', the file is opened in write mode and you can write to the file. However, if you want to truncate the file to a specific size, you can use the truncate function."
   ]
  },
  {
   "cell_type": "code",
   "execution_count": 3,
   "id": "50bf656e",
   "metadata": {},
   "outputs": [],
   "source": [
    "with open('tutorial_51.txt','w') as f:\n",
    "    f.write('Machine Learning')\n",
    "    f.truncate(7)"
   ]
  },
  {
   "cell_type": "code",
   "execution_count": null,
   "id": "52d4169d",
   "metadata": {},
   "outputs": [],
   "source": []
  }
 ],
 "metadata": {
  "kernelspec": {
   "display_name": "Python 3 (ipykernel)",
   "language": "python",
   "name": "python3"
  },
  "language_info": {
   "codemirror_mode": {
    "name": "ipython",
    "version": 3
   },
   "file_extension": ".py",
   "mimetype": "text/x-python",
   "name": "python",
   "nbconvert_exporter": "python",
   "pygments_lexer": "ipython3",
   "version": "3.11.5"
  }
 },
 "nbformat": 4,
 "nbformat_minor": 5
}
