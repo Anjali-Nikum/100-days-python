{
 "cells": [
  {
   "cell_type": "markdown",
   "id": "b9ccc9b1",
   "metadata": {},
   "source": [
    "# Day 52\n",
    "## Lambda functions\n",
    "    In Python, a lambda function is a small anonymous function without a name. It is defined using the lambda keyword and has the following syntax:\n",
    "lambda arguments: expression"
   ]
  },
  {
   "cell_type": "markdown",
   "id": "58579651",
   "metadata": {},
   "source": [
    "Lambda functions are often used in situations where a small function is required for a short period of time. They are commonly used as arguments to higher-order functions, such as map, filter, and reduce."
   ]
  },
  {
   "cell_type": "code",
   "execution_count": 1,
   "id": "21e2eab1",
   "metadata": {},
   "outputs": [
    {
     "name": "stdout",
     "output_type": "stream",
     "text": [
      "10\n"
     ]
    }
   ],
   "source": [
    "def double(x):\n",
    "    return x*2\n",
    "print(double(5))"
   ]
  },
  {
   "cell_type": "code",
   "execution_count": 2,
   "id": "09b9827a",
   "metadata": {},
   "outputs": [
    {
     "name": "stdout",
     "output_type": "stream",
     "text": [
      "20\n"
     ]
    }
   ],
   "source": [
    "double = lambda x:x*2\n",
    "print(double(10))"
   ]
  },
  {
   "cell_type": "code",
   "execution_count": 3,
   "id": "742d1934",
   "metadata": {},
   "outputs": [
    {
     "name": "stdout",
     "output_type": "stream",
     "text": [
      "125\n"
     ]
    }
   ],
   "source": [
    "cube = lambda x:x*x*x\n",
    "print(cube(5))"
   ]
  },
  {
   "cell_type": "markdown",
   "id": "03cacb19",
   "metadata": {},
   "source": [
    "The above lambda function has the same functionality as the double function defined earlier. However, the lambda function is anonymous, as it does not have a name.\n",
    "\n",
    "Lambda functions can have multiple arguments, just like regular functions"
   ]
  },
  {
   "cell_type": "code",
   "execution_count": 5,
   "id": "c00c48d3",
   "metadata": {},
   "outputs": [
    {
     "name": "stdout",
     "output_type": "stream",
     "text": [
      "7\n"
     ]
    }
   ],
   "source": [
    "sum=lambda x,y:x+y\n",
    "print(sum(3,4))"
   ]
  },
  {
   "cell_type": "code",
   "execution_count": 6,
   "id": "43164427",
   "metadata": {},
   "outputs": [
    {
     "name": "stdout",
     "output_type": "stream",
     "text": [
      "8.0\n"
     ]
    }
   ],
   "source": [
    "avg=lambda x,y,z:(x+y+z)/2\n",
    "print(avg(3,5,8))"
   ]
  },
  {
   "cell_type": "markdown",
   "id": "8071a601",
   "metadata": {},
   "source": [
    "we can also pass function to function"
   ]
  },
  {
   "cell_type": "code",
   "execution_count": 7,
   "id": "0cf3bf01",
   "metadata": {},
   "outputs": [
    {
     "name": "stdout",
     "output_type": "stream",
     "text": [
      "1006\n"
     ]
    }
   ],
   "source": [
    "def apply(fx,value):\n",
    "    return 6+fx(value)\n",
    "print(apply(cube,10))"
   ]
  },
  {
   "cell_type": "code",
   "execution_count": 8,
   "id": "a9e44f04",
   "metadata": {},
   "outputs": [
    {
     "name": "stdout",
     "output_type": "stream",
     "text": [
      "14\n"
     ]
    }
   ],
   "source": [
    "print(apply(lambda x:x*x*x,2))"
   ]
  },
  {
   "cell_type": "markdown",
   "id": "964d293d",
   "metadata": {},
   "source": [
    "Lambda functions can also include multiple statements, but they are limited to a single expression."
   ]
  },
  {
   "cell_type": "code",
   "execution_count": 9,
   "id": "5c0e737c",
   "metadata": {},
   "outputs": [
    {
     "name": "stdout",
     "output_type": "stream",
     "text": [
      "5 * 3 = 15\n",
      "None\n"
     ]
    }
   ],
   "source": [
    "func=lambda x, y: print(f'{x} * {y} = {x * y}')\n",
    "print(func(5,3))"
   ]
  },
  {
   "cell_type": "markdown",
   "id": "51722a81",
   "metadata": {},
   "source": [
    " the above example, the lambda function includes a print statement, but it is still limited to a single expression.\n",
    "\n",
    "Lambda functions are often used in conjunction with higher-order functions, such as map, filter, and reduce which we will look into later."
   ]
  },
  {
   "cell_type": "code",
   "execution_count": null,
   "id": "7424817d",
   "metadata": {},
   "outputs": [],
   "source": []
  }
 ],
 "metadata": {
  "kernelspec": {
   "display_name": "Python 3 (ipykernel)",
   "language": "python",
   "name": "python3"
  },
  "language_info": {
   "codemirror_mode": {
    "name": "ipython",
    "version": 3
   },
   "file_extension": ".py",
   "mimetype": "text/x-python",
   "name": "python",
   "nbconvert_exporter": "python",
   "pygments_lexer": "ipython3",
   "version": "3.11.5"
  }
 },
 "nbformat": 4,
 "nbformat_minor": 5
}
