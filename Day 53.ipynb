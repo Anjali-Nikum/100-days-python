{
 "cells": [
  {
   "cell_type": "markdown",
   "id": "eff252d7",
   "metadata": {},
   "source": [
    "# Day 53\n",
    "## Map, Filter and Reduce\n",
    "In Python, the map, filter, and reduce functions are built-in functions that allow you to apply a function to a sequence of elements and return a new sequence. These functions are known as higher-order functions, as they take other functions as arguments."
   ]
  },
  {
   "cell_type": "code",
   "execution_count": 1,
   "id": "294e74dd",
   "metadata": {},
   "outputs": [
    {
     "name": "stdout",
     "output_type": "stream",
     "text": [
      "8\n"
     ]
    }
   ],
   "source": [
    "def cube(x):\n",
    "    return x*x*x\n",
    "print(cube(2))"
   ]
  },
  {
   "cell_type": "code",
   "execution_count": 2,
   "id": "56d46a03",
   "metadata": {},
   "outputs": [
    {
     "name": "stdout",
     "output_type": "stream",
     "text": [
      "[1, 8, 27, 64, 125]\n"
     ]
    }
   ],
   "source": [
    "l=[1,2,3,4,5]\n",
    "newl=[]\n",
    "for item in l:\n",
    "    newl.append(cube(item))\n",
    "print(newl)"
   ]
  },
  {
   "cell_type": "markdown",
   "id": "3bf60c07",
   "metadata": {},
   "source": [
    "we convert it in short with map"
   ]
  },
  {
   "cell_type": "markdown",
   "id": "3a98e237",
   "metadata": {},
   "source": [
    "### map\n",
    "    The map function applies a function to each element in a sequence and returns a new sequence containing the transformed elements. The map function has the following syntax:\n",
    "    map(function, iterable)\n",
    "    The function argument is a function that is applied to each element in the iterable argument. The iterable argument can be a list, tuple, or any other iterable object."
   ]
  },
  {
   "cell_type": "code",
   "execution_count": 3,
   "id": "1a849529",
   "metadata": {},
   "outputs": [
    {
     "name": "stdout",
     "output_type": "stream",
     "text": [
      "<map object at 0x0000017607738F10>\n",
      "[1, 8, 27, 64, 125, 216, 343, 512, 729, 1000]\n"
     ]
    }
   ],
   "source": [
    "numbers=[1,2,3,4,5,6,7,8,9,10]\n",
    "cube_numbers=map(cube,numbers)\n",
    "print(cube_numbers)\n",
    "print(list(cube_numbers))"
   ]
  },
  {
   "cell_type": "markdown",
   "id": "a2987d4b",
   "metadata": {},
   "source": [
    "### filter\n",
    "    The filter function filters a sequence of elements based on a given predicate (a function that returns a boolean value) and returns a new sequence containing only the elements that meet the predicate. The filter function has the following syntax:\n",
    "    filter(predicate, iterable)\n",
    "    The predicate argument is a function that returns a boolean value and is applied to each element in the iterable argument. The iterable argument can be a list, tuple, or any other iterable object."
   ]
  },
  {
   "cell_type": "code",
   "execution_count": 5,
   "id": "9703d7ad",
   "metadata": {},
   "outputs": [
    {
     "name": "stdout",
     "output_type": "stream",
     "text": [
      "<filter object at 0x00000176078CA5C0>\n",
      "[6, 7, 9]\n"
     ]
    }
   ],
   "source": [
    "def filter_function(a):\n",
    "    return a>4\n",
    "nums=[4,6,2,7,3,9]\n",
    "new_nums=filter(filter_function,nums)\n",
    "print(new_nums)\n",
    "print(list(new_nums))"
   ]
  },
  {
   "cell_type": "markdown",
   "id": "628011a9",
   "metadata": {},
   "source": [
    "find square using lambda and map"
   ]
  },
  {
   "cell_type": "code",
   "execution_count": 6,
   "id": "24dbedea",
   "metadata": {},
   "outputs": [
    {
     "name": "stdout",
     "output_type": "stream",
     "text": [
      "[1, 4, 9, 16, 25, 36]\n"
     ]
    }
   ],
   "source": [
    "n=[1,2,3,4,5,6]\n",
    "square=list(map(lambda x:x*x,n))\n",
    "print(square)"
   ]
  },
  {
   "cell_type": "code",
   "execution_count": 7,
   "id": "7a34dafe",
   "metadata": {},
   "outputs": [
    {
     "name": "stdout",
     "output_type": "stream",
     "text": [
      "even numbers are [56, 8, 26, 64]\n",
      "odd numbers are [41, 11, 89, 5]\n"
     ]
    }
   ],
   "source": [
    "all_nums=[56,8,26,41,64,11,89,5]\n",
    "even=list(filter(lambda x: x%2==0,all_nums))\n",
    "odd=list(filter(lambda x: x%2!=0,all_nums))\n",
    "print(f'even numbers are {even}')\n",
    "print(f'odd numbers are {odd}')"
   ]
  },
  {
   "cell_type": "markdown",
   "id": "e5da64a8",
   "metadata": {},
   "source": [
    "### reduce\n",
    "    The filter function filters a sequence of elements based on a given predicate (a function that returns a boolean value) and returns a new sequence containing only the elements that meet the predicate. The filter function has the following syntax:\n",
    "    filter(predicate, iterable)\n",
    "    \n",
    "    The predicate argument is a function that returns a boolean value and is applied to each element in the iterable argument. The iterable argument can be a list, tuple, or any other iterable object."
   ]
  },
  {
   "cell_type": "code",
   "execution_count": 8,
   "id": "c30b0604",
   "metadata": {},
   "outputs": [],
   "source": [
    "from functools import reduce"
   ]
  },
  {
   "cell_type": "code",
   "execution_count": 9,
   "id": "35df1815",
   "metadata": {},
   "outputs": [
    {
     "name": "stdout",
     "output_type": "stream",
     "text": [
      "55\n"
     ]
    }
   ],
   "source": [
    "def mysum(x,y):\n",
    "    return x+y\n",
    "numbers=[1,2,3,4,5,6,7,8,9,10]\n",
    "sum=reduce(mysum,numbers)\n",
    "print(sum)"
   ]
  },
  {
   "cell_type": "markdown",
   "id": "f478d05e",
   "metadata": {},
   "source": [
    "or"
   ]
  },
  {
   "cell_type": "code",
   "execution_count": null,
   "id": "a678933d",
   "metadata": {},
   "outputs": [],
   "source": [
    "addition=reduce(lambda x,y:x+y,num)"
   ]
  }
 ],
 "metadata": {
  "kernelspec": {
   "display_name": "Python 3 (ipykernel)",
   "language": "python",
   "name": "python3"
  },
  "language_info": {
   "codemirror_mode": {
    "name": "ipython",
    "version": 3
   },
   "file_extension": ".py",
   "mimetype": "text/x-python",
   "name": "python",
   "nbconvert_exporter": "python",
   "pygments_lexer": "ipython3",
   "version": "3.11.5"
  }
 },
 "nbformat": 4,
 "nbformat_minor": 5
}
