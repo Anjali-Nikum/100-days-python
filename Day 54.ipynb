{
 "cells": [
  {
   "cell_type": "markdown",
   "id": "06ad5a58",
   "metadata": {},
   "source": [
    "# Day 54\n",
    "## is vs ==\n",
    "both are comparison operators"
   ]
  },
  {
   "cell_type": "markdown",
   "id": "62b43d58",
   "metadata": {},
   "source": [
    "##### is -> compare exact location of object in memory \n",
    "#####  == ->compare value"
   ]
  },
  {
   "cell_type": "code",
   "execution_count": 1,
   "id": "e41d057f",
   "metadata": {},
   "outputs": [
    {
     "name": "stdout",
     "output_type": "stream",
     "text": [
      "False\n",
      "False\n"
     ]
    }
   ],
   "source": [
    "a=4\n",
    "b='4'\n",
    "print(a is b) #exact location of object in memor\n",
    "print(a==b) #value"
   ]
  },
  {
   "cell_type": "code",
   "execution_count": 2,
   "id": "e40598c0",
   "metadata": {},
   "outputs": [
    {
     "name": "stdout",
     "output_type": "stream",
     "text": [
      "False\n",
      "True\n"
     ]
    }
   ],
   "source": [
    "l1=[1,2,43]\n",
    "l2=[1,2,43]\n",
    "print(l1 is l2)\n",
    "print(l1==l2)"
   ]
  },
  {
   "cell_type": "code",
   "execution_count": 3,
   "id": "6cf64005",
   "metadata": {},
   "outputs": [
    {
     "name": "stdout",
     "output_type": "stream",
     "text": [
      "True\n",
      "True\n"
     ]
    }
   ],
   "source": [
    "num1=5\n",
    "num2=5\n",
    "print(num1 is num2)\n",
    "print(num1==num2)"
   ]
  },
  {
   "cell_type": "markdown",
   "id": "e0ea948a",
   "metadata": {},
   "source": [
    "both give true because 5 is constant number so same location allocated"
   ]
  },
  {
   "cell_type": "code",
   "execution_count": 4,
   "id": "0111347f",
   "metadata": {},
   "outputs": [
    {
     "name": "stdout",
     "output_type": "stream",
     "text": [
      "True\n",
      "True\n"
     ]
    }
   ],
   "source": [
    "s1='rohan'\n",
    "s2='rohan'\n",
    "print(s1 is s2)\n",
    "print(s1==s2)"
   ]
  },
  {
   "cell_type": "code",
   "execution_count": 6,
   "id": "03c55b25",
   "metadata": {},
   "outputs": [
    {
     "name": "stdout",
     "output_type": "stream",
     "text": [
      "False\n",
      "True\n"
     ]
    }
   ],
   "source": [
    "t1=(1,2,3,4,5,6,7,8,9,10,11,12,13,14,15,16,17,18,19,20)\n",
    "t2=(1,2,3,4,5,6,7,8,9,10,11,12,13,14,15,16,17,18,19,20)\n",
    "print(t1 is t2)\n",
    "print(t1==t2)"
   ]
  },
  {
   "cell_type": "code",
   "execution_count": null,
   "id": "c7dccce1",
   "metadata": {},
   "outputs": [],
   "source": []
  }
 ],
 "metadata": {
  "kernelspec": {
   "display_name": "Python 3 (ipykernel)",
   "language": "python",
   "name": "python3"
  },
  "language_info": {
   "codemirror_mode": {
    "name": "ipython",
    "version": 3
   },
   "file_extension": ".py",
   "mimetype": "text/x-python",
   "name": "python",
   "nbconvert_exporter": "python",
   "pygments_lexer": "ipython3",
   "version": "3.11.5"
  }
 },
 "nbformat": 4,
 "nbformat_minor": 5
}
