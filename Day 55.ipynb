{
 "cells": [
  {
   "cell_type": "markdown",
   "id": "439fecac",
   "metadata": {},
   "source": [
    "# Day 55\n",
    "## Snake Water Gun"
   ]
  },
  {
   "cell_type": "code",
   "execution_count": 1,
   "id": "5e8750f9",
   "metadata": {},
   "outputs": [],
   "source": [
    "#computer =          S   W   G  \n",
    "#player   = S    1   D   W   L\n",
    "#           W    2   L   D   W\n",
    "#           G    3   W   L   D"
   ]
  },
  {
   "cell_type": "code",
   "execution_count": 3,
   "id": "4c58741c",
   "metadata": {},
   "outputs": [
    {
     "name": "stdout",
     "output_type": "stream",
     "text": [
      "Moves\n",
      "_________________________\n",
      "         Snake\n",
      "         Water\n",
      "         Gun\n",
      "_________________________\n",
      "Enter your move : snake\n",
      "Computer choice : Snake\n",
      "Game Draw\n"
     ]
    }
   ],
   "source": [
    "import random\n",
    "options=['Snake','Water','Gun']\n",
    "computer=random.choice(options)\n",
    "\n",
    "ans=[['Game Draw','Winner','Loser'],['Loser','Game Draw','Winner'],['Winner','Loser','Game Draw']]\n",
    "print('''Moves\n",
    "_________________________\n",
    "         Snake\n",
    "         Water\n",
    "         Gun\n",
    "_________________________''')\n",
    "\n",
    "choice=input('Enter your move : ')\n",
    "choice=choice.capitalize()\n",
    "\n",
    "if choice not in options:\n",
    "    print('Invalid Option!')\n",
    "else:\n",
    "    print(f'Computer choice : {computer}')\n",
    "    print(ans[options.index(choice)][options.index(computer)])"
   ]
  },
  {
   "cell_type": "code",
   "execution_count": null,
   "id": "19ba3206",
   "metadata": {},
   "outputs": [],
   "source": []
  }
 ],
 "metadata": {
  "kernelspec": {
   "display_name": "Python 3 (ipykernel)",
   "language": "python",
   "name": "python3"
  },
  "language_info": {
   "codemirror_mode": {
    "name": "ipython",
    "version": 3
   },
   "file_extension": ".py",
   "mimetype": "text/x-python",
   "name": "python",
   "nbconvert_exporter": "python",
   "pygments_lexer": "ipython3",
   "version": "3.11.5"
  }
 },
 "nbformat": 4,
 "nbformat_minor": 5
}
