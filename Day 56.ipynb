{
 "cells": [
  {
   "cell_type": "markdown",
   "id": "33ed9adb",
   "metadata": {},
   "source": [
    "# Day 56\n",
    "## OOPS"
   ]
  },
  {
   "cell_type": "markdown",
   "id": "2bc5d0dd",
   "metadata": {},
   "source": [
    "Introduction to Object-Oriented Programming in Python: In programming languages, mainly there are two approaches that are used to write program or code."
   ]
  },
  {
   "cell_type": "markdown",
   "id": "a32f962f",
   "metadata": {},
   "source": [
    "1). Procedural Programming\n",
    "2). Object-Oriented Programming"
   ]
  },
  {
   "cell_type": "markdown",
   "id": "c3743176",
   "metadata": {},
   "source": [
    "The procedure we are following till now is the “Procedural Programming” approach. So, in this session, we will learn about Object Oriented Programming (OOP). The basic idea of object-oriented programming (OOP) in Python is to use classes and objects to represent real-world concepts and entities."
   ]
  },
  {
   "cell_type": "markdown",
   "id": "c2758ce7",
   "metadata": {},
   "source": [
    "A class is a blueprint or template for creating objects. It defines the properties and methods that an object of that class will have. Properties are the data or state of an object, and methods are the actions or behaviors that an object can perform."
   ]
  },
  {
   "cell_type": "markdown",
   "id": "787b8166",
   "metadata": {},
   "source": [
    "An object is an instance of a class, and it contains its own data and methods. For example, you could create a class called \"Person\" that has properties such as name and age, and methods such as speak() and walk(). Each instance of the Person class would be a unique object with its own name and age, but they would all have the same methods to speak and walk."
   ]
  },
  {
   "cell_type": "markdown",
   "id": "45c234e5",
   "metadata": {},
   "source": [
    "One of the key features of OOP in Python is encapsulation, which means that the internal state of an object is hidden and can only be accessed or modified through the object's methods. This helps to protect the object's data and prevent it from being modified in unexpected ways."
   ]
  },
  {
   "cell_type": "markdown",
   "id": "e45b18bc",
   "metadata": {},
   "source": [
    "Another key feature of OOP in Python is inheritance, which allows new classes to be created that inherit the properties and methods of an existing class. This allows for code reuse and makes it easy to create new classes that have similar functionality to existing classes."
   ]
  },
  {
   "cell_type": "markdown",
   "id": "48915079",
   "metadata": {},
   "source": [
    "Polymorphism is also supported in Python, which means that objects of different classes can be treated as if they were objects of a common class. This allows for greater flexibility in code and makes it easier to write code that can work with multiple types of objects."
   ]
  },
  {
   "cell_type": "markdown",
   "id": "4aab0dd4",
   "metadata": {},
   "source": [
    "In summary, OOP in Python allows developers to model real-world concepts and entities using classes and objects, encapsulate data, reuse code through inheritance, and write more flexible code through polymorphism."
   ]
  },
  {
   "cell_type": "markdown",
   "id": "014f8977",
   "metadata": {},
   "source": [
    "example we have sale data of different users we have to write it multiple times"
   ]
  },
  {
   "cell_type": "code",
   "execution_count": 3,
   "id": "5f3ed80b",
   "metadata": {},
   "outputs": [],
   "source": [
    "#rajiv.sales\n",
    "sales1=6000\n",
    "profit1=2000\n",
    "ad1=1000\n",
    "\n",
    "#vikrant.sales\n",
    "sales2=6000\n",
    "profit2=2000\n",
    "ad2=1000\n",
    "\n",
    "sales3=6000\n",
    "profit3=2000\n",
    "ad3=1000"
   ]
  },
  {
   "cell_type": "markdown",
   "id": "f95c92b9",
   "metadata": {},
   "source": [
    "like gta player has multiple things gun,health etc. mutiple enemies have same things so we can create class for enemies instead of particular enemy"
   ]
  },
  {
   "cell_type": "code",
   "execution_count": 4,
   "id": "729dbca8",
   "metadata": {},
   "outputs": [],
   "source": [
    "#Railway Form --> Class [Blueprint]\n",
    "#rohan -> rohan ki information wala form -> Object [Entity]\n",
    "#tom -> tom ki information wala form -> Object [Entity]\n",
    "#shubham -> shubham ki information wala form -> Object [Entity]"
   ]
  },
  {
   "cell_type": "code",
   "execution_count": null,
   "id": "95c68753",
   "metadata": {},
   "outputs": [],
   "source": [
    "#now i want to change shubham to shubhi\n",
    "#shubham.changeName('Shubhi')"
   ]
  }
 ],
 "metadata": {
  "kernelspec": {
   "display_name": "Python 3 (ipykernel)",
   "language": "python",
   "name": "python3"
  },
  "language_info": {
   "codemirror_mode": {
    "name": "ipython",
    "version": 3
   },
   "file_extension": ".py",
   "mimetype": "text/x-python",
   "name": "python",
   "nbconvert_exporter": "python",
   "pygments_lexer": "ipython3",
   "version": "3.11.5"
  }
 },
 "nbformat": 4,
 "nbformat_minor": 5
}
