{
 "cells": [
  {
   "cell_type": "markdown",
   "id": "9f8762bc",
   "metadata": {},
   "source": [
    "# Day 57\n",
    "## Classes and Objects"
   ]
  },
  {
   "cell_type": "markdown",
   "id": "1f0e2f08",
   "metadata": {},
   "source": [
    "### Class\n",
    "A class is a blueprint or a template for creating objects, providing initial values for state (member variables or attributes), and implementations of behavior (member functions or methods). The user-defined objects are created using the class keyword."
   ]
  },
  {
   "cell_type": "markdown",
   "id": "35b7206d",
   "metadata": {},
   "source": [
    "### Object\n",
    "Object is the instance of the class used to access the properties of the class Now lets create an object of the class."
   ]
  },
  {
   "cell_type": "code",
   "execution_count": 1,
   "id": "9dfb7b3f",
   "metadata": {},
   "outputs": [
    {
     "name": "stdout",
     "output_type": "stream",
     "text": [
      "Rohan\n",
      "Student\n",
      "AD\n",
      "Data After change\n",
      "Prashant\n",
      "Faculty\n",
      "Data Analytics\n"
     ]
    }
   ],
   "source": [
    "class Person:\n",
    "    name='Rohan'\n",
    "    occupation='Student'\n",
    "    branch='AD'\n",
    "a=Person()\n",
    "print(a.name)\n",
    "print(a.occupation)\n",
    "print(a.branch)\n",
    "# I want to change data\n",
    "print('Data After change')\n",
    "a.name='Prashant'\n",
    "a.occupation='Faculty'\n",
    "a.branch='Data Analytics'\n",
    "print(a.name)\n",
    "print(a.occupation)\n",
    "print(a.branch)"
   ]
  },
  {
   "cell_type": "code",
   "execution_count": 2,
   "id": "e6c064dc",
   "metadata": {},
   "outputs": [
    {
     "name": "stdout",
     "output_type": "stream",
     "text": [
      "Name = Rohit\n",
      "Organization = College\n",
      "Organization Name = CDGI\n",
      "Enter name : Avinash\n",
      "Enter organization type : College\n",
      "Enter organization name : Acropolis\n",
      "Avinash is working in College organization and name of organization is Acropolis\n"
     ]
    }
   ],
   "source": [
    "class Student:\n",
    "    name='Rohit'\n",
    "    organization='College'\n",
    "    org_name='CDGI'\n",
    "    def info(self):\n",
    "        print(f'Name = {self.name}\\nOrganization = {self.organization}\\nOrganization Name = {self.org_name}')\n",
    "    def user_enter(self):\n",
    "        self.name=input('Enter name : ')\n",
    "        self.organization=input('Enter organization type : ')\n",
    "        self.org_name=input('Enter organization name : ')\n",
    "        print(f'{self.name} is working in {self.organization} organization and name of organization is {self.org_name}')\n",
    "obj=Student()\n",
    "obj.info()\n",
    "obj.user_enter()"
   ]
  },
  {
   "cell_type": "markdown",
   "id": "5ed253a3",
   "metadata": {},
   "source": [
    "### Self Parameter\n",
    "The self parameter is a reference to the current instance of the class, and is used to access variables that belongs to the class.\n",
    "\n",
    "It must be provided as the extra parameter inside the method definition.\n",
    "\n",
    "Self is not a keyword we can write anything but self is used by all around the world"
   ]
  },
  {
   "cell_type": "code",
   "execution_count": 3,
   "id": "1e338936",
   "metadata": {},
   "outputs": [
    {
     "name": "stdout",
     "output_type": "stream",
     "text": [
      "Sudhanshu study in Sage\n",
      "Sourabh study in Medicaps\n",
      "Abhishek study in CDGI\n"
     ]
    }
   ],
   "source": [
    "class Detail:\n",
    "    name='Abhishek'\n",
    "    college='CDGI'\n",
    "    def information(self):\n",
    "        print(f'{self.name} study in {self.college}')\n",
    "obj1=Detail()\n",
    "obj2=Detail()\n",
    "obj3=Detail()\n",
    "\n",
    "obj1.name='Sudhanshu'\n",
    "obj1.college='Sage'\n",
    "\n",
    "obj2.name='Sourabh'\n",
    "obj2.college='Medicaps'\n",
    "\n",
    "obj1.information()\n",
    "obj2.information()\n",
    "obj3.information()"
   ]
  },
  {
   "cell_type": "code",
   "execution_count": null,
   "id": "e87c5bb9",
   "metadata": {},
   "outputs": [],
   "source": []
  }
 ],
 "metadata": {
  "kernelspec": {
   "display_name": "Python 3 (ipykernel)",
   "language": "python",
   "name": "python3"
  },
  "language_info": {
   "codemirror_mode": {
    "name": "ipython",
    "version": 3
   },
   "file_extension": ".py",
   "mimetype": "text/x-python",
   "name": "python",
   "nbconvert_exporter": "python",
   "pygments_lexer": "ipython3",
   "version": "3.11.5"
  }
 },
 "nbformat": 4,
 "nbformat_minor": 5
}
