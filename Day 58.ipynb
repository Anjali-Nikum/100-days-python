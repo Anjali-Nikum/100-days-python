{
 "cells": [
  {
   "cell_type": "markdown",
   "id": "bde8c5a6",
   "metadata": {},
   "source": [
    "# Day 58\n",
    "## Constructor\n",
    "A constructor is a special method in a class used to create and initialize an object of a class. There are different types of constructors. Constructor is invoked automatically when an object of a class is created."
   ]
  },
  {
   "cell_type": "markdown",
   "id": "775dceee",
   "metadata": {},
   "source": [
    "A constructor is a unique function that gets called automatically when an object is created of a class. The main purpose of a constructor is to initialize or assign values to the data members of that class. It cannot return any value other than None."
   ]
  },
  {
   "cell_type": "markdown",
   "id": "90a542e3",
   "metadata": {},
   "source": [
    "### Default Constructor in Python\n",
    "When the constructor doesn't accept any arguments from the object and has only one argument, self, in the constructor, it is known as a Default constructor."
   ]
  },
  {
   "cell_type": "code",
   "execution_count": 1,
   "id": "86f17d74",
   "metadata": {},
   "outputs": [
    {
     "name": "stdout",
     "output_type": "stream",
     "text": [
      "I am Student\n",
      "I am Student\n",
      "This is function\n"
     ]
    }
   ],
   "source": [
    "class Student:\n",
    "    def __init__(self):\n",
    "        print('I am Student')\n",
    "    def info(self):\n",
    "        print('This is function')\n",
    "obj1=Student()\n",
    "obj2=Student()\n",
    "obj1.info()"
   ]
  },
  {
   "cell_type": "code",
   "execution_count": null,
   "id": "5b100379",
   "metadata": {},
   "outputs": [],
   "source": []
  },
  {
   "cell_type": "markdown",
   "id": "9e64039e",
   "metadata": {},
   "source": [
    "### Parameterized Constructor in Python\n",
    "When the constructor accepts arguments along with self, it is known as parameterized constructor.\n",
    "\n",
    "These arguments can be used inside the class to assign the values to the data members."
   ]
  },
  {
   "cell_type": "code",
   "execution_count": 2,
   "id": "f5443b45",
   "metadata": {},
   "outputs": [
    {
     "name": "stdout",
     "output_type": "stream",
     "text": [
      "Rohan in AD branch\n",
      "Prashant in CS branch\n",
      "Inside Function : Rohan in AD branch\n",
      "Inside Function : Prashant in CS branch\n",
      "name = Rohan\n",
      "branch = AD\n"
     ]
    }
   ],
   "source": [
    "class Detail:\n",
    "    def __init__(self,name,branch):\n",
    "        self.name=name\n",
    "        self.branch=branch\n",
    "        print(f'{self.name} in {self.branch} branch')\n",
    "    def detail(self):\n",
    "        print(f'Inside Function : {self.name} in {self.branch} branch')\n",
    "ob1=Detail('Rohan','AD')\n",
    "ob2=Detail('Prashant','CS')\n",
    "ob1.detail()\n",
    "ob2.detail()\n",
    "print(f'name = {ob1.name}')\n",
    "print(f'branch = {ob1.branch}')"
   ]
  },
  {
   "cell_type": "code",
   "execution_count": 3,
   "id": "db415044",
   "metadata": {},
   "outputs": [
    {
     "ename": "TypeError",
     "evalue": "Person.__init__() takes 2 positional arguments but 3 were given",
     "output_type": "error",
     "traceback": [
      "\u001b[1;31m---------------------------------------------------------------------------\u001b[0m",
      "\u001b[1;31mTypeError\u001b[0m                                 Traceback (most recent call last)",
      "Cell \u001b[1;32mIn[3], line 10\u001b[0m\n\u001b[0;32m      7\u001b[0m         \u001b[38;5;28mself\u001b[39m\u001b[38;5;241m.\u001b[39mname \u001b[38;5;241m=\u001b[39m name\n\u001b[0;32m      8\u001b[0m         \u001b[38;5;28mself\u001b[39m\u001b[38;5;241m.\u001b[39mage \u001b[38;5;241m=\u001b[39m \u001b[38;5;241m0\u001b[39m\n\u001b[1;32m---> 10\u001b[0m person1 \u001b[38;5;241m=\u001b[39m Person(\u001b[38;5;124m\"\u001b[39m\u001b[38;5;124mJohn Doe\u001b[39m\u001b[38;5;124m\"\u001b[39m, \u001b[38;5;241m30\u001b[39m)\n\u001b[0;32m     11\u001b[0m person2 \u001b[38;5;241m=\u001b[39m Person(\u001b[38;5;124m\"\u001b[39m\u001b[38;5;124mJane Doe\u001b[39m\u001b[38;5;124m\"\u001b[39m)\n\u001b[0;32m     13\u001b[0m \u001b[38;5;28mprint\u001b[39m(person1\u001b[38;5;241m.\u001b[39mname)  \u001b[38;5;66;03m# Prints \"John Doe\"\u001b[39;00m\n",
      "\u001b[1;31mTypeError\u001b[0m: Person.__init__() takes 2 positional arguments but 3 were given"
     ]
    }
   ],
   "source": [
    "class Person:\n",
    "    def __init__(self, name, age):\n",
    "        self.name = name\n",
    "        self.age = age\n",
    "\n",
    "    def __init__(self, name):\n",
    "        self.name = name\n",
    "        self.age = 0\n",
    "\n",
    "person1 = Person(\"John Doe\", 30)\n",
    "person2 = Person(\"Jane Doe\")\n",
    "\n",
    "print(person1.name)  # Prints \"John Doe\"\n",
    "print(person2.name)  # Prints \"Jane Doe\"\n",
    "print(person1.age)  # Prints 30\n",
    "print(person2.age)  # Prints 0"
   ]
  },
  {
   "cell_type": "code",
   "execution_count": null,
   "id": "692527df",
   "metadata": {},
   "outputs": [],
   "source": []
  }
 ],
 "metadata": {
  "kernelspec": {
   "display_name": "Python 3 (ipykernel)",
   "language": "python",
   "name": "python3"
  },
  "language_info": {
   "codemirror_mode": {
    "name": "ipython",
    "version": 3
   },
   "file_extension": ".py",
   "mimetype": "text/x-python",
   "name": "python",
   "nbconvert_exporter": "python",
   "pygments_lexer": "ipython3",
   "version": "3.11.5"
  }
 },
 "nbformat": 4,
 "nbformat_minor": 5
}
