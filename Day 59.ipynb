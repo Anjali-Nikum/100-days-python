{
 "cells": [
  {
   "cell_type": "markdown",
   "id": "a6ab8b3b",
   "metadata": {},
   "source": [
    "# Day 59\n",
    "## Decorators\n",
    "Python decorators are a powerful and versatile tool that allow you to modify the behavior of functions and methods. They are a way to extend the functionality of a function or method without modifying its source code.\n",
    "\n",
    "A decorator is a function that takes another function as an argument and returns a new function that modifies the behavior of the original function. The new function is often referred to as a \"decorated\" function. The basic syntax for using a decorator is the following:\n",
    "\n",
    "@decorator_function\n",
    "\n",
    "def my_function():\n",
    "\n",
    "    pass"
   ]
  },
  {
   "cell_type": "code",
   "execution_count": 1,
   "id": "4ffa6994",
   "metadata": {},
   "outputs": [
    {
     "name": "stdout",
     "output_type": "stream",
     "text": [
      "hello world\n"
     ]
    }
   ],
   "source": [
    "def hello():\n",
    "    print('hello world')\n",
    "hello()"
   ]
  },
  {
   "cell_type": "markdown",
   "id": "d609e506",
   "metadata": {},
   "source": [
    "i want to print good morning for every function in starting"
   ]
  },
  {
   "cell_type": "code",
   "execution_count": 2,
   "id": "222c3f4a",
   "metadata": {},
   "outputs": [
    {
     "name": "stdout",
     "output_type": "stream",
     "text": [
      "hello world\n"
     ]
    },
    {
     "ename": "TypeError",
     "evalue": "greet.<locals>.mfx() takes 0 positional arguments but 2 were given",
     "output_type": "error",
     "traceback": [
      "\u001b[1;31m---------------------------------------------------------------------------\u001b[0m",
      "\u001b[1;31mTypeError\u001b[0m                                 Traceback (most recent call last)",
      "Cell \u001b[1;32mIn[2], line 14\u001b[0m\n\u001b[0;32m     12\u001b[0m     \u001b[38;5;28mprint\u001b[39m(a\u001b[38;5;241m+\u001b[39mb)\n\u001b[0;32m     13\u001b[0m hello()\n\u001b[1;32m---> 14\u001b[0m add(\u001b[38;5;241m3\u001b[39m,\u001b[38;5;241m4\u001b[39m)\n",
      "\u001b[1;31mTypeError\u001b[0m: greet.<locals>.mfx() takes 0 positional arguments but 2 were given"
     ]
    }
   ],
   "source": [
    "def greet(fx):\n",
    "    def mfx():\n",
    "        print('Good Morning')\n",
    "        fx()\n",
    "        print('Thanks for using this function')\n",
    "    return mfx\n",
    "# @greet\n",
    "def hello():\n",
    "    print('hello world')\n",
    "@greet\n",
    "def add(a,b):\n",
    "    print(a+b)\n",
    "hello()\n",
    "add(3,4)"
   ]
  },
  {
   "cell_type": "markdown",
   "id": "191de613",
   "metadata": {},
   "source": [
    "if we have arguments like add"
   ]
  },
  {
   "cell_type": "code",
   "execution_count": 4,
   "id": "d55e4e63",
   "metadata": {},
   "outputs": [
    {
     "name": "stdout",
     "output_type": "stream",
     "text": [
      "Good Morning\n",
      "7\n",
      "Thank for using greet function\n",
      "Good Morning\n",
      "hello world!\n",
      "Thank for using greet function\n"
     ]
    }
   ],
   "source": [
    "def greet(fx):\n",
    "    def mfx(*args,**kwargs):\n",
    "        print('Good Morning')\n",
    "        fx(*args,**kwargs)\n",
    "        print('Thank for using greet function')\n",
    "    return mfx\n",
    "@greet\n",
    "def hello():\n",
    "    print('hello world!')\n",
    "@greet\n",
    "def add(a,b):\n",
    "    print(a+b)\n",
    "    \n",
    "# greet(add)()\n",
    "add(3,4)\n",
    "\n",
    "# greet(hello)()\n",
    "hello()"
   ]
  },
  {
   "cell_type": "markdown",
   "id": "7b8a5b35",
   "metadata": {},
   "source": [
    "### Practical use case\n",
    "One common use of decorators is to add logging to a function. For example, you could use a decorator to log the arguments and return value of a function each time it is called:"
   ]
  },
  {
   "cell_type": "code",
   "execution_count": 5,
   "id": "24bea9e8",
   "metadata": {},
   "outputs": [],
   "source": [
    "import logging\n",
    "\n",
    "def log_function_call(func):\n",
    "    def decorated(*args, **kwargs):\n",
    "        logging.info(f\"Calling {func.__name__} with args={args}, kwargs={kwargs}\")\n",
    "        result = func(*args, **kwargs)\n",
    "        logging.info(f\"{func.__name__} returned {result}\")\n",
    "        return result\n",
    "    return decorated\n",
    "\n",
    "@log_function_call\n",
    "def my_function(a, b):\n",
    "    return a + b"
   ]
  },
  {
   "cell_type": "markdown",
   "id": "3934a093",
   "metadata": {},
   "source": [
    "In this example, the log_function_call decorator takes a function as an argument and returns a new function that logs the function call before and after the original function is called."
   ]
  },
  {
   "cell_type": "code",
   "execution_count": 6,
   "id": "2a28c77b",
   "metadata": {},
   "outputs": [
    {
     "data": {
      "text/plain": [
       "8"
      ]
     },
     "execution_count": 6,
     "metadata": {},
     "output_type": "execute_result"
    }
   ],
   "source": [
    "my_function(3,5)"
   ]
  },
  {
   "cell_type": "code",
   "execution_count": null,
   "id": "e89e85e6",
   "metadata": {},
   "outputs": [],
   "source": []
  }
 ],
 "metadata": {
  "kernelspec": {
   "display_name": "Python 3 (ipykernel)",
   "language": "python",
   "name": "python3"
  },
  "language_info": {
   "codemirror_mode": {
    "name": "ipython",
    "version": 3
   },
   "file_extension": ".py",
   "mimetype": "text/x-python",
   "name": "python",
   "nbconvert_exporter": "python",
   "pygments_lexer": "ipython3",
   "version": "3.11.5"
  }
 },
 "nbformat": 4,
 "nbformat_minor": 5
}
