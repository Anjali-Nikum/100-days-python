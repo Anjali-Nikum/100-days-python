{
 "cells": [
  {
   "cell_type": "markdown",
   "id": "bfe8a94e",
   "metadata": {},
   "source": [
    "# Day 60\n",
    "## Getter and Setter"
   ]
  },
  {
   "cell_type": "markdown",
   "id": "f7f90944",
   "metadata": {},
   "source": [
    "### Getters\n",
    "Getters in Python are methods that are used to access the values of an object's properties. They are used to return the value of a specific property, and are typically defined using the @property decorator. "
   ]
  },
  {
   "cell_type": "code",
   "execution_count": 1,
   "id": "9cb5e624",
   "metadata": {},
   "outputs": [
    {
     "name": "stdout",
     "output_type": "stream",
     "text": [
      "Value is 10\n",
      "100\n"
     ]
    }
   ],
   "source": [
    "class MyClass:\n",
    "    def __init__(self,value):\n",
    "        self._value=value\n",
    "    def show(self):\n",
    "        print(f'Value is {self._value}')\n",
    "    \n",
    "    @property\n",
    "    def ten_value(self):\n",
    "        return 10*self._value\n",
    "    \n",
    "obj=MyClass(10)\n",
    "obj.show()\n",
    "print(obj.ten_value)"
   ]
  },
  {
   "cell_type": "markdown",
   "id": "fd2e1bb0",
   "metadata": {},
   "source": [
    "In this example, the MyClass class has a single property, _value, which is initialized in the init method. The value method is defined as a getter using the @property decorator, and is used to return the value of the _value property."
   ]
  },
  {
   "cell_type": "code",
   "execution_count": 2,
   "id": "dcf3c6d4",
   "metadata": {},
   "outputs": [
    {
     "ename": "AttributeError",
     "evalue": "property 'ten_value' of 'MyClass' object has no setter",
     "output_type": "error",
     "traceback": [
      "\u001b[1;31m---------------------------------------------------------------------------\u001b[0m",
      "\u001b[1;31mAttributeError\u001b[0m                            Traceback (most recent call last)",
      "Cell \u001b[1;32mIn[2], line 2\u001b[0m\n\u001b[0;32m      1\u001b[0m \u001b[38;5;66;03m#if i want to change value i can't\u001b[39;00m\n\u001b[1;32m----> 2\u001b[0m obj\u001b[38;5;241m.\u001b[39mten_value\u001b[38;5;241m=\u001b[39m\u001b[38;5;241m15\u001b[39m\n",
      "\u001b[1;31mAttributeError\u001b[0m: property 'ten_value' of 'MyClass' object has no setter"
     ]
    }
   ],
   "source": [
    "#if i want to change value i can't\n",
    "obj.ten_value=15"
   ]
  },
  {
   "cell_type": "markdown",
   "id": "c9e69d1e",
   "metadata": {},
   "source": [
    "### Setters\n",
    "It is important to note that the getters do not take any parameters and we cannot set the value through getter method.For that we need setter method which can be added by decorating method with @property_name.setter"
   ]
  },
  {
   "cell_type": "code",
   "execution_count": 9,
   "id": "e50edd73",
   "metadata": {},
   "outputs": [
    {
     "name": "stdout",
     "output_type": "stream",
     "text": [
      "Value is 10\n",
      "Setter method\n",
      "Getter method\n",
      "390\n",
      "Value is 39\n"
     ]
    }
   ],
   "source": [
    "class MyClass:\n",
    "    def __init__(self,value):\n",
    "        self._value=value\n",
    "    def show(self):\n",
    "        print(f'Value is {self._value}')\n",
    "    \n",
    "    @property\n",
    "    def ten_value(self):\n",
    "        print('Getter method')\n",
    "        return 10*self._value\n",
    "    \n",
    "    @ten_value.setter\n",
    "    def ten_value(self,new_value):\n",
    "        print('Setter method')\n",
    "        self._value=new_value\n",
    "    \n",
    "obj=MyClass(10)\n",
    "obj.show()\n",
    "obj.ten_value=39\n",
    "print(obj.ten_value)\n",
    "obj.show()"
   ]
  },
  {
   "cell_type": "code",
   "execution_count": 19,
   "id": "b0df5ce7",
   "metadata": {},
   "outputs": [
    {
     "name": "stdout",
     "output_type": "stream",
     "text": [
      "getter method called\n",
      "20\n",
      "setter method called\n",
      "getter method called\n",
      "145\n"
     ]
    }
   ],
   "source": [
    "# Python program showing a \n",
    "# use of property() function \n",
    "\n",
    "class Geeks: \n",
    "    def __init__(self,value): \n",
    "        self._age = value\n",
    "\n",
    "    # function to get value of _age \n",
    "    def get_age(self): \n",
    "        print(\"getter method called\") \n",
    "        return self._age \n",
    "    \n",
    "    # function to set value of _age \n",
    "    def set_age(self, a): \n",
    "        print(\"setter method called\") \n",
    "        self._age = a \n",
    "\n",
    "    age = property(get_age, set_age) \n",
    "\n",
    "mark = Geeks(20) \n",
    "print(mark.age)\n",
    "mark.age = 145\n",
    "print(mark.age) \n"
   ]
  },
  {
   "cell_type": "code",
   "execution_count": 24,
   "id": "e11ac2a4",
   "metadata": {},
   "outputs": [
    {
     "name": "stdout",
     "output_type": "stream",
     "text": [
      "getter method called\n",
      "20\n"
     ]
    },
    {
     "ename": "ValueError",
     "evalue": "Sorry you age is below eligibility criteria",
     "output_type": "error",
     "traceback": [
      "\u001b[1;31m---------------------------------------------------------------------------\u001b[0m",
      "\u001b[1;31mValueError\u001b[0m                                Traceback (most recent call last)",
      "Cell \u001b[1;32mIn[24], line 25\u001b[0m\n\u001b[0;32m     23\u001b[0m mark \u001b[38;5;241m=\u001b[39m Geeks(\u001b[38;5;241m20\u001b[39m) \n\u001b[0;32m     24\u001b[0m \u001b[38;5;28mprint\u001b[39m(mark\u001b[38;5;241m.\u001b[39mage) \n\u001b[1;32m---> 25\u001b[0m mark\u001b[38;5;241m.\u001b[39mage \u001b[38;5;241m=\u001b[39m \u001b[38;5;241m14\u001b[39m\n\u001b[0;32m     26\u001b[0m \u001b[38;5;28mprint\u001b[39m(mark\u001b[38;5;241m.\u001b[39mage)\n",
      "Cell \u001b[1;32mIn[24], line 19\u001b[0m, in \u001b[0;36mGeeks.age\u001b[1;34m(self, a)\u001b[0m\n\u001b[0;32m     16\u001b[0m \u001b[38;5;129m@age\u001b[39m\u001b[38;5;241m.\u001b[39msetter \n\u001b[0;32m     17\u001b[0m \u001b[38;5;28;01mdef\u001b[39;00m \u001b[38;5;21mage\u001b[39m(\u001b[38;5;28mself\u001b[39m, a): \n\u001b[0;32m     18\u001b[0m \t\u001b[38;5;28;01mif\u001b[39;00m(a \u001b[38;5;241m<\u001b[39m \u001b[38;5;241m18\u001b[39m): \n\u001b[1;32m---> 19\u001b[0m \t\t\u001b[38;5;28;01mraise\u001b[39;00m \u001b[38;5;167;01mValueError\u001b[39;00m(\u001b[38;5;124m\"\u001b[39m\u001b[38;5;124mSorry you age is below eligibility criteria\u001b[39m\u001b[38;5;124m\"\u001b[39m) \n\u001b[0;32m     20\u001b[0m \t\u001b[38;5;28mprint\u001b[39m(\u001b[38;5;124m\"\u001b[39m\u001b[38;5;124msetter method called\u001b[39m\u001b[38;5;124m\"\u001b[39m) \n\u001b[0;32m     21\u001b[0m \t\u001b[38;5;28mself\u001b[39m\u001b[38;5;241m.\u001b[39m_age \u001b[38;5;241m=\u001b[39m a\n",
      "\u001b[1;31mValueError\u001b[0m: Sorry you age is below eligibility criteria"
     ]
    }
   ],
   "source": [
    "# Python program showing the use of \n",
    "# @property \n",
    "\n",
    "class Geeks: \n",
    "\tdef __init__(self,value): \n",
    "\t\tself._age = value\n",
    "\t\n",
    "\t# using property decorator \n",
    "\t# a getter function \n",
    "\t@property\n",
    "\tdef age(self): \n",
    "\t\tprint(\"getter method called\") \n",
    "\t\treturn self._age \n",
    "\t\n",
    "\t# a setter function \n",
    "\t@age.setter \n",
    "\tdef age(self, a): \n",
    "\t\tif(a < 18): \n",
    "\t\t\traise ValueError(\"Sorry you age is below eligibility criteria\") \n",
    "\t\tprint(\"setter method called\") \n",
    "\t\tself._age = a \n",
    "\n",
    "mark = Geeks(20) \n",
    "print(mark.age) \n",
    "mark.age = 14\n",
    "print(mark.age) \n"
   ]
  },
  {
   "cell_type": "code",
   "execution_count": null,
   "id": "7cd09b33",
   "metadata": {},
   "outputs": [],
   "source": []
  }
 ],
 "metadata": {
  "kernelspec": {
   "display_name": "Python 3 (ipykernel)",
   "language": "python",
   "name": "python3"
  },
  "language_info": {
   "codemirror_mode": {
    "name": "ipython",
    "version": 3
   },
   "file_extension": ".py",
   "mimetype": "text/x-python",
   "name": "python",
   "nbconvert_exporter": "python",
   "pygments_lexer": "ipython3",
   "version": "3.11.5"
  }
 },
 "nbformat": 4,
 "nbformat_minor": 5
}
