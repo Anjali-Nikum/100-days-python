{
 "cells": [
  {
   "cell_type": "markdown",
   "id": "799eea70",
   "metadata": {},
   "source": [
    "# Day 61\n",
    "## Inheritance\n",
    "It is a mechanism that allows you to create a hierarchy of classes that share a set of properties and methods by deriving a class from another class. Inheritance is the capability of one class to derive or inherit the properties from another class. "
   ]
  },
  {
   "cell_type": "code",
   "execution_count": 3,
   "id": "9d12c483",
   "metadata": {},
   "outputs": [
    {
     "name": "stdout",
     "output_type": "stream",
     "text": [
      "The name of emplyee is Rohan and id 46\n",
      "The name of emplyee is Rohit and id 47\n"
     ]
    }
   ],
   "source": [
    "class Employee:\n",
    "    def __init__(self,name,id):\n",
    "        self.name=name\n",
    "        self.id=id\n",
    "        \n",
    "    def show(self):\n",
    "        print(f'The name of emplyee is {self.name} and id {self.id}')\n",
    "obj1=Employee('Rohan','46')\n",
    "obj1.show()\n",
    "obj2=Employee('Rohit','47')\n",
    "obj2.show()"
   ]
  },
  {
   "cell_type": "code",
   "execution_count": 6,
   "id": "84dfc37f",
   "metadata": {},
   "outputs": [
    {
     "name": "stdout",
     "output_type": "stream",
     "text": [
      "The name of emplyee is Rohan and id 46\n",
      "Language is Python\n"
     ]
    }
   ],
   "source": [
    "class Employee:\n",
    "    def __init__(self,name,id):\n",
    "        self.name=name\n",
    "        self.id=id\n",
    "        \n",
    "    def show(self):\n",
    "        print(f'The name of emplyee is {self.name} and id {self.id}')\n",
    "\n",
    "class Programmer(Employee):\n",
    "    def ShowLanguage(self):\n",
    "        print('Language is Python')\n",
    "# obj1=Employee('Rohan','46')\n",
    "# obj1.show()\n",
    "# obj2=Employee('Rohit','47')\n",
    "# obj2.show()\n",
    "obj3=Programmer('Rohan','46')\n",
    "obj3.show()\n",
    "obj3.ShowLanguage()"
   ]
  },
  {
   "cell_type": "markdown",
   "id": "ce9753c6",
   "metadata": {},
   "source": [
    "### Types of Inheritance\n",
    "##### Single Inheritance\n",
    "##### Multiple Inheritance\n",
    "##### Multilevel Inheritance\n",
    "##### Hierarchical Inheritance\n",
    "##### Hybrid Inheritance"
   ]
  },
  {
   "cell_type": "markdown",
   "id": "7e9c775e",
   "metadata": {},
   "source": [
    "#### Single Inheritance\n",
    "Single inheritance enables a derived class to inherit properties from a single parent class, thus enabling code reusability and the addition of new features to existing code."
   ]
  },
  {
   "cell_type": "code",
   "execution_count": 17,
   "id": "07d40856",
   "metadata": {},
   "outputs": [
    {
     "name": "stdout",
     "output_type": "stream",
     "text": [
      "Base Class Constructor called!\n",
      "Child Class Constructor called!\n",
      "Base SHow Method called!\n",
      "Child Show Method called!\n"
     ]
    }
   ],
   "source": [
    "class Base:\n",
    "    def __init__(self):\n",
    "        print('Base Class Constructor called!')\n",
    "    def BaseShow(self):\n",
    "        print('Base SHow Method called!')\n",
    "class Child(Base):\n",
    "    def __init__(self):\n",
    "#         super().__init__()\n",
    "# or\n",
    "        Base.__init__(self)\n",
    "        print('Child Class Constructor called!')\n",
    "    def ChildShow(self):\n",
    "        print('Child Show Method called!')\n",
    "\n",
    "obj=Child()\n",
    "obj.BaseShow()\n",
    "obj.ChildShow()"
   ]
  },
  {
   "cell_type": "markdown",
   "id": "625d7177",
   "metadata": {},
   "source": [
    "#### Multiple Inheritance\n",
    "When a class can be derived from more than one base class this type of inheritance is called multiple inheritances. In multiple inheritances, all the features of the base classes are inherited into the derived class. "
   ]
  },
  {
   "cell_type": "code",
   "execution_count": 23,
   "id": "810cde57",
   "metadata": {},
   "outputs": [
    {
     "name": "stdout",
     "output_type": "stream",
     "text": [
      "Father Name : Santosh Bhati\n",
      "Mother Name : Manju Bhati\n",
      "Child Name : Rohan Bhati\n"
     ]
    }
   ],
   "source": [
    "class Father:\n",
    "    def __init__(self,Father):\n",
    "        self.father=Father\n",
    "class Mother:\n",
    "    def __init__(self,Mother):\n",
    "        self.mother=Mother\n",
    "class Children(Father,Mother):\n",
    "    def __init__(self):\n",
    "        Father.__init__(self,'Santosh Bhati')\n",
    "        Mother.__init__(self,'Manju Bhati')\n",
    "    def Child_Detail(self,name):\n",
    "        self.name=name\n",
    "        print(f'Father Name : {self.father}')\n",
    "        print(f'Mother Name : {self.mother}')\n",
    "        print(f'Child Name : {self.name}')\n",
    "o=Children()\n",
    "o.Child_Detail('Rohan Bhati')"
   ]
  },
  {
   "cell_type": "markdown",
   "id": "4278b687",
   "metadata": {},
   "source": [
    "#### Multilevel Inheritance\n",
    "In multilevel inheritance, features of the base class and the derived class are further inherited into the new derived class. This is similar to a relationship representing a child and a grandfather. \n",
    "\n"
   ]
  },
  {
   "cell_type": "code",
   "execution_count": 29,
   "id": "70dc8049",
   "metadata": {},
   "outputs": [
    {
     "name": "stdout",
     "output_type": "stream",
     "text": [
      "GrandFather Name : Parasram Bhati\n",
      "Father Name : Santosh Bhati\n",
      "Child Name : Rohan Bhati\n"
     ]
    }
   ],
   "source": [
    "class GrandFather:\n",
    "    \n",
    "    def __init__(self,grand_father_name):\n",
    "        self.grand_father_name=grand_father_name\n",
    "        \n",
    "class Father(GrandFather):\n",
    "    \n",
    "    def __init__(self,father_name,grand_father_name):\n",
    "        self.father_name=father_name\n",
    "        GrandFather.__init__(self,grand_father_name)\n",
    "        \n",
    "class Child(Father):\n",
    "    \n",
    "    def __init__(self,child_name,father_name,grand_father_name):\n",
    "            self.child_name=child_name\n",
    "            Father.__init__(self,father_name,grand_father_name)\n",
    "            \n",
    "    def Details(self):\n",
    "        print(f'''GrandFather Name : {self.grand_father_name}\n",
    "Father Name : {self.father_name}\n",
    "Child Name : {self.child_name}''')\n",
    "        \n",
    "obj=Child('Rohan Bhati','Santosh Bhati','Parasram Bhati')\n",
    "obj.Details()\n"
   ]
  },
  {
   "cell_type": "markdown",
   "id": "8191563f",
   "metadata": {},
   "source": [
    "#### Hierarchical Inheritance\n",
    "When more than one derived class are created from a single base this type of inheritance is called hierarchical inheritance. In this program, we have a parent (base) class and two child (derived) classes."
   ]
  },
  {
   "cell_type": "code",
   "execution_count": 34,
   "id": "fab918cc",
   "metadata": {},
   "outputs": [
    {
     "name": "stdout",
     "output_type": "stream",
     "text": [
      "Father Name : Santosh Bhati\n",
      "Mother Name : Manju Bhati\n",
      "Child1 Name : Rohan Bhati\n",
      "\n",
      "Father Name : Santosh Bhati\n",
      "Mother Name : Manju Bhati\n",
      "Child2 Name : Manisha Bhati\n",
      "\n",
      "Father Name : Santosh Bhati\n",
      "Mother Name : Manju Bhati\n",
      "Child3 Name : Dipika Bhati\n",
      "\n"
     ]
    }
   ],
   "source": [
    "class Parent:\n",
    "    father_name='Santosh Bhati'\n",
    "    mother_name='Manju Bhati'\n",
    "        \n",
    "class Child1(Parent):\n",
    "    def __init__(self,child1_name):\n",
    "        self.child1_name=child1_name\n",
    "    def show1(self):\n",
    "        print(f'Father Name : {self.father_name}')\n",
    "        print(f'Mother Name : {self.mother_name}')\n",
    "        print(f'Child1 Name : {self.child1_name}\\n')\n",
    "\n",
    "class Child2(Parent):\n",
    "    def __init__(self,child2_name):\n",
    "        self.child2_name=child2_name\n",
    "    def show2(self):\n",
    "        print(f'Father Name : {self.father_name}')\n",
    "        print(f'Mother Name : {self.mother_name}')\n",
    "        print(f'Child2 Name : {self.child2_name}\\n')\n",
    "\n",
    "class Child3(Parent):\n",
    "    def __init__(self,child3_name):\n",
    "        self.child3_name=child3_name\n",
    "    def show3(self):\n",
    "        print(f'Father Name : {self.father_name}')\n",
    "        print(f'Mother Name : {self.mother_name}')\n",
    "        print(f'Child3 Name : {self.child3_name}\\n')\n",
    "        \n",
    "obj1=Child1('Rohan Bhati')\n",
    "obj1.show1()\n",
    "\n",
    "obj2=Child2('Manisha Bhati')\n",
    "obj2.show2()\n",
    "\n",
    "obj3=Child3('Dipika Bhati')\n",
    "obj3.show3()"
   ]
  },
  {
   "cell_type": "markdown",
   "id": "f32e4e9b",
   "metadata": {},
   "source": [
    "#### Hybrid Inheritance\n",
    "Inheritance consisting of multiple types of inheritance is called hybrid inheritance."
   ]
  },
  {
   "cell_type": "code",
   "execution_count": 35,
   "id": "de23dd2e",
   "metadata": {},
   "outputs": [
    {
     "name": "stdout",
     "output_type": "stream",
     "text": [
      "This function in School\n",
      "This function in Student1\n",
      "This function in Student2\n",
      "This function in Student3\n"
     ]
    }
   ],
   "source": [
    "class School:\n",
    "    def func(self):\n",
    "        print('This function in School')\n",
    "class Student1(School):\n",
    "    def func1(self):\n",
    "        print('This function in Student1')\n",
    "class Student2(School):\n",
    "    def func2(self):\n",
    "        print('This function in Student2')\n",
    "class Student3(Student1,Student2):\n",
    "    def func3(self):\n",
    "        print('This function in Student3')\n",
    "        \n",
    "obj=Student3()\n",
    "obj.func()\n",
    "obj.func1()\n",
    "obj.func2()\n",
    "obj.func3()"
   ]
  },
  {
   "cell_type": "code",
   "execution_count": null,
   "id": "1656fcfd",
   "metadata": {},
   "outputs": [],
   "source": []
  }
 ],
 "metadata": {
  "kernelspec": {
   "display_name": "Python 3 (ipykernel)",
   "language": "python",
   "name": "python3"
  },
  "language_info": {
   "codemirror_mode": {
    "name": "ipython",
    "version": 3
   },
   "file_extension": ".py",
   "mimetype": "text/x-python",
   "name": "python",
   "nbconvert_exporter": "python",
   "pygments_lexer": "ipython3",
   "version": "3.11.5"
  }
 },
 "nbformat": 4,
 "nbformat_minor": 5
}
